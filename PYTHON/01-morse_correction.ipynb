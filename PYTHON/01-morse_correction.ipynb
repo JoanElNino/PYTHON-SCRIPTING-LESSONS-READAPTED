{
 "cells": [
  {
   "cell_type": "markdown",
   "metadata": {},
   "source": [
    "# Envoyer du Morse grâce à Python\n",
    "\n",
    "Dans ce notebook vous allez découvrir et manipuler les notions suivantes :\n",
    "\n",
    "1. [Les Variables](#1.-Les-Variables)\n",
    "2. [Les Fonctions](#2.-Les-fonctions)\n",
    "3. [Les Conditions](#3.-Les-Conditions)\n",
    "\n",
    "Essayons de créer un programme simple permettant d'envoyer des signaux en Morse.\n",
    "\n",
    "En cas d'urgence et de panique liée à cet ordinateur, vous pouvez avoir besoin\n",
    "d'envoyer un signal de détresse.\n",
    "\n",
    "Le signal de détresse, SOS (Save Our Soul) est en effet le signal le plus connu\n",
    "pour communiquer sa situation critique par la lumière ou par le son. Il est\n",
    "utilisé par les bateaux et par les naufragé(e)s en situation de détresse. Nous\n",
    "allons pour notre part commencer à afficher des signaux morse depuis le notebook.\n",
    "En commencant par notre fameux signal de détresse SOS.\n",
    "\n",
    "#### Pour écrire un SOS en morse :\n",
    "\n",
    "S.O.S va se traduire en morse par (`...` `---` `...`) soit 3 signaux courts suivis de 3\n",
    "signaux longs. Le S est donc égal à `\"...\"` et le O à `\"---\"`.\n",
    "\n",
    "<div class=\"alert alert-success\">\n",
    "<b>Exercice :</b> Faire afficher le signal, en morse, correspondant à S.O.S. avec la fonction <code>print()</code>\n",
    "</div>\n",
    "\n",
    "Si vous ne vous souvenez pas de la fonction [`print()`](http://docs.python.org/3/library/functions.html#print)\n",
    "(pour afficher des choses), demandez de l'aide avec `?` ou `help()`."
   ]
  },
  {
   "cell_type": "code",
   "execution_count": 1,
   "metadata": {},
   "outputs": [
    {
     "name": "stdout",
     "output_type": "stream",
     "text": [
      "...---...\n"
     ]
    }
   ],
   "source": [
    "print(\"...---...\")"
   ]
  },
  {
   "cell_type": "markdown",
   "metadata": {},
   "source": [
    "Notre programme a besoin de quelques améliorations.\n",
    "Si quelqu'un souhaite envoyer un autre message que \"SOS\", nous devons écrire une nouvelle ligne.\n",
    "\n",
    "Programmer c'est l'art de résoudre les problèmes, alors mettons nous au\n",
    "travail ! Cela va nous donner l'occasion d'apprendre de nouvelles\n",
    "fonctionnalités de Python.\n",
    "\n",
    "## 1. Les Variables\n",
    "\n",
    "Pour commencer nous aimerions bien rendre notre programme plus lisible, pour\n",
    "permettre au lecteur de savoir immédiatement quel code morse correspond à\n",
    "quelle lettre (... correspond à \"S\" et --- correspond à \"O\").\n",
    "\n",
    "C'est pourquoi nous donnons des noms à ces valeurs :"
   ]
  },
  {
   "cell_type": "markdown",
   "metadata": {},
   "source": [
    "<div class=\"alert alert-success\">\n",
    "<b>Exercice :</b> Affecter le code de chaque lettre à une variable du même nom, puis afficher le SOS.\n",
    "\n",
    "*Aide :* L'addition de deux chaînes de caractères permet de les concaténer.\n",
    "</div>"
   ]
  },
  {
   "cell_type": "code",
   "execution_count": 2,
   "metadata": {},
   "outputs": [
    {
     "name": "stdout",
     "output_type": "stream",
     "text": [
      "...---...\n"
     ]
    }
   ],
   "source": [
    "s = \"...\"\n",
    "o = \"---\"\n",
    "print(s + o + s)"
   ]
  },
  {
   "cell_type": "markdown",
   "metadata": {},
   "source": [
    "Le résultat n'a pas changé:\n",
    "\n",
    "*Remarque :*\n",
    "Ici on utilise l'opérateur + qui sert à concaténer (coller) deux chaines de\n",
    "caractères entre elles. Tapez par exemple les instructions suivantes :"
   ]
  },
  {
   "cell_type": "code",
   "execution_count": 1,
   "metadata": {},
   "outputs": [
    {
     "data": {
      "text/plain": [
       "'Bonjour a toutes et a tous'"
      ]
     },
     "execution_count": 1,
     "metadata": {},
     "output_type": "execute_result"
    }
   ],
   "source": [
    "\"Bonjour\" + \" a toutes et a tous\""
   ]
  },
  {
   "cell_type": "markdown",
   "metadata": {},
   "source": [
    "Pour mieux comprendre le fonctionnement des variables, essayons d'en créer quelques-unes :"
   ]
  },
  {
   "cell_type": "code",
   "execution_count": 4,
   "metadata": {},
   "outputs": [
    {
     "name": "stdout",
     "output_type": "stream",
     "text": [
      "Quelques valeurs: 42 3.1415 Amelia\n"
     ]
    }
   ],
   "source": [
    "x = 42\n",
    "PI = 3.1415\n",
    "name = \"Amelia\"\n",
    "print(\"Quelques valeurs:\", x, PI, name)"
   ]
  },
  {
   "cell_type": "markdown",
   "metadata": {},
   "source": [
    "En programmation, le signe égal désigne une *affectation* et non une égalité.\n",
    "On dit \"x reçoit 42\" ou \"pi reçoit 3.1415\".\n",
    "\n",
    "Une variable peut être vue comme une boite portant une étiquette :\n",
    "\n",
    "* Elle contient quelque chose (on dit que la variable contient une valeur)\n",
    "* Elle a un nom (comme l'inscription sur l'étiquette de la boite)\n",
    "\n",
    "Deux variables (ayant des noms différents) peuvent contenir la même valeur :"
   ]
  },
  {
   "cell_type": "code",
   "execution_count": 5,
   "metadata": {},
   "outputs": [
    {
     "name": "stdout",
     "output_type": "stream",
     "text": [
      "42 42\n"
     ]
    }
   ],
   "source": [
    "x = 42\n",
    "y = x\n",
    "print(x, y)"
   ]
  },
  {
   "cell_type": "markdown",
   "metadata": {},
   "source": [
    "Ici les deux variables ont pour noms y et x (se sont les étiquettes sur les\n",
    "boites) et elles contiennent la même valeur : 42\n",
    "\n",
    "On peut également modifier la valeur d'une variable (changer le contenu de la\n",
    "boite). La nouvelle valeur n'a pas besoin d'être du même type (nombre entier,\n",
    "nombre décimal, texte ...) que la précédente :"
   ]
  },
  {
   "cell_type": "code",
   "execution_count": 6,
   "metadata": {},
   "outputs": [
    {
     "name": "stdout",
     "output_type": "stream",
     "text": [
      "13\n",
      "Scarab\n"
     ]
    }
   ],
   "source": [
    "x = 13\n",
    "print(x)\n",
    "x = \"Scarab\"\n",
    "print(x)"
   ]
  },
  {
   "cell_type": "markdown",
   "metadata": {},
   "source": [
    "Les variables sont indépendantes les unes des autres. Si on modifie la valeur\n",
    "de x, la valeur de y reste la même :"
   ]
  },
  {
   "cell_type": "code",
   "execution_count": 7,
   "metadata": {},
   "outputs": [
    {
     "name": "stdout",
     "output_type": "stream",
     "text": [
      "42\n"
     ]
    }
   ],
   "source": [
    "print(y)"
   ]
  },
  {
   "cell_type": "markdown",
   "metadata": {},
   "source": [
    "*Remarque :* Dans certains cas, comme les listes, les variables peuvent rester liées \n",
    "car python ne fait pas de *vrai* copies indépendantes. Nous reparlerons de cela plus tard.\n",
    "\n",
    "Nous pouvons également mettre le résultat de calculs ou d'opérations dans des\n",
    "variables et utiliser ensuite ces variables comme alias de la valeur dans\n",
    "d'autres calculs."
   ]
  },
  {
   "cell_type": "code",
   "execution_count": 8,
   "metadata": {},
   "outputs": [
    {
     "name": "stdout",
     "output_type": "stream",
     "text": [
      "...---...\n"
     ]
    }
   ],
   "source": [
    "s = \"...\"\n",
    "o = \"---\"\n",
    "aidez_moi = s + o + s\n",
    "print(aidez_moi)"
   ]
  },
  {
   "cell_type": "markdown",
   "metadata": {},
   "source": [
    "À noter qu'une fois que la valeur est calculée, elle n'est pas modifiée :"
   ]
  },
  {
   "cell_type": "code",
   "execution_count": 9,
   "metadata": {},
   "outputs": [
    {
     "name": "stdout",
     "output_type": "stream",
     "text": [
      "...---...\n"
     ]
    }
   ],
   "source": [
    "s = \"@\"\n",
    "print(aidez_moi)"
   ]
  },
  {
   "cell_type": "markdown",
   "metadata": {},
   "source": [
    "Sauf si on demande à Python de la recalculer :"
   ]
  },
  {
   "cell_type": "code",
   "execution_count": 10,
   "metadata": {},
   "outputs": [
    {
     "name": "stdout",
     "output_type": "stream",
     "text": [
      "@---@\n"
     ]
    }
   ],
   "source": [
    "aidez_moi = s + o + s\n",
    "print(aidez_moi)"
   ]
  },
  {
   "cell_type": "markdown",
   "metadata": {},
   "source": [
    "Il est grand temps d'ajouter quelques commentaires à notre programme afin de\n",
    "faciliter la compréhension pour les lecteurs-trices (dont nous faisons parti).\n",
    "\n",
    "Les commentaires nous permettent de rajouter du texte dans notre code Python.\n",
    "Les commentaires seront simplement ignorés par l'interpréteur Python lors de\n",
    "l'exécution du code.\n",
    "\n",
    "En Python, un commentaire est tout ce qui se trouve entre un caractère # et la\n",
    "fin de la ligne:"
   ]
  },
  {
   "cell_type": "code",
   "execution_count": 11,
   "metadata": {},
   "outputs": [
    {
     "name": "stdout",
     "output_type": "stream",
     "text": [
      "...---...\n"
     ]
    }
   ],
   "source": [
    "# Code Morse du \"S\"\n",
    "s = \"...\"\n",
    "\n",
    "# Code Morse du \"O\"\n",
    "o = \"---\"\n",
    "\n",
    "aidez_moi = s + o + s # Code Morse pour \"SOS\"\n",
    "print(aidez_moi)"
   ]
  },
  {
   "cell_type": "markdown",
   "metadata": {},
   "source": [
    "Dans un jupyter notebook il est aussi possible d'ajouter des cellules dédiées à \n",
    "l'écriture de textes et/ou de commentaires en plus de ceux présents dans le code. \n",
    "\n",
    "Créer une nouvelle cellule avec la touche `a` (above) ou `b` (below) ou le signe + \n",
    "dans la barre d'outils. Puis avec le menu déroulant de la barre d'outils choisir \n",
    "`Markdown` (ou touche `m`)."
   ]
  },
  {
   "cell_type": "markdown",
   "metadata": {},
   "source": [
    "## 2. Les fonctions\n",
    "\n",
    "Notre programme n'est pas trop mal, mais si l'utilisateur(trice) souhaite\n",
    "pouvoir envoyer plusieurs SOS, ou bien réutiliser ce bout de programme sans\n",
    "dupliquer trop de lignes, il va falloir empaqueter notre fonctionnalité dans ce\n",
    "qu'on appelle une fonction.\n",
    "\n",
    "Une fonction, c'est un mini moteur, un groupe d'instructions qui prend des\n",
    "données en entrée, execute les instructions (calcule) en utilisant (ou pas) les\n",
    "données en entrée et renvoie (ou pas) un résultat en sortie.\n",
    "\n",
    "En Python on définie une fonction comme suit:\n",
    "\n",
    "```py\n",
    "def nom_de_la_fonction(argument1, argument2):\n",
    "    \"\"\"\n",
    "    Documentation de la foncion : qu'est ce qu'elle fait, à quoi correspondent\n",
    "    les arguments :\n",
    "\n",
    "    Args:\n",
    "        argument1: bla bla\n",
    "        argument2: bla bla\n",
    "        \n",
    "    Returns:\n",
    "        Ce que retourne la fonction, ou le résultat\n",
    "    \"\"\"\n",
    "    # les instructions à executer\n",
    "    # les instructions peuvent utiliser les arguments\n",
    "    # pour retourner un résultat il faut utiliser le mot clef \"return\"\n",
    "    # Si la fonction ne retourne rien, \"return\" est optionel\n",
    "    return 42\n",
    "```\n",
    "\n",
    "Pour executer cette fonction (on dit \"appeller\" la fonction):\n",
    "\n",
    "```py\n",
    "nom_de_la_fonction(argument1, argument2)\n",
    "```\n",
    "\n",
    "Vous avez déjà fait ça s'en vous en rendre compte en utilisant la fonction `print()`. Elle prend comme arguement ce que vous voulez imprimer à l'écran et elle l'affiche.\n",
    "\n",
    "Pour récupérer la valeur de retour (résultat, sortie) de la fonction dans une\n",
    "variable:\n",
    "\n",
    "```py\n",
    "ma_variable = nom_de_la_fonction(argument1, argument2)\n",
    "```\n",
    "\n",
    "Ouvrons une parenthèse et commençons par faire une simple fonction mathématique, \n",
    "par exemple la fonction :\n",
    "\n",
    "$$f: x \\longrightarrow 3x^2$$\n",
    "\n",
    "Cette fonction prend $x$ comme argument et affiche/retourne le résultat de $3x^2$."
   ]
  },
  {
   "cell_type": "code",
   "execution_count": 12,
   "metadata": {},
   "outputs": [],
   "source": [
    "def f(x):\n",
    "    \"\"\" fonction 3x^2 \"\"\"\n",
    "    print(3 * x ** 2)"
   ]
  },
  {
   "cell_type": "markdown",
   "metadata": {},
   "source": [
    "Appelons maintenant notre fonction $x = 1$"
   ]
  },
  {
   "cell_type": "code",
   "execution_count": 13,
   "metadata": {},
   "outputs": [
    {
     "name": "stdout",
     "output_type": "stream",
     "text": [
      "3\n"
     ]
    }
   ],
   "source": [
    "f(1)"
   ]
  },
  {
   "cell_type": "markdown",
   "metadata": {},
   "source": [
    "Améliorons les choses. Utilisons l'instruction `return` permettant de retourner\n",
    "le résultat et ensuite en disposer pour faire autre chose :"
   ]
  },
  {
   "cell_type": "code",
   "execution_count": 14,
   "metadata": {},
   "outputs": [],
   "source": [
    "def f(x):\n",
    "    \"\"\" fonction 3x^2 \"\"\"\n",
    "    return 3 * x ** 2"
   ]
  },
  {
   "cell_type": "code",
   "execution_count": 15,
   "metadata": {},
   "outputs": [
    {
     "data": {
      "text/plain": [
       "3"
      ]
     },
     "execution_count": 15,
     "metadata": {},
     "output_type": "execute_result"
    }
   ],
   "source": [
    "f(1)"
   ]
  },
  {
   "cell_type": "markdown",
   "metadata": {},
   "source": [
    "Notez la différence avec la fonction précédente et la présence de `out[23]:`. C'est à cause de l'instruction `return` qui vous renvoie la valeur alors que précédemment, `print()` se contentait d'afficher le résultat.\n",
    "Il est maintenant possible récupérer le résultat dans une variable :"
   ]
  },
  {
   "cell_type": "code",
   "execution_count": 16,
   "metadata": {},
   "outputs": [
    {
     "name": "stdout",
     "output_type": "stream",
     "text": [
      "f(2) =  12\n"
     ]
    }
   ],
   "source": [
    "y = f(2)\n",
    "print(\"f(2) = \", y)"
   ]
  },
  {
   "cell_type": "markdown",
   "metadata": {},
   "source": [
    "Imaginons maintenant que nous souhaitons généraliser notre fonction à la famille de fonctions suivante :\n",
    "\n",
    "$$f: x \\longrightarrow a x^2$$\n",
    "\n",
    "avec $a$ un nombre réel quelconque. Voici comment la fonction pourrait s'écrire :"
   ]
  },
  {
   "cell_type": "code",
   "execution_count": 17,
   "metadata": {},
   "outputs": [],
   "source": [
    "def f(x, a=3):\n",
    "    \"\"\" \n",
    "    function a x^2 \n",
    "    \n",
    "    args:\n",
    "        x (float): x value\n",
    "        a (float): parameter (optional, default a = 3)\n",
    "        \n",
    "    returns\n",
    "        a * x**2\n",
    "    \"\"\"\n",
    "    return a * x ** 2"
   ]
  },
  {
   "cell_type": "markdown",
   "metadata": {},
   "source": [
    "Ici, $a$ est un argument optionnel car dans la définition de la fonciton une valeur par défaut lui est donnée.\n",
    "Cela permet d'utiliser la fonction sans préciser sa valeur. Voici quelques exemples d'utilisation et de syntaxe :"
   ]
  },
  {
   "cell_type": "code",
   "execution_count": 18,
   "metadata": {},
   "outputs": [
    {
     "name": "stdout",
     "output_type": "stream",
     "text": [
      "f(2) =  12\n",
      "f(2, 3) =  18\n",
      "f(1, a=1) =  1\n",
      "f(x=4, a=2) =  32\n",
      "f(a=2, x=4) =  32\n"
     ]
    }
   ],
   "source": [
    "# sans donner la valeur de a (on prend la valeur par défaut)\n",
    "y = f(2)\n",
    "print(\"f(2) = \", y)\n",
    "# ici x est le premier argument et a = 2\n",
    "y = f(3, 2)\n",
    "print(\"f(2, 3) = \", y)\n",
    "# passage nommé des arguments, ici a = 1\n",
    "y = f(1, a=1)\n",
    "print(\"f(1, a=1) = \", y)\n",
    "# passage nommé de tous les arguments\n",
    "y = f(x=4, a=2)\n",
    "print(\"f(x=4, a=2) = \", y)\n",
    "# idem, l'ordre n'a pas d'importance\n",
    "y = f(a=2, x=4)\n",
    "print(\"f(a=2, x=4) = \", y)"
   ]
  },
  {
   "cell_type": "markdown",
   "metadata": {},
   "source": [
    "Cet exemple illustre la souplesse des fonctions python. Le plus simple est de pratiquer donc à vous de jouer ! \n",
    "\n",
    "Par exemple écrire la fonction qui calcule `x + y` (ou `ax + by`) :"
   ]
  },
  {
   "cell_type": "code",
   "execution_count": 19,
   "metadata": {},
   "outputs": [],
   "source": [
    "def linear_combination(x, y, a=1, b=1):\n",
    "    \"\"\" Compute the linear combination ax + by \"\"\"\n",
    "    return a * x + b * y"
   ]
  },
  {
   "cell_type": "code",
   "execution_count": 20,
   "metadata": {},
   "outputs": [
    {
     "data": {
      "text/plain": [
       "5"
      ]
     },
     "execution_count": 20,
     "metadata": {},
     "output_type": "execute_result"
    }
   ],
   "source": [
    "linear_combination(3, 2)"
   ]
  },
  {
   "cell_type": "code",
   "execution_count": 21,
   "metadata": {},
   "outputs": [
    {
     "data": {
      "text/plain": [
       "-1"
      ]
     },
     "execution_count": 21,
     "metadata": {},
     "output_type": "execute_result"
    }
   ],
   "source": [
    "linear_combination(3, 2, a=1, b=-2)"
   ]
  },
  {
   "cell_type": "markdown",
   "metadata": {},
   "source": [
    "--- \n",
    "\n",
    "Après cette longue parenthèse sur les fonctions, retournons nous occuper de notre signal de détresse !\n",
    "\n",
    "Notre première fonction va se contenter d'imprimer notre signal de détresse.\n",
    "On crée donc la fonction et on l'appelle en suivant :"
   ]
  },
  {
   "cell_type": "code",
   "execution_count": 22,
   "metadata": {},
   "outputs": [],
   "source": [
    "def print_sos():\n",
    "    \"\"\" Écrit SOS en Morse \"\"\"\n",
    "    s = \"...\"\n",
    "    o = \"---\"\n",
    "    print(s + o + s)"
   ]
  },
  {
   "cell_type": "code",
   "execution_count": 23,
   "metadata": {},
   "outputs": [
    {
     "name": "stdout",
     "output_type": "stream",
     "text": [
      "...---...\n"
     ]
    }
   ],
   "source": [
    "print_sos()"
   ]
  },
  {
   "cell_type": "markdown",
   "metadata": {},
   "source": [
    "**Note :** On remarque qu'ici notre fonction ne prend aucun argument et ne\n",
    "renvoie aucune valeur (pas de mot clef `return`). J'ai maintenant une fonction\n",
    "toute simple que je peux appeler à plusieurs reprises juste en duplicant\n",
    "l'appel `print_sos()`.\n",
    "\n",
    "On peut aussi vouloir découper le signal et signifier que notre mot est terminé.\n",
    "On va donc ajouter une nouvelle variable \"stop\" pour découper le mot et ainsi\n",
    "savoir quand le mot est terminé:"
   ]
  },
  {
   "cell_type": "code",
   "execution_count": 24,
   "metadata": {},
   "outputs": [],
   "source": [
    "def print_sos():\n",
    "    \"\"\" Écrit SOS en Morse \"\"\"\n",
    "    s = \"...\"\n",
    "    o = \"---\"\n",
    "    stop = \"|\"\n",
    "    print(s + o + s + stop)"
   ]
  },
  {
   "cell_type": "code",
   "execution_count": 25,
   "metadata": {},
   "outputs": [
    {
     "name": "stdout",
     "output_type": "stream",
     "text": [
      "...---...|\n"
     ]
    }
   ],
   "source": [
    "print_sos()"
   ]
  },
  {
   "cell_type": "markdown",
   "metadata": {},
   "source": [
    "On peut encore simplifier notre code en remarquant que s contient 3 points et o\n",
    "contient 3 tirets. Il se trouve qu'on peut dupliquer une chaine de caractères en\n",
    "utilisant la syntaxe suivante:"
   ]
  },
  {
   "cell_type": "code",
   "execution_count": 26,
   "metadata": {},
   "outputs": [
    {
     "data": {
      "text/plain": [
       "'hellohello'"
      ]
     },
     "execution_count": 26,
     "metadata": {},
     "output_type": "execute_result"
    }
   ],
   "source": [
    "\"hello\"*2"
   ]
  },
  {
   "cell_type": "markdown",
   "metadata": {},
   "source": [
    "On peut donc obtenir \"...\" en faisant \".\" * 3:"
   ]
  },
  {
   "cell_type": "code",
   "execution_count": 27,
   "metadata": {},
   "outputs": [],
   "source": [
    "def print_sos():\n",
    "    \"\"\" Écrit SOS en Morse \"\"\"\n",
    "    s = \".\" * 3\n",
    "    o = \"-\" * 3\n",
    "    stop = \"|\"\n",
    "    print(s + o + s + stop)"
   ]
  },
  {
   "cell_type": "code",
   "execution_count": 28,
   "metadata": {},
   "outputs": [
    {
     "name": "stdout",
     "output_type": "stream",
     "text": [
      "...---...|\n"
     ]
    }
   ],
   "source": [
    "print_sos()"
   ]
  },
  {
   "cell_type": "markdown",
   "metadata": {},
   "source": [
    "Si maintenant on veut afficher plusieurs SOS, on peut écrire autant de fois que\n",
    "nécessaire print_sos() à la fin du fichier. Mais les informaticien(ne)s sont\n",
    "flemmard(e)s et la machine est là pour nous éviter de refaire la même chose et\n",
    "faire le travail répétitif et ennuyeux.\n",
    "\n",
    "On a besoin de dire à la machine combien de fois on veut imprimer notre SOS. On\n",
    "va donc modifier la fonction et lui passer le nombre de fois que l'on veut\n",
    "imprimer le signal SOS en argument.\n",
    "\n",
    "<div class=\"alert alert-success\">\n",
    "<b>Exercice :</b> Modifier la fonction <code>print_sos()</code> pour qu'elle affiche le nombre demandé de SOS.\n",
    "</div>"
   ]
  },
  {
   "cell_type": "code",
   "execution_count": 29,
   "metadata": {},
   "outputs": [],
   "source": [
    "def print_sos(nb):\n",
    "    \"\"\" Écrit SOS en Morse nb fois \"\"\"\n",
    "    s = \".\" * 3\n",
    "    o = \"-\" * 3\n",
    "    stop = \"|\"\n",
    "    message = (s + o + s + stop) * nb\n",
    "    print(message)"
   ]
  },
  {
   "cell_type": "code",
   "execution_count": 30,
   "metadata": {},
   "outputs": [
    {
     "name": "stdout",
     "output_type": "stream",
     "text": [
      "...---...|...---...|...---...|\n"
     ]
    }
   ],
   "source": [
    "print_sos(3)"
   ]
  },
  {
   "cell_type": "markdown",
   "metadata": {},
   "source": [
    "<div class=\"alert alert-success\">\n",
    "<b>Exercice :</b> Pour qu'on puisse mieux lire les différents SOS et visualiser la fin de la\n",
    "phrase ajouter un retour à la ligne <code>\\n</code>, à la suite de chaque stop.\n",
    "</div>"
   ]
  },
  {
   "cell_type": "code",
   "execution_count": 31,
   "metadata": {},
   "outputs": [],
   "source": [
    "def print_sos(nb):\n",
    "    \"\"\" Écrit SOS en Morse nb fois \"\"\"\n",
    "    s = \".\" * 3\n",
    "    o = \"-\" * 3\n",
    "    stop = \"|\"\n",
    "    message = (s + o + s + stop + \"\\n\") * nb\n",
    "    print(message)"
   ]
  },
  {
   "cell_type": "code",
   "execution_count": 32,
   "metadata": {},
   "outputs": [
    {
     "name": "stdout",
     "output_type": "stream",
     "text": [
      "...---...|\n",
      "...---...|\n",
      "...---...|\n",
      "\n"
     ]
    }
   ],
   "source": [
    "print_sos(3)"
   ]
  },
  {
   "cell_type": "markdown",
   "metadata": {},
   "source": [
    "On a donc une fonction qui prend en entrée le nombre de fois que l'on veut\n",
    "emettre le signal SOS. Pour l'instant elle ne se contente que d'afficher le nombre requis de SOS. Si on\n",
    "veut rendre ce programme encore plus facile à utiliser, imaginons par exemple\n",
    "que nous ayons un robot qui transforme le . et le - en sons différents, ou une\n",
    "machine qui allume et éteigne une lampe plus ou moins longtemps. On peut vouloir\n",
    "que cette fonction retourne la chaine de caractère du message à transmettre sans\n",
    "l'afficher dans le notebook. On pourra ensuite mettre cette chaine dans une\n",
    "variable et la passer en argument à une autre fonction dont le rôle sera\n",
    "d'émettre du son ou d'allumer une lampe. \n",
    "\n",
    "On va donc demander à la fonction de\n",
    "retourner (via `return`) le message en morse et donc on va changer le nom de la\n",
    "fonction de `print_sos` à `emit_sos`.\n",
    "\n",
    "<div class=\"alert alert-success\">\n",
    "<b>Exercice :</b> Écrire la fonction <code>emit_sos()</code> qui retourne une chaine de charactères contenant le nombre adéquat de SOS. Faire ensuite afficher le résultat retourné par la fonction avec <code>print()</code>.\n",
    "</div>"
   ]
  },
  {
   "cell_type": "code",
   "execution_count": 33,
   "metadata": {},
   "outputs": [],
   "source": [
    "def emit_sos(nb):\n",
    "    \"\"\" Renvoie SOS en Morse nb fois \"\"\"\n",
    "    s = \".\" * 3\n",
    "    o = \"-\" * 3\n",
    "    stop = \"|\"\n",
    "    message = (s + o + s + stop + \"\\n\") * nb\n",
    "    return message"
   ]
  },
  {
   "cell_type": "code",
   "execution_count": 34,
   "metadata": {},
   "outputs": [],
   "source": [
    "message = emit_sos(5)"
   ]
  },
  {
   "cell_type": "code",
   "execution_count": 35,
   "metadata": {},
   "outputs": [
    {
     "name": "stdout",
     "output_type": "stream",
     "text": [
      "...---...|\n",
      "...---...|\n",
      "...---...|\n",
      "...---...|\n",
      "...---...|\n",
      "\n"
     ]
    }
   ],
   "source": [
    "print(message)"
   ]
  },
  {
   "cell_type": "markdown",
   "metadata": {},
   "source": [
    "`emit_sos()` retourne une chaine de caractère que `print()` va\n",
    "afficher. On a donc créé une fonction réutilisable, et que l'on peut greffer à d'autre\n",
    "comme par exemple emettre un son ou encore allumer et éteindre un phare.\n",
    "\n",
    "Mais avant de gérer les phares et cassez les oreilles des autres, nous allons\n",
    "plutôt interagir avec notre machine à sos et nous familiariser avec elle.\n",
    "\n",
    "### Les entrées/sorties\n",
    "\n",
    "Un peu d'interactivité avec l'utilisateur(trice) serait la bienvenue, par exemple\n",
    "demander à l'utilisateur(trice) de rentrer au clavier le nombre de fois qu'il\n",
    "faut afficher le SOS.\n",
    "\n",
    "Pour cela, nous allons utiliser la fonction `input()` (fonctionne seulement avec Python 3,\n",
    "si vous utilisez Python 2 remplacez `input()` par `raw_input()`).\n",
    "\n",
    "La fonction `input()` laisse l'utilisateur(trice) taper un message (terminé par\n",
    "l'appui sur la touche Entrée) puis retourne la chaine de caractère qui a été\n",
    "tapée :"
   ]
  },
  {
   "cell_type": "code",
   "execution_count": 36,
   "metadata": {},
   "outputs": [
    {
     "name": "stdout",
     "output_type": "stream",
     "text": [
      "3\n"
     ]
    },
    {
     "data": {
      "text/plain": [
       "'3'"
      ]
     },
     "execution_count": 36,
     "metadata": {},
     "output_type": "execute_result"
    }
   ],
   "source": [
    "input()"
   ]
  },
  {
   "cell_type": "markdown",
   "metadata": {},
   "source": [
    "Le résultat peut bien sûr être stoqué dans une variable afin de l'utiliser par\n",
    "la suite :"
   ]
  },
  {
   "cell_type": "code",
   "execution_count": 37,
   "metadata": {},
   "outputs": [
    {
     "name": "stdout",
     "output_type": "stream",
     "text": [
      "Coucou\n",
      "Vous avez tape :  Coucou\n"
     ]
    }
   ],
   "source": [
    "message = input()\n",
    "print(\"Vous avez tape : \", message)"
   ]
  },
  {
   "cell_type": "markdown",
   "metadata": {},
   "source": [
    "Essayons maintenant de l'intégrer à notre machine à SOS:\n",
    "\n",
    "<div class=\"alert alert-success\">\n",
    "<b>Exercice :</b> À l'aide de la fonction <code>input()</code> demander à l'utilisateur(trice) combien de fois il(elle) souhaite afficher de SOS et faire afficher le message en conséquence.\n",
    "</div>\n",
    "\n",
    "Rappel: La fonction `input()` retourne une chaine de caractères. On ne peut pas multiplier entre elles des chaînes de caractères. Vous devez donc transformer le nombre en nombre entier (*integer*). Pour cela, utilisez la fonction `int()`. Vérifier avec `type()` le type des variables."
   ]
  },
  {
   "cell_type": "code",
   "execution_count": 41,
   "metadata": {},
   "outputs": [
    {
     "name": "stdout",
     "output_type": "stream",
     "text": [
      "Entrez le nombre de SOS que vous voulez: \n",
      "5\n"
     ]
    },
    {
     "ename": "TypeError",
     "evalue": "can't multiply sequence by non-int of type 'str'",
     "output_type": "error",
     "traceback": [
      "\u001b[0;31m---------------------------------------------------------------------------\u001b[0m",
      "\u001b[0;31mTypeError\u001b[0m                                 Traceback (most recent call last)",
      "\u001b[0;32m<ipython-input-41-a3ccb9aa6081>\u001b[0m in \u001b[0;36m<module>\u001b[0;34m()\u001b[0m\n\u001b[1;32m      9\u001b[0m \u001b[0mprint\u001b[0m\u001b[0;34m(\u001b[0m\u001b[0;34m\"Entrez le nombre de SOS que vous voulez: \"\u001b[0m\u001b[0;34m)\u001b[0m\u001b[0;34m\u001b[0m\u001b[0m\n\u001b[1;32m     10\u001b[0m \u001b[0mnb_sos\u001b[0m \u001b[0;34m=\u001b[0m \u001b[0minput\u001b[0m\u001b[0;34m(\u001b[0m\u001b[0;34m)\u001b[0m\u001b[0;34m\u001b[0m\u001b[0m\n\u001b[0;32m---> 11\u001b[0;31m \u001b[0mprint\u001b[0m\u001b[0;34m(\u001b[0m\u001b[0memit_sos\u001b[0m\u001b[0;34m(\u001b[0m\u001b[0mnb_sos\u001b[0m\u001b[0;34m)\u001b[0m\u001b[0;34m)\u001b[0m\u001b[0;34m\u001b[0m\u001b[0m\n\u001b[0m",
      "\u001b[0;32m<ipython-input-41-a3ccb9aa6081>\u001b[0m in \u001b[0;36memit_sos\u001b[0;34m(nb)\u001b[0m\n\u001b[1;32m      4\u001b[0m     \u001b[0mo\u001b[0m \u001b[0;34m=\u001b[0m \u001b[0;34m\"-\"\u001b[0m \u001b[0;34m*\u001b[0m \u001b[0;36m3\u001b[0m\u001b[0;34m\u001b[0m\u001b[0m\n\u001b[1;32m      5\u001b[0m     \u001b[0mstop\u001b[0m \u001b[0;34m=\u001b[0m \u001b[0;34m\"|\"\u001b[0m\u001b[0;34m\u001b[0m\u001b[0m\n\u001b[0;32m----> 6\u001b[0;31m     \u001b[0mmessage\u001b[0m \u001b[0;34m=\u001b[0m \u001b[0;34m(\u001b[0m\u001b[0ms\u001b[0m \u001b[0;34m+\u001b[0m \u001b[0mo\u001b[0m \u001b[0;34m+\u001b[0m \u001b[0ms\u001b[0m \u001b[0;34m+\u001b[0m \u001b[0mstop\u001b[0m\u001b[0;34m)\u001b[0m \u001b[0;34m*\u001b[0m \u001b[0mnb\u001b[0m\u001b[0;34m\u001b[0m\u001b[0m\n\u001b[0m\u001b[1;32m      7\u001b[0m     \u001b[0;32mreturn\u001b[0m \u001b[0mmessage\u001b[0m\u001b[0;34m\u001b[0m\u001b[0m\n\u001b[1;32m      8\u001b[0m \u001b[0;34m\u001b[0m\u001b[0m\n",
      "\u001b[0;31mTypeError\u001b[0m: can't multiply sequence by non-int of type 'str'"
     ]
    }
   ],
   "source": [
    "def emit_sos(nb):\n",
    "    \"\"\" Renvoie SOS en Morse nb fois \"\"\"\n",
    "    s = \".\" * 3\n",
    "    o = \"-\" * 3\n",
    "    stop = \"|\"\n",
    "    message = (s + o + s + stop) * nb\n",
    "    return message\n",
    "\n",
    "print(\"Entrez le nombre de SOS que vous voulez: \")\n",
    "nb_sos = input()\n",
    "print(emit_sos(nb_sos))"
   ]
  },
  {
   "cell_type": "markdown",
   "metadata": {},
   "source": [
    "Ceci est une erreur Python (on dit une exception). L'erreur vient du fait que\n",
    "la fonction `input()` retourne une chaine de caractères et non pas un nombre\n",
    "entier. En Python, `\"5\"` est différent de `5`, le premier est une chaine de\n",
    "caractères et le deuxième est un entier. La fonction `type()` permet d'afficher\n",
    "le type d'une expression."
   ]
  },
  {
   "cell_type": "code",
   "execution_count": 39,
   "metadata": {},
   "outputs": [
    {
     "data": {
      "text/plain": [
       "str"
      ]
     },
     "execution_count": 39,
     "metadata": {},
     "output_type": "execute_result"
    }
   ],
   "source": [
    "type(\"5\")"
   ]
  },
  {
   "cell_type": "code",
   "execution_count": 40,
   "metadata": {},
   "outputs": [
    {
     "data": {
      "text/plain": [
       "int"
      ]
     },
     "execution_count": 40,
     "metadata": {},
     "output_type": "execute_result"
    }
   ],
   "source": [
    "type(5)"
   ]
  },
  {
   "cell_type": "markdown",
   "metadata": {},
   "source": [
    "Pour convertir notre chaine de caractères en entier, nous allons utiliser la\n",
    "fonction `int()`:"
   ]
  },
  {
   "cell_type": "code",
   "execution_count": 42,
   "metadata": {},
   "outputs": [
    {
     "data": {
      "text/plain": [
       "int"
      ]
     },
     "execution_count": 42,
     "metadata": {},
     "output_type": "execute_result"
    }
   ],
   "source": [
    "a = \"5\"\n",
    "type(int(a))"
   ]
  },
  {
   "cell_type": "code",
   "execution_count": 1,
   "metadata": {},
   "outputs": [
    {
     "name": "stdout",
     "output_type": "stream",
     "text": [
      "5 <class 'str'>\n",
      "5 <class 'int'>\n"
     ]
    }
   ],
   "source": [
    "a = \"5\"\n",
    "print(a, type(a))\n",
    "a = int(a)\n",
    "print(a, type(a))"
   ]
  },
  {
   "cell_type": "markdown",
   "metadata": {},
   "source": [
    "<div class=\"alert alert-success\">\n",
    "<b>Exercice :</b> Corriger le code précédent en ajoutant la conversion en entier.\n",
    "</div>"
   ]
  },
  {
   "cell_type": "code",
   "execution_count": 43,
   "metadata": {},
   "outputs": [
    {
     "name": "stdout",
     "output_type": "stream",
     "text": [
      "Entrez le nombre de SOS que vous voulez: \n",
      "5\n",
      "...---...|...---...|...---...|...---...|...---...|\n"
     ]
    }
   ],
   "source": [
    "def emit_sos(nb):\n",
    "    \"\"\" Renvoie SOS en Morse nb fois \"\"\"\n",
    "    s = \".\" * 3\n",
    "    o = \"-\" * 3\n",
    "    stop = \"|\"\n",
    "    message = (s + o + s + stop) * nb\n",
    "    return message\n",
    "\n",
    "print(\"Entrez le nombre de SOS que vous voulez: \")\n",
    "nb_sos = int(input())\n",
    "print(emit_sos(nb_sos))"
   ]
  },
  {
   "cell_type": "markdown",
   "metadata": {},
   "source": [
    "## 3. Les Conditions\n",
    "\n",
    "En avant vers notre prochaine problématique. Maintenant on a une machine à\n",
    "émettre des SOS autant de fois qu'on le désire. Mais il faut faire attention,\n",
    "trop de SOS peuvent faire imploser le bateau ou faire sauter l'élecricité ou encore\n",
    "simplement rendre fou le capitaine.\n",
    "\n",
    "On va donc prévenir le lanceur de SOS s'il dépasse la limite autorisée. On va\n",
    "modifier notre fonction `emit_sos` pour ajouter des précautions d'usage. Voici \n",
    "comment elles s'expriment en français :\n",
    "\n",
    "    si le nombre de sos est 0, alors: pas de SOS pour toi.\n",
    "    sinon, si le nombre de SOS est plus grand que 10: Trop de SOS! Stoppez ça\n",
    "    sinon: tu peux envoyer les SOS\n",
    "    \n",
    "La syntaxe python est presque une traduction littérale du français vers l'anglais, sachant que :\n",
    "\n",
    "* le nombre de sos est contenu dans la variable `nb_sos`\n",
    "* Après deux points : on va à la ligne et on indente le code (on se déplace vers la droite).\n",
    "* L'égalitée est évaluée par un double égal : `==`\n",
    "\n",
    "On a donc la syntaxe suivante :\n",
    "\n",
    "```py\n",
    "if nb_sos == 0:\n",
    "    print(\"Pas de SOS pour toi.\")\n",
    "elif nb_sos > 10:\n",
    "    print(\"Trop de SOS! Stoppez ca s'il vous plait! Vous allez casser la machine!\")\n",
    "else:\n",
    "    print(emit_sos(nb_sos))\n",
    "```\n",
    "\n",
    "<div class=\"alert alert-success\">\n",
    "<b>Exercice :</b> Insérer ces lignes de codes et vérifier les résultats obtenus suivant les cas.\n",
    "</div>"
   ]
  },
  {
   "cell_type": "code",
   "execution_count": 44,
   "metadata": {},
   "outputs": [
    {
     "name": "stdout",
     "output_type": "stream",
     "text": [
      "Entrez le nombre de SOS que vous voulez: \n",
      "5\n",
      "...---...|...---...|...---...|...---...|...---...|\n"
     ]
    }
   ],
   "source": [
    "# la fonction\n",
    "def emit_sos(nb):\n",
    "    \"\"\" Renvoie SOS en Morse nb fois \"\"\"\n",
    "    s = \".\" * 3\n",
    "    o = \"-\" * 3\n",
    "    stop = \"|\"\n",
    "    return (s + o + s + stop) * nb\n",
    "\n",
    "# on demande le nombre de SOS\n",
    "print(\"Entrez le nombre de SOS que vous voulez: \")\n",
    "nb_sos = int(input())\n",
    "\n",
    "# on teste le nombre de SOS et retourne le message adéquat\n",
    "if nb_sos == 0:\n",
    "    print(\"Pas SOS pour toi donc.\")\n",
    "elif nb_sos > 10:\n",
    "    print(\"Trop de SOS! Stoppez ca s'il vous plait! Vous allez casser la machine!\")\n",
    "else:\n",
    "    print(emit_sos(nb_sos))"
   ]
  },
  {
   "cell_type": "markdown",
   "metadata": {},
   "source": [
    "Néanmoins, l'utilisateur(trice) a peut être **VRAIMENT** un problème. Il faut donc quand même\n",
    "envoyer un signal. On va donc envoyer un signal mais en respectant\n",
    "la limite de 10 SOS au maximum.\n",
    "\n",
    "<div class=\"alert alert-success\">\n",
    "<b>Exercice :</b> Modifier le code précédent en envoyant au plus 10 SOS même si l'utilisateur(trice) en demande trop.\n",
    "</div>"
   ]
  },
  {
   "cell_type": "code",
   "execution_count": 45,
   "metadata": {},
   "outputs": [
    {
     "name": "stdout",
     "output_type": "stream",
     "text": [
      "Entrez le nombre de SOS que vous voulez: \n",
      "8\n",
      "...---...|...---...|...---...|...---...|...---...|...---...|...---...|...---...|\n"
     ]
    }
   ],
   "source": [
    "# la fonction\n",
    "def emit_sos(nb):\n",
    "    \"\"\" Renvoie SOS en Morse nb fois \"\"\"\n",
    "    s = \".\" * 3\n",
    "    o = \"-\" * 3\n",
    "    stop = \"|\"\n",
    "    return (s + o + s + stop) * nb\n",
    "\n",
    "# on demande le nombre de SOS\n",
    "print(\"Entrez le nombre de SOS que vous voulez: \")\n",
    "nb_sos = int(input())\n",
    "\n",
    "# on teste le nombre de SOS et retourne le message adéquat\n",
    "if nb_sos == 0:\n",
    "    print(\"Pas SOS pour toi donc.\")\n",
    "elif nb_sos > 10:\n",
    "    print(\"Trop de SOS! Stoppez ca s'il vous plait! Vous allez casser la machine!\")\n",
    "    print(emit_sos(10))\n",
    "else:\n",
    "    print(emit_sos(nb_sos))"
   ]
  },
  {
   "cell_type": "markdown",
   "metadata": {},
   "source": [
    "L'utilisateur de la machine à SOS, maintenant qu'il est prévenu, peu informer de\n",
    "l'urgence de sa situtation en fonction du nombre de SOS qu'il envoie :\n",
    "\n",
    "| Nombre de S.O.S  | Type de Signal | Signification                             |\n",
    "| ---------------- | -------------- | ----------------------------------------- |\n",
    "| < 5              | Avarie mineure | on rentre au port rapidemment             |\n",
    "| 5 – 12           | Avarie moyenne | patrouille de reconnaissance demandée     |\n",
    "| ≥ 12             | Avarie majeure | envoi immédiat des forces d'interventions |\n",
    "\n",
    "<div class=\"alert alert-success\">\n",
    "<b>Exercice :</b> Ecrire une fonction qui va afficher le type de signal en fonction du\n",
    "nombre de SOS envoyé (n'oubliez pas de prendre en compte le cas où il n'y aurait\n",
    "pas de signal).\n",
    "</div>"
   ]
  },
  {
   "cell_type": "code",
   "execution_count": 46,
   "metadata": {},
   "outputs": [
    {
     "name": "stdout",
     "output_type": "stream",
     "text": [
      "Entrez le nombre de SOS que vous voulez: 7\n",
      "Avarie moyenne\n"
     ]
    }
   ],
   "source": [
    "def emit_sos(nb):\n",
    "    \"\"\" Renvoie SOS en Morse nb fois \"\"\"\n",
    "    s = \".\" * 3\n",
    "    o = \"-\" * 3\n",
    "    stop = \"|\"\n",
    "    if nb == 0:\n",
    "        print(\"Pas de SOS pour toi donc.\")\n",
    "    elif nb < 5:\n",
    "        print(\"Avarie mineure\")\n",
    "    elif 5 <= nb < 12:\n",
    "        print(\"Avarie moyenne\")\n",
    "    else:\n",
    "        print(\"Avarie majeure\")\n",
    "        nb = 12\n",
    "    return (s + o + s + stop) * nb\n",
    "\n",
    "nb_sos = int(input(\"Entrez le nombre de SOS que vous voulez: \"))\n",
    "message = emit_sos(nb_sos)"
   ]
  },
  {
   "cell_type": "markdown",
   "metadata": {},
   "source": [
    "### Conditions : vrai ou faux\n",
    "\n",
    "Venons en maintenant aux conditions. Pour\n",
    "les nombres, cela fonctionne exactement comme en mathématiques :"
   ]
  },
  {
   "cell_type": "code",
   "execution_count": 47,
   "metadata": {},
   "outputs": [
    {
     "data": {
      "text/plain": [
       "True"
      ]
     },
     "execution_count": 47,
     "metadata": {},
     "output_type": "execute_result"
    }
   ],
   "source": [
    "2 > 1"
   ]
  },
  {
   "cell_type": "code",
   "execution_count": 48,
   "metadata": {},
   "outputs": [
    {
     "data": {
      "text/plain": [
       "False"
      ]
     },
     "execution_count": 48,
     "metadata": {},
     "output_type": "execute_result"
    }
   ],
   "source": [
    "1 == 2"
   ]
  },
  {
   "cell_type": "code",
   "execution_count": 49,
   "metadata": {},
   "outputs": [
    {
     "data": {
      "text/plain": [
       "True"
      ]
     },
     "execution_count": 49,
     "metadata": {},
     "output_type": "execute_result"
    }
   ],
   "source": [
    "1 == 1.0"
   ]
  },
  {
   "cell_type": "code",
   "execution_count": 50,
   "metadata": {},
   "outputs": [
    {
     "data": {
      "text/plain": [
       "True"
      ]
     },
     "execution_count": 50,
     "metadata": {},
     "output_type": "execute_result"
    }
   ],
   "source": [
    "10 >= 10"
   ]
  },
  {
   "cell_type": "code",
   "execution_count": 51,
   "metadata": {},
   "outputs": [
    {
     "data": {
      "text/plain": [
       "False"
      ]
     },
     "execution_count": 51,
     "metadata": {},
     "output_type": "execute_result"
    }
   ],
   "source": [
    "13 <= 1 + 3"
   ]
  },
  {
   "cell_type": "code",
   "execution_count": 52,
   "metadata": {},
   "outputs": [
    {
     "data": {
      "text/plain": [
       "True"
      ]
     },
     "execution_count": 52,
     "metadata": {},
     "output_type": "execute_result"
    }
   ],
   "source": [
    "-1 != 0"
   ]
  },
  {
   "cell_type": "markdown",
   "metadata": {},
   "source": [
    "Le résultat d'une condition, ou comparaison, est toujours un booléen : `True` ou `False`.\n",
    "\n",
    "**Remarque :** On différencie la condition d'égalité qui s'écrit avec deux signes égal\n",
    "de l'affectation d'une valeur à une variable que nous avions vu précédemment.\n",
    "\n",
    "On peut utiliser les opérateurs `and` et `or` pour construire des conditions plus complexes:"
   ]
  },
  {
   "cell_type": "code",
   "execution_count": 53,
   "metadata": {},
   "outputs": [
    {
     "data": {
      "text/plain": [
       "True"
      ]
     },
     "execution_count": 53,
     "metadata": {},
     "output_type": "execute_result"
    }
   ],
   "source": [
    "x = 5\n",
    "x < 10"
   ]
  },
  {
   "cell_type": "code",
   "execution_count": 54,
   "metadata": {},
   "outputs": [
    {
     "data": {
      "text/plain": [
       "True"
      ]
     },
     "execution_count": 54,
     "metadata": {},
     "output_type": "execute_result"
    }
   ],
   "source": [
    "2 * x > x"
   ]
  },
  {
   "cell_type": "code",
   "execution_count": 55,
   "metadata": {},
   "outputs": [
    {
     "data": {
      "text/plain": [
       "True"
      ]
     },
     "execution_count": 55,
     "metadata": {},
     "output_type": "execute_result"
    }
   ],
   "source": [
    "(x < 10) and (2 * x > x)"
   ]
  },
  {
   "cell_type": "code",
   "execution_count": 56,
   "metadata": {},
   "outputs": [
    {
     "data": {
      "text/plain": [
       "False"
      ]
     },
     "execution_count": 56,
     "metadata": {},
     "output_type": "execute_result"
    }
   ],
   "source": [
    "(x != 5) and (x != 4)"
   ]
  },
  {
   "cell_type": "code",
   "execution_count": 57,
   "metadata": {},
   "outputs": [
    {
     "data": {
      "text/plain": [
       "True"
      ]
     },
     "execution_count": 57,
     "metadata": {},
     "output_type": "execute_result"
    }
   ],
   "source": [
    "(x != 5) and (x != 4) or (x == 5)"
   ]
  },
  {
   "cell_type": "markdown",
   "metadata": {},
   "source": [
    "### Indentation\n",
    "\n",
    "Une deuxième chose à laquelle il faut faire attention en Python, c'est\n",
    "l'indentation du code.\n",
    "\n",
    "Essayons d'afficher \"OK\" après une condition :"
   ]
  },
  {
   "cell_type": "code",
   "execution_count": 58,
   "metadata": {},
   "outputs": [
    {
     "ename": "IndentationError",
     "evalue": "expected an indented block (<ipython-input-58-270b034490d3>, line 2)",
     "output_type": "error",
     "traceback": [
      "\u001b[0;36m  File \u001b[0;32m\"<ipython-input-58-270b034490d3>\"\u001b[0;36m, line \u001b[0;32m2\u001b[0m\n\u001b[0;31m    print(\"ok\")\u001b[0m\n\u001b[0m        ^\u001b[0m\n\u001b[0;31mIndentationError\u001b[0m\u001b[0;31m:\u001b[0m expected an indented block\n"
     ]
    }
   ],
   "source": [
    "if 2 > 1:\n",
    "print(\"ok\")"
   ]
  },
  {
   "cell_type": "markdown",
   "metadata": {},
   "source": [
    "Apparemment, ça n'a pas très bien fonctionné, vous avez obtenu une `IndentationError`. En fait Python doit savoir si\n",
    "l'instruction que nous avons entrée est une instruction à exécuter uniquement\n",
    "si la condition est vraie ou si c'est une instruction à exécuter sans qu'elle\n",
    "ne soit affectée par la condition. C'est pourquoi nous devons indenter notre code:"
   ]
  },
  {
   "cell_type": "code",
   "execution_count": 59,
   "metadata": {},
   "outputs": [
    {
     "name": "stdout",
     "output_type": "stream",
     "text": [
      "ok\n"
     ]
    }
   ],
   "source": [
    "if 2 > 1:\n",
    "    print(\"ok\")"
   ]
  },
  {
   "cell_type": "markdown",
   "metadata": {},
   "source": [
    "Tout ce que vous devez faire c'est ajouter un espace ou une tabulation avant\n",
    "votre instruction pour dire qu'elle fait partie des instructions dépendantes\n",
    "de l'instruction `if`. Attention, toutes les lignes à exécuter qui dépendent\n",
    "du `if` doivent être indentées de la même manière :"
   ]
  },
  {
   "cell_type": "code",
   "execution_count": 60,
   "metadata": {},
   "outputs": [
    {
     "ename": "IndentationError",
     "evalue": "unindent does not match any outer indentation level (<tokenize>, line 3)",
     "output_type": "error",
     "traceback": [
      "\u001b[0;36m  File \u001b[0;32m\"<tokenize>\"\u001b[0;36m, line \u001b[0;32m3\u001b[0m\n\u001b[0;31m    print(\"B\")\u001b[0m\n\u001b[0m    ^\u001b[0m\n\u001b[0;31mIndentationError\u001b[0m\u001b[0;31m:\u001b[0m unindent does not match any outer indentation level\n"
     ]
    }
   ],
   "source": [
    "if -1 < 0:\n",
    "   print(\"A\")\n",
    "  print(\"B\")"
   ]
  },
  {
   "cell_type": "markdown",
   "metadata": {},
   "source": [
    "Pour éviter la confusion, la plupart des développeurs Python se sont mis\n",
    "d'accord pour toujours utiliser quatre espaces pour chaque niveau d'indentation.\n",
    "Nous allons nous aussi adopter cette convention:"
   ]
  },
  {
   "cell_type": "code",
   "execution_count": 61,
   "metadata": {},
   "outputs": [
    {
     "name": "stdout",
     "output_type": "stream",
     "text": [
      "OK\n",
      "FAIT\n"
     ]
    }
   ],
   "source": [
    "if 2 > 1:\n",
    "    if 3 > 2:\n",
    "        print(\"OK\")\n",
    "    else:\n",
    "        print(\"ECHEC\")\n",
    "    print(\"FAIT\")"
   ]
  },
  {
   "cell_type": "markdown",
   "metadata": {},
   "source": [
    "### Et si ce n'est pas le cas ?\n",
    "\n",
    "On pourrait se débrouiller pour écrire un programme en utilisant uniquement\n",
    "des `if`."
   ]
  },
  {
   "cell_type": "code",
   "execution_count": 62,
   "metadata": {},
   "outputs": [
    {
     "name": "stdout",
     "output_type": "stream",
     "text": [
      "Avarie Moyenne\n"
     ]
    }
   ],
   "source": [
    "if nb_sos < 5:\n",
    "    print(\"Avarie Mineure\")\n",
    "if nb_sos >= 5:\n",
    "    if nb_sos < 12:\n",
    "        print(\"Avarie Moyenne\")\n",
    "if nb_sos >= 12:\n",
    "    print(\"Avarie Majeure\")"
   ]
  },
  {
   "cell_type": "markdown",
   "metadata": {},
   "source": [
    "Mais en fait, on peut aussi utiliser `else` et `elif`, afin de ne pas avoir à\n",
    "répéter les conditions similaires et améliorer la lisibilité du code. Dans des\n",
    "programmes plus compliqués, il n'est parfois pas évident de reconnaître que la\n",
    "condition lue est la condition inverse de la précédente.\n",
    "\n",
    "En utilisant `else`, nous avons la garantie que les instructions données seront\n",
    "exécutées seulement si les instructions données après le `if` n'ont pas été\n",
    "exécutées:"
   ]
  },
  {
   "cell_type": "code",
   "execution_count": 63,
   "metadata": {},
   "outputs": [
    {
     "name": "stdout",
     "output_type": "stream",
     "text": [
      "Avarie Moyenne\n"
     ]
    }
   ],
   "source": [
    "if nb_sos < 5:\n",
    "    print(\"Avarie Mineure\")\n",
    "else:\n",
    "    # Si votre programme exécute ces instructions alors vous êtes\n",
    "    # certains que nb_sos >= 5 !\n",
    "    if nb_sos < 12:\n",
    "        print(\"Avarie Moyenne\")\n",
    "    else:\n",
    "        # Ici vous pouvez être certains que nb_sos >= 12\n",
    "        # nous n'avons donc pas à le vérifier.\n",
    "        print(\"Avarie Majeure\")"
   ]
  },
  {
   "cell_type": "markdown",
   "metadata": {},
   "source": [
    "Regardez bien attentivement la manière dont le code est indenté. À chaque\n",
    "utilisation de else, un niveau d'indentation a été ajouté à chaque niveau du\n",
    "code. C'est très ennuyeux d'avoir à lire du code avec de nombreux niveaux\n",
    "d'indentation.\n",
    "\n",
    "C'est pourquoi les développeurs Python ont ajouté un troisième mot clé, `elif`,\n",
    "qui permet de vérifier directement une autre condition."
   ]
  },
  {
   "cell_type": "code",
   "execution_count": 64,
   "metadata": {},
   "outputs": [
    {
     "name": "stdout",
     "output_type": "stream",
     "text": [
      "entrer un entier 6\n",
      "supérieur ou égal à trois\n"
     ]
    }
   ],
   "source": [
    "n = int(input(\"entrer un entier \"))\n",
    "if n < 1:\n",
    "    # Si n est inférieur à un.\n",
    "    print(\"inferieur à un\")\n",
    "elif n < 2:\n",
    "    # Si est supérieur ou égal à un, et inférieur à deux.\n",
    "    print(\"entre un (compris) et deux\")\n",
    "elif n < 3:\n",
    "    # Si n est supérieur ou égal à un,\n",
    "    # que n est supérieur ou égal à deux,\n",
    "    # et que n est inférieur à 3\n",
    "    print(\"entre deux et trois\")\n",
    "else:\n",
    "    # Si aucune des conditions précédentes n'est vérifiée\n",
    "    print(\"supérieur ou égal à trois\")"
   ]
  },
  {
   "cell_type": "markdown",
   "metadata": {},
   "source": [
    "## En résumé\n",
    "\n",
    "Dans ce chapitre nous avons appris les bases de la syntaxe Python. Nous avons\n",
    "découvert comment afficher des nombres entiers et décimaux, des chaînes de\n",
    "caractères.\n",
    "\n",
    "Nous avons appris à utiliser la fonction `print()`, qui affiche des informations\n",
    "à l'utilisateur et la fonction `input()`, qui permet de lire les entrées de ce\n",
    "dernier.\n",
    "\n",
    "Nous avons vu comment l'identation pouvait être importante, notamment lors de\n",
    "l'utilisation des instructions `if`, `else` et `elif`.\n",
    "\n",
    "Notre programme pose quelques questions à l'utilisateur, calcule des\n",
    "informations et présente les résultats dans une forme utile à l'utilisateur.\n",
    "\n",
    "Ça fait finalement beaucoup de choses pour un premier programme. Nous avons\n",
    "encore pas mal de travail mais vous pouvez être fier de ce que vous avez fait\n",
    "jusqu'à présent !"
   ]
  },
  {
   "cell_type": "markdown",
   "metadata": {},
   "source": [
    "## Complément\n",
    "\n",
    "Bravo ! Vous êtes arrivé au bout de ce premier notebook. Si vous êtes en avance et que les notions présentées dans ce notebook vous semblent acquises, voici un exercice complémentaire. Python s'utilise de façon interactive, comme vous l'avez fait dans ce notebook, ou via l'exécution d'un code source écrit dans un fichier. Nous allons reprendre notre programme qui envoie un SOS en l'écrivant dans un fichier que l'on exécutera par la suite à l'aide de l'interpréteur python.\n",
    "\n",
    "Vous pouvez faire l'exercice suivant soit en utilisant l'éditeur de texte et le terminal intégrés à jupyter ; soit en utilisant un éditeur de texte et le terminal de votre système d'exploitation. Il ne s'agit pas ici d'utiliser un logiciel de traitement de texte (tel que LibreOffice, Google Docs ou Microsoft Word) mais un éditeur de texte. Il en existe de nombreux parmi lesquels : vi (vim), emacs, atom, notepad, nedit, gedit ... Dans ce qui suit nous alons utiliser les outils intégrés à jupyter.\n",
    "\n",
    "1. Depuis l'onglet Home de jupyter, en haut à droite, faire `New -> Text File`\n",
    "2. Un nouvel onglet s'ouvre. Tout en haut, nommer le fichier sos.py\n",
    "3. Recopier dans ce fichier votre fonction `emit_sos()` et l'ensemble des instructions permettant d'appeler la fonction. Sauvegarder le fichier.\n",
    "4. Depuis l'onglet Home de jupyter, faire `New -> Terminal`.\n",
    "5. Un nouvel onglet s'ouvre. Il s'agit d'un terminal linux. Écrire ` 'python --version' ` et faire Entrée. Vérifier qu'il s'agit de python version 3.X.X. Si ce n'est pas le cas recommencer l'opération avec ` 'python3 --version' `. Vous devez utiliser un version 3.X de python.\n",
    "6. Écrire maintenant ` ls  ` (pour *list directory contents*) et faire Entrée. La liste qui s'affiche correspond aux fichiers et dossiers présents dans le dossier courrant. Vous devriez voir votre fichier `sos.py`.\n",
    "7. Exécuter maintenant votre code en écrivant ` 'python sos.py' ` ou ` 'python3 sos.py' ` suivant le résultat de l'étape 5.\n",
    "\n",
    "Testez l'exécution de votre code et modifiez le à votre guise pour obtenir ce qu'il vous plaira. Vous remarquerez que contrairement à l'exécution dans un jupyter notebook, lorsqu'on exécute un fichier, il est impératif d'utiliser la fonction `print()` pour afficher un résultat.\n",
    "\n",
    "Pour être plus rigoureux, il est nécessaire d'écire plus d'information dans le fichier. Voici un gabarit que vous pourrez utiliser par la suite.\n",
    "\n",
    "```py\n",
    "#!/usr/bin/env python\n",
    "# -*- coding=utf-8 -*-\n",
    "\n",
    "\"\"\" Présentation du code \"\"\"\n",
    "\n",
    "def fonction(argument1, argument2):\n",
    "    \"\"\" description de la fonction \"\"\"\n",
    "\n",
    "    # instructions de la fonction\n",
    "\n",
    "    # la fonction retourne éventuellement une valeur\n",
    "    return \"une valeur\"\n",
    "\n",
    "if __name__ == \"__main__\":\n",
    "    # instructions à exécuter, par exemple\n",
    "    #    * lecture des parametres\n",
    "    #    * appel de la fonction\n",
    "    fonction()\n",
    "```"
   ]
  }
 ],
 "metadata": {
  "kernelspec": {
   "display_name": "Python 3",
   "language": "python",
   "name": "python3"
  },
  "language_info": {
   "codemirror_mode": {
    "name": "ipython",
    "version": 3
   },
   "file_extension": ".py",
   "mimetype": "text/x-python",
   "name": "python",
   "nbconvert_exporter": "python",
   "pygments_lexer": "ipython3",
   "version": "3.6.4"
  }
 },
 "nbformat": 4,
 "nbformat_minor": 1
}
