{
 "cells": [
  {
   "cell_type": "markdown",
   "metadata": {},
   "source": [
    "# Objets et classes\n",
    "\n",
    "Dans les faits, ce chapitre pourrait faire l'objet d'un cours complet. Nous\n",
    "allons simplement nous concentrer sur les fonctionnalités les plus simples dont\n",
    "vous aurez besoin pour pouvoir travailler avec python. En effet, on peut\n",
    "distinguer deux approches de l'objet en python :\n",
    "\n",
    "* Le côté *utilisateur*, il faut savoir utiliser les objets\n",
    "* Le côté *développeur*, pour la création de nouveaux objets\n",
    "\n",
    "Nous allons nous focaliser sur le premier point. Le second sera abordé afin de \n",
    "comprendre ce qu'il se passe en tant qu'utilisateur.\n",
    "\n",
    "## Toute valeur est un objet\n",
    "\n",
    "Toutes les choses que nous avons appelées valeur jusqu'à présent peuvent être\n",
    "appelé *\"un objet\"* dans l'univers de Python. On dit souvent qu'en Python\n",
    "*\"tout est objet\"*.\n",
    "\n",
    "Par exemple les entiers, pour lesquels la fonction `help()` nous retournait des\n",
    "dizaines de lignes d'information à propos de `int()` sont aussi des objets.\n",
    "\n",
    "## Tout objet a une classe\n",
    "\n",
    "Une classe est le type d'un objet (un type d'objet ?). Par analogie, on peut dire\n",
    "que c'est le moule qui permet de créer l'objet.\n",
    "\n",
    "On peut tout simplement utiliser la fonction \n",
    "[`type()`](https://docs.python.org/3/library/stdtypes.html#bltin-type-objects)\n",
    "qu'on a déjà vu précédemment,\n",
    "pour connaitre le type d'un objet :\n",
    "\n",
    "```py\n",
    ">>> type(2)\n",
    "<class 'int'>\n",
    ">>> type(2.0)\n",
    "<class 'float'>\n",
    ">>> type(\"spam eggs\")\n",
    "<class 'str'>\n",
    ">>> x = 1, 2\n",
    ">>> type(x)\n",
    "<class 'tuple'>\n",
    ">>> type([])\n",
    "<class 'list'>\n",
    "```\n",
    "\n",
    "Nous avons déjà parlé des classes que vous pouvez voir ici : `int`, `float`,\n",
    "`str`, `tuple`.\n",
    "\n",
    "Quand nous utilisons des nombres dans notre programme, nous attendons qu'ils se\n",
    "comportent comme des nombres, et nous savons intuitivement ce qu'est un nombre.\n",
    "Par contre, Python doit savoir exactement ce que signifie \"être un nombre\".\n",
    "\n",
    "Par exemple que se passe-t-il lorsqu'on additionne deux nombres ? Ou lorsqu'on les\n",
    "divise ? La classe `int` définit tout cela et bien plus. Rappelez vous,\n",
    "un ordinateur ne sait faire que ce qu'on lui dit et il faut lui expliquer\n",
    "lentement et surtout en détail !\n",
    "\n",
    "En utilisant la fonction `help()`, vérifiez ce que nous donne la classe `str`.\n",
    "Voici quelques fonctionnalités intéressantes :"
   ]
  },
  {
   "cell_type": "code",
   "execution_count": null,
   "metadata": {},
   "outputs": [],
   "source": [
    "help(str)"
   ]
  },
  {
   "cell_type": "markdown",
   "metadata": {},
   "source": [
    "Toutes ces opérations (ou méthodes) sont applicable à n'importe quelle chaîne\n",
    "de caractères. Pour y accéder, on ajoute un point suivi de l'appel de la\n",
    "fonction (ou méthode) à appliquer :\n",
    "\n",
    "    objet.methode()"
   ]
  },
  {
   "cell_type": "code",
   "execution_count": null,
   "metadata": {},
   "outputs": [],
   "source": [
    "x = \"Ala\"\n",
    "x.upper()"
   ]
  },
  {
   "cell_type": "code",
   "execution_count": null,
   "metadata": {},
   "outputs": [],
   "source": [
    "x.lower()"
   ]
  },
  {
   "cell_type": "code",
   "execution_count": null,
   "metadata": {},
   "outputs": [],
   "source": [
    "x.center(9)"
   ]
  },
  {
   "cell_type": "markdown",
   "metadata": {},
   "source": [
    "Une fonction appliquée à un objet est appelée une méthode de l'objet. Il est\n",
    "important de comprendre le rôle du point. Dans ces situations, on lit de droite\n",
    "à gauche :\n",
    "\n",
    "* méthode `upper` appliquée à l'objet x\n",
    "* méthode `lower` appliquée à l'objet x\n",
    "* méthode `center` appliquée à l'objet x\n",
    "\n",
    "Le point sépare en quelque sorte un contenant et un contenu. On applique la\n",
    "méthode `upper` contenue dans la classe `str`.\n",
    "\n",
    "Encore une dernière chose importante, pour créer un nouvel objet, on appelle la\n",
    "classe de l'objet (dans le jargon technique on dit qu'on instancie un objet).\n",
    "L'objet ainsi créé est appelé une instance de la classe. Voyons par exemple ce\n",
    "que renvoient quelques classes de base :"
   ]
  },
  {
   "cell_type": "code",
   "execution_count": null,
   "metadata": {},
   "outputs": [],
   "source": [
    "a = int()\n",
    "print(type(a))\n",
    "print(a)"
   ]
  },
  {
   "cell_type": "code",
   "execution_count": null,
   "metadata": {},
   "outputs": [],
   "source": [
    "str()"
   ]
  },
  {
   "cell_type": "code",
   "execution_count": null,
   "metadata": {},
   "outputs": [],
   "source": [
    "list()"
   ]
  },
  {
   "cell_type": "code",
   "execution_count": null,
   "metadata": {},
   "outputs": [],
   "source": [
    "tuple()"
   ]
  },
  {
   "cell_type": "markdown",
   "metadata": {},
   "source": [
    "Une instance est donc une nouvelle valeur du type décrit par la classe.\n",
    "\n",
    "Pour résumer, nous avons vu les classes `int()`, `str()`, `tuple()` et `list()`.\n",
    "Nous avons vu que pour connaitre la classe décrivant une valeur (un objet),\n",
    "nous pouvions regarder son type avec la fonction `type()`. Pour créer une\n",
    "instance de la classe (un nouvel objet), on appelle la classe de la même manière\n",
    "que nous appelons une fonction, en ajoutant des parenthèses (). Par exemple :\n",
    "`int()`.\n",
    "\n",
    "La documentation de python détaille [les types de bases (ou build-in Types)](https://docs.python.org/3/library/stdtypes.html).\n",
    "\n",
    "## Définir une classe\n",
    "\n",
    "Les classes telles que `int` ou `str` font partie du langage Python et sont\n",
    "déjà définies, mais nous pouvons créer nos propres classes pour définir leur\n",
    "comportement. Cela s'appelle définir une classe.\n",
    "\n",
    "Il est aussi facile de définir une classe que de définir une fonction. En fait\n",
    "une classe n'est rien de plus qu'un ensemble de fonctions, appelées méthodes.\n",
    "Prenons par exemple une classe `Dog` qui contient une méthode `bark` (aboyer) :"
   ]
  },
  {
   "cell_type": "code",
   "execution_count": null,
   "metadata": {},
   "outputs": [],
   "source": [
    "class Dog:\n",
    "\n",
    "    def bark(self):\n",
    "        print(\"Woof! Woof!\")"
   ]
  },
  {
   "cell_type": "markdown",
   "metadata": {},
   "source": [
    "En voyant l'indentation, on comprend aisément que la fonction `bark()` est *contenue* dans \n",
    "la classe `Dog`.\n",
    "\n",
    "Les classes commencent par le mot clé `class`, suivi du nom de la classe.\n",
    "Par défaut, le nouveau type `Dog` est un nouveau type de l'ensemble\n",
    "des classes de type `object`. Ainsi, les instances de notre classe, c'est à dire\n",
    "les objets créés, seront de type `Dog` mais également du type plus général \n",
    "`object`. Pour les habitués de la programmation orientée objet, cela signifie\n",
    "que la classe `Dog` *hérite* de la classe `object`, mais laissons cela de côté\n",
    "pour l'instant.\n",
    "\n",
    "En fait c'est exactement pour cela qu'on dit que \"tout est objet en Python\". Car\n",
    "chaque classe est une spécialisation de la classe object de Python. C'est pourquoi\n",
    "quasiment chaque valeur est de type général object.\n",
    "\n",
    "Il est important de noter que chaque fonction (méthode) d'une classe doit prendre pour\n",
    "premier argument la valeur de l'objet duquel elle a été appelée. Nous l'appelons \n",
    "systématiquement `self` par convention. Dans notre exemple, nous avons une\n",
    "fonction appelée `bark()` (\"aboyer\" en anglais), qui comme vous le voyez n'a qu'un\n",
    "seul argument, `self`. \n",
    "\n",
    "Regardons comment elle fonctionne :"
   ]
  },
  {
   "cell_type": "code",
   "execution_count": null,
   "metadata": {},
   "outputs": [],
   "source": [
    "my_new_pet = Dog()\n",
    "my_new_pet.bark()"
   ]
  },
  {
   "cell_type": "markdown",
   "metadata": {},
   "source": [
    "### Attributs des objets\n",
    "\n",
    "Outre les méthodes (les fonctions définies dans une classe), les objets peuvent\n",
    "également avoir des attributs. Par exemple :"
   ]
  },
  {
   "cell_type": "code",
   "execution_count": null,
   "metadata": {},
   "outputs": [],
   "source": [
    "my_new_pet = Dog()\n",
    "my_new_pet.name = \"Snoopy\"\n",
    "print(my_new_pet.name)"
   ]
  },
  {
   "cell_type": "markdown",
   "metadata": {},
   "source": [
    "Parfois nous souhaitons que tous les objets d'une classe aient un attribut. Par\n",
    "exemple tous les chiens doivent avoir un nom. Lors de la création de notre objet\n",
    "nous devons donc lui ajouter cet attribut et lui donner une valeur. Nous pouvons faire cela en\n",
    "créant une fonction, au nom spécial, appelée `__init__()` (le constructeur). Par\n",
    "exemple, voici comment attribuer un nom à notre chien :"
   ]
  },
  {
   "cell_type": "code",
   "execution_count": null,
   "metadata": {},
   "outputs": [],
   "source": [
    "class Dog:\n",
    "\n",
    "    def __init__(self, name):\n",
    "        self.name = name\n",
    "\n",
    "    def bark(self):\n",
    "        print(\"Woof! Woof!\")"
   ]
  },
  {
   "cell_type": "markdown",
   "metadata": {},
   "source": [
    "Dans la fonction `__init__()`, nous avons assigné une valeur à un nouvel\n",
    "attribut `name` de l'objet `self`. Comme expliqué précédemment, `self` est\n",
    "l'objet courant de la classe `Dog` que nous sommes en train de manipuler.\n",
    "\n",
    "**Remarque :** On retrouve le point qui comme pour les méthodes indique que\n",
    "l'attribut `name` est un attribut de `self` (le nom est contenu dans la classe).\n",
    "\n",
    "Nous pouvons maintenant utiliser cet attribut dans les autres méthodes :"
   ]
  },
  {
   "cell_type": "code",
   "execution_count": null,
   "metadata": {},
   "outputs": [],
   "source": [
    "class Dog:\n",
    "\n",
    "    def __init__(self, name):\n",
    "        self.name = name\n",
    "\n",
    "    def bark(self):\n",
    "        print(self.name, \" Woof! Woof!\")"
   ]
  },
  {
   "cell_type": "code",
   "execution_count": null,
   "metadata": {},
   "outputs": [],
   "source": [
    "snoopy = Dog(\"Snoopy\")\n",
    "pluto = Dog(\"Pluto\")\n",
    "snoopy.bark()\n",
    "pluto.bark()"
   ]
  },
  {
   "cell_type": "markdown",
   "metadata": {},
   "source": [
    "La fonction `__init__()` est appelée durant la création de l'objet. On l'appelle\n",
    "*constructeur*, car elle aide à la création de l'objet et lui donne un état de\n",
    "départ.\n",
    "\n",
    "Dans cet exemple, la fonction `__init__()` accepte deux arguments: `self` et\n",
    "`name`, mais quand on créé une instance de la classe `Dog`, nous ne spécifions\n",
    "que l'argument `name`, `self` est automatiquement spécifié par Python. Désormais,\n",
    "lorsque que nous instancions un nouvel objet `Dog`, celui-ci a un attribut :\n",
    "son nom."
   ]
  },
  {
   "cell_type": "markdown",
   "metadata": {},
   "source": [
    "<div class=\"alert alert-success\">\n",
    "    <b>Exercice :</b> Créer un objet <code>boat</code> qui a un nom et un pavillon. Écrire une méthode <code>ring</code> qui affiche le nom du bateau, son pavillon et le son du bateau.\n",
    "</div>"
   ]
  },
  {
   "cell_type": "code",
   "execution_count": null,
   "metadata": {},
   "outputs": [],
   "source": []
  },
  {
   "cell_type": "code",
   "execution_count": null,
   "metadata": {},
   "outputs": [],
   "source": []
  },
  {
   "cell_type": "markdown",
   "metadata": {},
   "source": [
    "## Héritage\n",
    "\n",
    "Dans le chapitre précédent, nous avons créé une classe Dog comme sous-ensemble\n",
    "du type object, mais ce n'est pas la seule possibilité. Nous pouvons également\n",
    "dire que Dog est aussi un Animal :"
   ]
  },
  {
   "cell_type": "code",
   "execution_count": null,
   "metadata": {},
   "outputs": [],
   "source": [
    "class Animal:\n",
    "    pass\n",
    "\n",
    "class Dog(Animal):\n",
    "\n",
    "    def __init__(self, name):\n",
    "        self.name = name\n",
    "\n",
    "    def bark(self):\n",
    "        print(self.name, \" Woof! Woof!\")"
   ]
  },
  {
   "cell_type": "markdown",
   "metadata": {},
   "source": [
    "Nous avons donc une nouvelle classe `Animal`, qui hérite du type `object`.\n",
    "`Dog` hérite du type `Animal`. En d'autres termes :\n",
    "\n",
    "* Tout `Animal` est un `object`\n",
    "* Tout `Dog` est un `Animal`, tout `Dog` est un `object`\n",
    "\n",
    "Ainsi nous pouvons décrire des comportements communs à tous les Animaux dans\n",
    "notre classe `Animal`, par exemple le fait de courir, et laisser dans la classe\n",
    "`Dog` des comportements plus spécifiques, comme aboyer:"
   ]
  },
  {
   "cell_type": "code",
   "execution_count": null,
   "metadata": {},
   "outputs": [],
   "source": [
    "class Animal:\n",
    "    \n",
    "    def run(self, distance):\n",
    "        print(\"Run \", distance, \" meters.\")\n",
    "\n",
    "class Dog(Animal):\n",
    "\n",
    "    def __init__(self, name):\n",
    "        self.name = name\n",
    "\n",
    "    def bark(self):\n",
    "        print(self.name, \" Woof! Woof!\")"
   ]
  },
  {
   "cell_type": "markdown",
   "metadata": {},
   "source": [
    "La méthode `run` sera disponible pour tous les sous-types de `Animal` (comme\n",
    "les objets de type `Dog` par exemple) :"
   ]
  },
  {
   "cell_type": "code",
   "execution_count": null,
   "metadata": {},
   "outputs": [],
   "source": [
    "scooby = Dog(\"Scooby\")\n",
    "scooby.run(10)"
   ]
  },
  {
   "cell_type": "markdown",
   "metadata": {},
   "source": [
    "<div class=\"alert alert-success\">\n",
    "<b>Exercice :</b> Créer un objet <code>Snake</code> qui a un nom et une couleur. Créer ensuite deux classes filles.\n",
    "\n",
    "<ul>\n",
    "    <li>Classe RobinSnake</li>\n",
    "    <ul>\n",
    "        <li>Le serpent peut siffler (hiss)</li>\n",
    "        <li>Le serpent peut conseiller le roi</li>\n",
    "    </ul>\n",
    "    <li>Classe JungleSnake</li>\n",
    "    <ul>\n",
    "        <li>Le serpent peut hypnotiser</li>\n",
    "        <li>Le serpent peut piéger quelqu'un</li>\n",
    "    </ul>\n",
    "</ul>\n",
    "\n",
    "<p>Vous êtes libre de ce que chaque méthode affiche ou retourne comme information.</p>\n",
    "</div>"
   ]
  },
  {
   "cell_type": "code",
   "execution_count": null,
   "metadata": {},
   "outputs": [],
   "source": []
  },
  {
   "cell_type": "code",
   "execution_count": null,
   "metadata": {},
   "outputs": [],
   "source": []
  },
  {
   "cell_type": "code",
   "execution_count": null,
   "metadata": {},
   "outputs": [],
   "source": []
  },
  {
   "cell_type": "markdown",
   "metadata": {},
   "source": [
    "## Arbre de noël\n",
    "\n",
    "<div class=\"alert alert-success\" style=\"margin-top:20px;\">\n",
    "Revenons à l'arbre de noël que nous avons vu au chapitre précédent.\n",
    "Écrire une classe XMASTree qui pour une taille donnée et lors de l'appel de\n",
    "la méthode `draw()` va afficher les résultats suivants (pour les tailles 1, 2\n",
    "et 3) :\n",
    "</div>\n",
    "\n",
    "```\n",
    "  *\n",
    " /|\\\n",
    "/_|_\\\n",
    "  |\n",
    "```\n",
    "\n",
    "```\n",
    "   *\n",
    "  /|\\\n",
    " /_|_\\\n",
    "  /|\\\n",
    " / | \\\n",
    "/__|__\\\n",
    "   |\n",
    "```\n",
    "\n",
    "```\n",
    "    *\n",
    "   /|\\\n",
    "  /_|_\\\n",
    "   /|\\\n",
    "  / | \\\n",
    " /__|__\\\n",
    "   /|\\\n",
    "  / | \\\n",
    " /  |  \\\n",
    "/___|___\\\n",
    "    |\n",
    "```"
   ]
  },
  {
   "cell_type": "code",
   "execution_count": null,
   "metadata": {},
   "outputs": [],
   "source": []
  },
  {
   "cell_type": "code",
   "execution_count": null,
   "metadata": {},
   "outputs": [],
   "source": []
  }
 ],
 "metadata": {
  "kernelspec": {
   "display_name": "Python 3",
   "language": "python",
   "name": "python3"
  },
  "language_info": {
   "codemirror_mode": {
    "name": "ipython",
    "version": 3
   },
   "file_extension": ".py",
   "mimetype": "text/x-python",
   "name": "python",
   "nbconvert_exporter": "python",
   "pygments_lexer": "ipython3",
   "version": "3.6.4"
  }
 },
 "nbformat": 4,
 "nbformat_minor": 1
}
