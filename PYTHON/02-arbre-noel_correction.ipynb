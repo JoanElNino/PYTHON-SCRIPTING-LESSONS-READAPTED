{
 "cells": [
  {
   "cell_type": "markdown",
   "metadata": {},
   "source": [
    "# L'arbre de noël\n",
    "\n",
    "Noël arrive (dans plus ou moins longtemps c'est vrai), ce sera le temps des \n",
    "cadeaux et des sapins de Noël dans tous les magasins. :)\n",
    "\n",
    "Comme exercice, je vous propose de dessiner un Arbre de Noël.\n",
    "\n",
    "Nous allons commencer par la version la plus simple puis ajouter des\n",
    "fonctionnalités au fur et à mesure.\n",
    "\n",
    "Pour démarrer, commençons par dessiner la moitié d'un Arbre de Noël :"
   ]
  },
  {
   "cell_type": "code",
   "execution_count": 1,
   "metadata": {},
   "outputs": [
    {
     "name": "stdout",
     "output_type": "stream",
     "text": [
      "*\n",
      "**\n",
      "***\n",
      "*\n",
      "**\n",
      "***\n",
      "****\n",
      "*\n",
      "**\n",
      "***\n",
      "****\n",
      "*****\n",
      "******\n"
     ]
    }
   ],
   "source": [
    "print(\"*\")\n",
    "print(\"**\")\n",
    "print(\"***\")\n",
    "print(\"*\")\n",
    "print(\"**\")\n",
    "print(\"***\")\n",
    "print(\"****\")\n",
    "print(\"*\")\n",
    "print(\"**\")\n",
    "print(\"***\")\n",
    "print(\"****\")\n",
    "print(\"*****\")\n",
    "print(\"******\")"
   ]
  },
  {
   "cell_type": "markdown",
   "metadata": {},
   "source": [
    "C'est pas si mal, mais nous avons du taper beaucoup de choses. Et que se\n",
    "passe-t-il si je veux un arbre plus petit ? Ou un plus grand, composé de\n",
    "centaines d'étoiles pour l'imprimer sur un poster géant au format A0 ? Oui ça\n",
    "fait certainement beaucoup trop de caractères à taper, quand bien même on\n",
    "multiplierait les caractères par centaines (`\"*\" * 100`, et ainsi de suite). Ça\n",
    "ressemble au genre de tâche qu'on confierait volontiers à un programme ça, non ?\n",
    "\n",
    "## Les listes et les boucles `for`\n",
    "\n",
    "Les boucles sont faites exactement pour ce genre d'actions répétitives. Pour\n",
    "rester dans l'atmosphère de Noël, imaginez un instant que vous êtes le Père Noël\n",
    "et que vous devez distribuer tous les cadeaux.\n",
    "\n",
    "Comme vous le savez, les lutins ont une liste précise des enfants sages qui\n",
    "méritent un cadeau. La solution la plus simple pour garantir qu'un enfant ne\n",
    "soit pas oublié serait de prendre la liste et d'aller distribuer les cadeaux,\n",
    "dans l'ordre.\n",
    "\n",
    "Outre les aspects physiques de la tâche, la procédure de distribution des cadeaux\n",
    "pourrait ressembler à cela:\n",
    "\n",
    "Disons que la liste des enfants sages, contient la liste des enfants\n",
    "qui méritent un cadeau.\n",
    "\n",
    "```\n",
    "Pour chaque enfant qui se trouve dans la liste des enfants sages:\n",
    "    Distribuer un cadeau à cet enfant\n",
    "```\n",
    "\n",
    "La disposition du texte ci-dessus n'est pas une erreur, c'est en fait un programme\n",
    "Python déguisé:\n",
    "\n",
    "```py\n",
    "children = children_who_deserve_gifts()\n",
    "\n",
    "for child in children:\n",
    "    deliver_gift(child)\n",
    "    print(\"Gift distributed to :\", child)\n",
    "print(\"All wise children received a gift.\")\n",
    "```\n",
    "\n",
    "La plupart des choses doivent vous sembler familières. On appelle deux fonctions :\n",
    "\n",
    "* `children_who_deserve_gifts()` et `deliver_gift()`, leur fonctionnement interne est uniquement connu du Père Noël.\n",
    "* Le résultat de la première est enregistré dans la variable `children`, afin de se rappeler par la suite à quoi corresponds cette valeur.\n",
    "\n",
    "Le nouvel élément, c'est la boucle elle-même, qui consiste en :\n",
    "\n",
    "* Sur la première ligne\n",
    "    * Le mot clé `for`,\n",
    "    * Le nom du prochain élément de la liste,\n",
    "    * Le mot clé in,\n",
    "    * Une liste de valeur ou une variable qui y fait référence.\n",
    "* Les instructions indentées à effectuer pour chaque valeur de la liste (comme dans le cas de `if`).\n",
    "\n",
    "Attendez, nous n'avons encore rien dit à propos des listes, mais rassurez-vous,\n",
    "le concept de liste en Python est très proche du concept de liste dans la vie de\n",
    "tous les jours. Nous pouvons simplement nous représenter une liste en Python\n",
    "comme nous nous représentons n'importe quelle autre liste le reste du temps\n",
    "(liste de courses, liste d'invités, résultats d'examens, etc...) écrite sur un\n",
    "papier et numérotée.\n",
    "\n",
    "### Introduction aux listes\n",
    "\n",
    "Commençons par une liste vide :"
   ]
  },
  {
   "cell_type": "code",
   "execution_count": 2,
   "metadata": {},
   "outputs": [
    {
     "data": {
      "text/plain": [
       "[]"
      ]
     },
     "execution_count": 2,
     "metadata": {},
     "output_type": "execute_result"
    }
   ],
   "source": [
    "liste = []\n",
    "liste"
   ]
  },
  {
   "cell_type": "code",
   "execution_count": 3,
   "metadata": {},
   "outputs": [
    {
     "data": {
      "text/plain": [
       "[]"
      ]
     },
     "execution_count": 3,
     "metadata": {},
     "output_type": "execute_result"
    }
   ],
   "source": [
    "liste = list()\n",
    "liste"
   ]
  },
  {
   "cell_type": "markdown",
   "metadata": {},
   "source": [
    "Quand nous le souhaitons, nous pouvons demander le nombre d'éléments qui se\n",
    "trouvent dans notre liste en utilisant la fonction\n",
    "[`len()`](https://docs.python.org/3/library/functions.html#len)."
   ]
  },
  {
   "cell_type": "code",
   "execution_count": 4,
   "metadata": {},
   "outputs": [
    {
     "data": {
      "text/plain": [
       "0"
      ]
     },
     "execution_count": 4,
     "metadata": {},
     "output_type": "execute_result"
    }
   ],
   "source": [
    "len(liste)"
   ]
  },
  {
   "cell_type": "markdown",
   "metadata": {},
   "source": [
    "Essayons avec une autre liste (qui peut avoir le même nom ou pas). Les éléments consécutifs d'une liste sont séparés par des virgules :"
   ]
  },
  {
   "cell_type": "code",
   "execution_count": 5,
   "metadata": {},
   "outputs": [
    {
     "data": {
      "text/plain": [
       "3"
      ]
     },
     "execution_count": 5,
     "metadata": {},
     "output_type": "execute_result"
    }
   ],
   "source": [
    "liste = [\"Yara\", \"Pierre\", \"Amel\"]\n",
    "len(liste)"
   ]
  },
  {
   "cell_type": "markdown",
   "metadata": {},
   "source": [
    "Pour récupérer la valeur d'un élément d'une position particulière de la liste on\n",
    "se sert de sa position dans la liste (en se souvenant que les index des positions\n",
    "commencent à 0) :"
   ]
  },
  {
   "cell_type": "code",
   "execution_count": 6,
   "metadata": {},
   "outputs": [
    {
     "data": {
      "text/plain": [
       "'Yara'"
      ]
     },
     "execution_count": 6,
     "metadata": {},
     "output_type": "execute_result"
    }
   ],
   "source": [
    "liste[0]"
   ]
  },
  {
   "cell_type": "code",
   "execution_count": 7,
   "metadata": {},
   "outputs": [
    {
     "data": {
      "text/plain": [
       "'Pierre'"
      ]
     },
     "execution_count": 7,
     "metadata": {},
     "output_type": "execute_result"
    }
   ],
   "source": [
    "liste[1]"
   ]
  },
  {
   "cell_type": "code",
   "execution_count": 8,
   "metadata": {},
   "outputs": [
    {
     "data": {
      "text/plain": [
       "'Amel'"
      ]
     },
     "execution_count": 8,
     "metadata": {},
     "output_type": "execute_result"
    }
   ],
   "source": [
    "liste[2]"
   ]
  },
  {
   "cell_type": "code",
   "execution_count": 9,
   "metadata": {},
   "outputs": [
    {
     "ename": "IndexError",
     "evalue": "list index out of range",
     "output_type": "error",
     "traceback": [
      "\u001b[0;31m---------------------------------------------------------------------------\u001b[0m",
      "\u001b[0;31mIndexError\u001b[0m                                Traceback (most recent call last)",
      "\u001b[0;32m<ipython-input-9-17920503c666>\u001b[0m in \u001b[0;36m<module>\u001b[0;34m()\u001b[0m\n\u001b[0;32m----> 1\u001b[0;31m \u001b[0mliste\u001b[0m\u001b[0;34m[\u001b[0m\u001b[0;36m3\u001b[0m\u001b[0;34m]\u001b[0m\u001b[0;34m\u001b[0m\u001b[0m\n\u001b[0m",
      "\u001b[0;31mIndexError\u001b[0m: list index out of range"
     ]
    }
   ],
   "source": [
    "liste[3]"
   ]
  },
  {
   "cell_type": "markdown",
   "metadata": {},
   "source": [
    "Pour `L[3]` on obtient une exception de type `IndexError` qui nous indique que\n",
    "l'élément d'indice 3 n'existe pas.\n",
    "\n",
    "En python, les listes sont dites *dynamiques*. On peut ajouter ou supprimer\n",
    "des éléments."
   ]
  },
  {
   "cell_type": "code",
   "execution_count": 10,
   "metadata": {
    "collapsed": true
   },
   "outputs": [],
   "source": [
    "L = [\"Yara\", \"Pierre\", \"Amel\"]"
   ]
  },
  {
   "cell_type": "code",
   "execution_count": 11,
   "metadata": {
    "collapsed": true
   },
   "outputs": [],
   "source": [
    "L.append(\"Rémi\")"
   ]
  },
  {
   "cell_type": "code",
   "execution_count": 12,
   "metadata": {},
   "outputs": [
    {
     "name": "stdout",
     "output_type": "stream",
     "text": [
      "['Yara', 'Pierre', 'Amel', 'Rémi']\n"
     ]
    }
   ],
   "source": [
    "print(L)"
   ]
  },
  {
   "cell_type": "code",
   "execution_count": 13,
   "metadata": {},
   "outputs": [
    {
     "data": {
      "text/plain": [
       "'Rémi'"
      ]
     },
     "execution_count": 13,
     "metadata": {},
     "output_type": "execute_result"
    }
   ],
   "source": [
    "L.pop()"
   ]
  },
  {
   "cell_type": "code",
   "execution_count": 14,
   "metadata": {},
   "outputs": [
    {
     "name": "stdout",
     "output_type": "stream",
     "text": [
      "['Yara', 'Pierre', 'Amel']\n"
     ]
    }
   ],
   "source": [
    "print(L)"
   ]
  },
  {
   "cell_type": "code",
   "execution_count": 15,
   "metadata": {
    "collapsed": true
   },
   "outputs": [],
   "source": [
    "L.remove(\"Pierre\")"
   ]
  },
  {
   "cell_type": "code",
   "execution_count": 16,
   "metadata": {},
   "outputs": [
    {
     "name": "stdout",
     "output_type": "stream",
     "text": [
      "['Yara', 'Amel']\n"
     ]
    }
   ],
   "source": [
    "print(L)"
   ]
  },
  {
   "cell_type": "markdown",
   "metadata": {},
   "source": [
    "`append()`, `pop()`, et `remove()` sont des fonctions qui agissent sur la liste.\n",
    "\n",
    "La boucle `for` que nous avons vu tout à l'heure, va nous servir pour exécuter\n",
    "une instruction sur chaque élément de la liste. Elle permet de parcourir la\n",
    "liste."
   ]
  },
  {
   "cell_type": "code",
   "execution_count": 17,
   "metadata": {},
   "outputs": [
    {
     "name": "stdout",
     "output_type": "stream",
     "text": [
      "Nom : Yara\n",
      "Nom : Amel\n"
     ]
    }
   ],
   "source": [
    "for name in L:\n",
    "    print(\"Nom :\", name)"
   ]
  },
  {
   "cell_type": "markdown",
   "metadata": {},
   "source": [
    "En passant, nous pouvons ainsi afficher la première moitié de notre Arbre de\n",
    "Noël :"
   ]
  },
  {
   "cell_type": "code",
   "execution_count": 18,
   "metadata": {},
   "outputs": [
    {
     "name": "stdout",
     "output_type": "stream",
     "text": [
      "*\n",
      "**\n",
      "***\n"
     ]
    }
   ],
   "source": [
    "liste = [1, 2, 3]\n",
    "for n in liste:\n",
    "    print(\"*\" * n)"
   ]
  },
  {
   "cell_type": "markdown",
   "metadata": {},
   "source": [
    "Malheureusement, nous devons encore écrire le contenu de la liste. Ce problème\n",
    "peut-être résolu à l'aide de la fonction\n",
    "[`range()`](https://docs.python.org/3/library/functions.html#func-range).\n",
    "Vous pouvez entrer `help(range)` pour apprendre à l'utiliser ou regardez ces exemples :"
   ]
  },
  {
   "cell_type": "code",
   "execution_count": 1,
   "metadata": {},
   "outputs": [
    {
     "name": "stdout",
     "output_type": "stream",
     "text": [
      "2\n",
      "3\n",
      "4\n"
     ]
    }
   ],
   "source": [
    "for i in range(2, 5, 1):\n",
    "    print(i)"
   ]
  },
  {
   "cell_type": "code",
   "execution_count": 2,
   "metadata": {},
   "outputs": [
    {
     "name": "stdout",
     "output_type": "stream",
     "text": [
      "1\n",
      "3\n",
      "5\n",
      "7\n",
      "9\n"
     ]
    }
   ],
   "source": [
    "for i in range(1, 11, 2):\n",
    "    print(i)"
   ]
  },
  {
   "cell_type": "code",
   "execution_count": 4,
   "metadata": {},
   "outputs": [
    {
     "name": "stdout",
     "output_type": "stream",
     "text": [
      "1\n",
      "2\n",
      "3\n",
      "4\n"
     ]
    }
   ],
   "source": [
    "for i in range(1, 5):\n",
    "    print(i)"
   ]
  },
  {
   "cell_type": "code",
   "execution_count": 5,
   "metadata": {},
   "outputs": [
    {
     "name": "stdout",
     "output_type": "stream",
     "text": [
      "1\n"
     ]
    }
   ],
   "source": [
    "for i in range(1, 2):\n",
    "    print(i)"
   ]
  },
  {
   "cell_type": "code",
   "execution_count": 6,
   "metadata": {},
   "outputs": [
    {
     "name": "stdout",
     "output_type": "stream",
     "text": [
      "0\n",
      "1\n",
      "2\n",
      "3\n"
     ]
    }
   ],
   "source": [
    "for i in range(4):\n",
    "    print(i)"
   ]
  },
  {
   "cell_type": "markdown",
   "metadata": {},
   "source": [
    "La fonction `range()` ne crée pas directement une liste, mais retourne un\n",
    "*générateur*. Les générateurs sont des sortes de *\"moteurs\"* qui contiennent une\n",
    "méthode permettant de passer d'un élément au suivant. Cela permet de ne\n",
    "pas avoir à stocker l'ensemble des valeurs de la liste dans la mémoire de\n",
    "l'ordinateur.\n",
    "\n",
    "La fonction `range()` a trois formes. La plus simple, qui est la plus utilisée,\n",
    "permet de générer une séquence de nombres de 0 à un nombre donné. Les autres\n",
    "formes vous permettent de spécifier le chiffre de départ et le pas d'un nombre\n",
    "à l'autre de la séquence. La séquence créée n'inclut jamais la borne supérieure.\n",
    "\n",
    "Pour obtenir une liste à partir d'un générateur, on utilise la fonction\n",
    "[`list()`](https://docs.python.org/3/library/functions.html#func-list)\n",
    "(en fait il s'agit d'une classe mais nous verrons ça plus tard).\n",
    "Si on oublie l'appel à `list()`, le résultat ressemblera à ça :"
   ]
  },
  {
   "cell_type": "code",
   "execution_count": 24,
   "metadata": {},
   "outputs": [
    {
     "data": {
      "text/plain": [
       "range(1, 4)"
      ]
     },
     "execution_count": 24,
     "metadata": {},
     "output_type": "execute_result"
    }
   ],
   "source": [
    "range(1, 4)"
   ]
  },
  {
   "cell_type": "code",
   "execution_count": 25,
   "metadata": {},
   "outputs": [
    {
     "data": {
      "text/plain": [
       "range"
      ]
     },
     "execution_count": 25,
     "metadata": {},
     "output_type": "execute_result"
    }
   ],
   "source": [
    "type(range(1, 4))"
   ]
  },
  {
   "cell_type": "code",
   "execution_count": 26,
   "metadata": {},
   "outputs": [
    {
     "data": {
      "text/plain": [
       "list"
      ]
     },
     "execution_count": 26,
     "metadata": {},
     "output_type": "execute_result"
    }
   ],
   "source": [
    "type(list(range(1, 4)))"
   ]
  },
  {
   "cell_type": "markdown",
   "metadata": {},
   "source": [
    "<div class=\"alert alert-success\">\n",
    "    <b>Exercice :</b> Essayez d'écrire une liste allant de 1 à 19 par pas de 3 !\n",
    "</div>"
   ]
  },
  {
   "cell_type": "code",
   "execution_count": 10,
   "metadata": {},
   "outputs": [
    {
     "name": "stdout",
     "output_type": "stream",
     "text": [
      "1\n",
      "4\n",
      "7\n",
      "10\n",
      "13\n",
      "16\n",
      "19\n"
     ]
    }
   ],
   "source": [
    "for i in range(1, 22, 3):\n",
    "    print(i)"
   ]
  },
  {
   "cell_type": "code",
   "execution_count": 11,
   "metadata": {},
   "outputs": [
    {
     "data": {
      "text/plain": [
       "[1, 4, 7, 10, 13, 16, 19]"
      ]
     },
     "execution_count": 11,
     "metadata": {},
     "output_type": "execute_result"
    }
   ],
   "source": [
    "list(range(1, 22, 3))"
   ]
  },
  {
   "cell_type": "markdown",
   "metadata": {},
   "source": [
    "<div class=\"alert alert-success\">\n",
    "    <b>Exercice :</b> En reprenant le code de tout à l'heure, dessiner un arbre de noël avec 10 étages en utilisant <code>range</code>.\n",
    "</div>"
   ]
  },
  {
   "cell_type": "code",
   "execution_count": 12,
   "metadata": {},
   "outputs": [
    {
     "name": "stdout",
     "output_type": "stream",
     "text": [
      "*\n",
      "**\n",
      "***\n"
     ]
    }
   ],
   "source": [
    "liste = [1, 2, 3]\n",
    "for n in liste:\n",
    "    print(\"*\" * n)"
   ]
  },
  {
   "cell_type": "code",
   "execution_count": 28,
   "metadata": {},
   "outputs": [
    {
     "name": "stdout",
     "output_type": "stream",
     "text": [
      "*\n",
      "**\n",
      "***\n",
      "****\n",
      "*****\n",
      "******\n",
      "*******\n",
      "********\n",
      "*********\n",
      "**********\n"
     ]
    }
   ],
   "source": [
    "for n in range(1, 11):\n",
    "    print(\"*\" * n)"
   ]
  },
  {
   "cell_type": "markdown",
   "metadata": {},
   "source": [
    "### Retour aux boucles `for`\n",
    "\n",
    "`range()` nous a épargné beaucoup de temps, on peut en gagner encore plus si on\n",
    "ne nomme pas la liste:"
   ]
  },
  {
   "cell_type": "code",
   "execution_count": 29,
   "metadata": {},
   "outputs": [
    {
     "name": "stdout",
     "output_type": "stream",
     "text": [
      "@\n",
      "@@\n",
      "@@@\n",
      "@@@@\n"
     ]
    }
   ],
   "source": [
    "for i in range(1, 5):\n",
    "    print(i * \"@\")"
   ]
  },
  {
   "cell_type": "markdown",
   "metadata": {},
   "source": [
    "Lorsqu'on utilise l'instruction `for`, on n'a pas besoin d'utiliser la fonction\n",
    "`list()`. `for` est fait pour gérer le générateur retourné par `range()`. En \n",
    "fait la boucle `for` peut s'utiliser avec tout ce qui est *iterable*."
   ]
  },
  {
   "cell_type": "markdown",
   "metadata": {},
   "source": [
    "Rien ne nous empêche de créer une boucle dans une autre boucle, essayons !\n",
    "\n",
    "Rappelez-vous d'utiliser l'indentation appropriée et d'utiliser des\n",
    "noms différents, par exemple i et j, (ou mieux un nom en rapport avec le contenu\n",
    "de la liste) pour les éléments de chaque liste :"
   ]
  },
  {
   "cell_type": "code",
   "execution_count": 31,
   "metadata": {},
   "outputs": [
    {
     "name": "stdout",
     "output_type": "stream",
     "text": [
      "1 11\n",
      "1 12\n",
      "1 13\n",
      "2 11\n",
      "2 12\n",
      "2 13\n"
     ]
    }
   ],
   "source": [
    "for column in range(1, 3):\n",
    "    for line in range(11, 14):\n",
    "        print(column, line)"
   ]
  },
  {
   "cell_type": "markdown",
   "metadata": {},
   "source": [
    "Nous avons une boucle intérieure allant de 11 à 13 (n'oubliez pas que, 14 n'est\n",
    "pas inclus lorsqu'on utilise `range()`), inclue dans une boucle extérieure qui\n",
    "elle va de 1 à 2 (idem, 3 n'est pas inclue).\n",
    "\n",
    "Comme vous pouvez le voir les éléments de la boucle intérieure sont affichés\n",
    "deux fois, une fois pour chaque itération de la boucle extérieure.\n",
    "\n",
    "En utilisant cette technique, on peut répéter les éléments de notre Arbre de\n",
    "Noël :"
   ]
  },
  {
   "cell_type": "code",
   "execution_count": 13,
   "metadata": {},
   "outputs": [
    {
     "name": "stdout",
     "output_type": "stream",
     "text": [
      "*\n",
      "**\n",
      "***\n",
      "*\n",
      "**\n",
      "***\n",
      "*\n",
      "**\n",
      "***\n"
     ]
    }
   ],
   "source": [
    "for floor in range(3): # répéter 3 fois\n",
    "    for size in range(1, 4):\n",
    "        print(size * \"*\")"
   ]
  },
  {
   "cell_type": "markdown",
   "metadata": {},
   "source": [
    "<div class=\"alert alert-success\">\n",
    "    <b>Exercice :</b> Avant d'aller plus loin, modifier le code ci-dessus afin que pour \n",
    "    chaque itération de la boucle extérieure la boucle intérieure soit exécutée une fois de plus. \n",
    "    (Que pour chaque étage on ait une branche de plus).\n",
    "</div>\n",
    "\n",
    "Vous devriez obtenir le résultat de notre demi Arbre de Noël décrit en début de\n",
    "chapitre. Par exemple :\n",
    "\n",
    "```\n",
    "*\n",
    "**\n",
    "*\n",
    "**\n",
    "***\n",
    "*\n",
    "**\n",
    "***\n",
    "****\n",
    "*\n",
    "**\n",
    "***\n",
    "****\n",
    "*****\n",
    "*\n",
    "**\n",
    "***\n",
    "****\n",
    "*****\n",
    "******\n",
    "```"
   ]
  },
  {
   "cell_type": "markdown",
   "metadata": {},
   "source": [
    "<div class=\"alert alert-warning\">\n",
    "    <b>Correction :</b> Vous êtes sûr que vous avez suffisamment essayé !!\n",
    "</div>"
   ]
  },
  {
   "cell_type": "code",
   "execution_count": 14,
   "metadata": {},
   "outputs": [
    {
     "name": "stdout",
     "output_type": "stream",
     "text": [
      "*\n",
      "**\n",
      "*\n",
      "**\n",
      "***\n",
      "*\n",
      "**\n",
      "***\n",
      "****\n",
      "*\n",
      "**\n",
      "***\n",
      "****\n",
      "*****\n",
      "*\n",
      "**\n",
      "***\n",
      "****\n",
      "*****\n",
      "******\n"
     ]
    }
   ],
   "source": [
    "for floor in range(1, 6):\n",
    "    for size in range(1, floor + 2):\n",
    "        print(size * \"*\")"
   ]
  },
  {
   "cell_type": "markdown",
   "metadata": {},
   "source": [
    "#### Correction :\n",
    "\n",
    "La principale modification concerne la boucle intérieure dont la borne\n",
    "supérieur doit changer à chaque nouvelle itération de la boucle extérieure.\n",
    "\n",
    "On notera l'opérateur d'incrémentation `+=` qui permet d'ajouter une valeur à\n",
    "la valeur déjà contenu dans une variable :"
   ]
  },
  {
   "cell_type": "code",
   "execution_count": 34,
   "metadata": {},
   "outputs": [
    {
     "name": "stdout",
     "output_type": "stream",
     "text": [
      "i =  1\n",
      "i =  2\n",
      "i =  3\n"
     ]
    }
   ],
   "source": [
    "i = 1\n",
    "print(\"i = \", i)\n",
    "i += 1\n",
    "print(\"i = \", i)\n",
    "i += 1\n",
    "print(\"i = \", i) "
   ]
  },
  {
   "cell_type": "markdown",
   "metadata": {},
   "source": [
    "##### autre solution :\n",
    "\n",
    "En incrémentant progressivement la longueur maximum des branches."
   ]
  },
  {
   "cell_type": "code",
   "execution_count": 15,
   "metadata": {},
   "outputs": [
    {
     "name": "stdout",
     "output_type": "stream",
     "text": [
      "*\n",
      "**\n",
      "*\n",
      "**\n",
      "***\n",
      "*\n",
      "**\n",
      "***\n",
      "****\n",
      "*\n",
      "**\n",
      "***\n",
      "****\n",
      "*****\n",
      "*\n",
      "**\n",
      "***\n",
      "****\n",
      "*****\n",
      "******\n"
     ]
    }
   ],
   "source": [
    "max_size = 2\n",
    "for floor in range(5):\n",
    "    max_size += 1\n",
    "    for size in range(1, max_size):\n",
    "        print(size * \"*\")"
   ]
  },
  {
   "cell_type": "markdown",
   "metadata": {},
   "source": [
    "## Les fonctions\n",
    "\n",
    "Nous avons déjà pu voir comment les fonctions peuvent nous aider à empaqueter \n",
    "certaines taches ou opérations. Nous pourrions par exemple écrire une fonction\n",
    "qui dessine une partie de l'arbre de Noël.\n",
    "\n",
    "Voici comment nous pouvons faire en Python :"
   ]
  },
  {
   "cell_type": "code",
   "execution_count": 16,
   "metadata": {},
   "outputs": [],
   "source": [
    "def print_triangle(n):\n",
    "    \"\"\" Print a triangle with n lines \"\"\"\n",
    "    for line in range(1, n + 1):\n",
    "        print(line * \"*\")"
   ]
  },
  {
   "cell_type": "code",
   "execution_count": 17,
   "metadata": {},
   "outputs": [
    {
     "name": "stdout",
     "output_type": "stream",
     "text": [
      "*\n",
      "**\n",
      "***\n"
     ]
    }
   ],
   "source": [
    "print_triangle(3)"
   ]
  },
  {
   "cell_type": "code",
   "execution_count": 18,
   "metadata": {},
   "outputs": [
    {
     "name": "stdout",
     "output_type": "stream",
     "text": [
      "*\n",
      "**\n",
      "***\n",
      "****\n",
      "*****\n"
     ]
    }
   ],
   "source": [
    "print_triangle(5)"
   ]
  },
  {
   "cell_type": "markdown",
   "metadata": {},
   "source": [
    "Regardons de plus près la fonction `print_triangle()`:\n",
    "\n",
    "```py\n",
    "def print_triangle(n):\n",
    "    \"\"\" Print a triangle with n lines \"\"\"\n",
    "    for line in range(1, n + 1):\n",
    "        print(line * \"*\")\n",
    "```\n",
    "\n",
    "La définition d'une fonction commence toujours avec l'instruction `def`. Ensuite\n",
    "on donne un nom à la fonction. Entre les parenthèses, on indique quels sont les\n",
    "noms des arguments passés à la fonction lorsqu'elle est appelée. Les lignes\n",
    "suivantes définissent les instructions à exécuter lors de l'utilisation de la\n",
    "fonction.\n",
    "\n",
    "Comme vu dans l'exemple, les instructions peuvent utiliser les variables passées\n",
    "en arguments. Le principe opératoire est le suivant, si on créé une fonction avec\n",
    "trois arguments :\n",
    "\n",
    "```py\n",
    "def foo(a, b, c):\n",
    "    print(\"FOO\", a, b, c)\n",
    "```\n",
    "\n",
    "Lorsque vous appelez cette nouvelle fonction, vous devez spécifier une valeur\n",
    "pour chacun des arguments. De la même manière que ce que nous faisions pour\n",
    "appeler les fonctions précédentes :\n",
    "\n",
    "```py\n",
    ">>> foo(1, \"Ala\", 2 + 3 + 4)\n",
    "FOO 1 Ala 9\n",
    ">>> x = 42\n",
    ">>> foo(x, x + 1, x + 2)\n",
    "FOO 42 43 44\n",
    "```\n",
    "\n",
    "On notera qu'un argument est simplement un alias, si on modifie la valeur liée\n",
    "à cet alias pour une autre valeur, les variables initiales ne sont pas modifiés,\n",
    "c'est la même chose pour les arguments :"
   ]
  },
  {
   "cell_type": "code",
   "execution_count": 19,
   "metadata": {},
   "outputs": [
    {
     "name": "stdout",
     "output_type": "stream",
     "text": [
      "48\n"
     ]
    }
   ],
   "source": [
    "def plus_five(n):\n",
    "    \"\"\" add 5 to n \"\"\"\n",
    "    n = n + 5\n",
    "    print(n)\n",
    "x = 43\n",
    "plus_five(x)"
   ]
  },
  {
   "cell_type": "markdown",
   "metadata": {},
   "source": [
    "ça fonctionne comme pour les variables que nous avons vu précédement. Il y a\n",
    "seulement deux différences :\n",
    "\n",
    "1. Premièrement, les variables correspondants aux arguments d'une fonction sont définies à chaque\n",
    "   appel de la fonction. Python attache la valeur de la variable passée comme\n",
    "   argument à la variable qu'il vient de créer spécifiquement pour l'appel de cette\n",
    "   fonction.\n",
    "\n",
    "2. Deuxièmement, les variables correspondants aux arguments ne sont pas utilisables\n",
    "   à l'extérieur de la fonction car ils sont créé lors de l'appel de la fonction\n",
    "   et oublié à la fin de celle-ci. C'est pourquoi, si vous essayez d'accéder à\n",
    "   la valeur de n que nous avons définie dans notre fonction `plus_five()`, à\n",
    "   l'extérieur du code de la fonction, Python vous dit qu'elle n'est pas définie :\n",
    "\n",
    "\n",
    "C'est comme ça, notre cher Python fait le ménage à la fin d'un appel de fonction.\n",
    "On parle alors de *portée* d'une variable ou de variable *interne* à la fonction.\n",
    "\n",
    "Mais rappelez-vous, nous avons vu une instruction `return` qui nous permet de\n",
    "récupérer ce qui s'est passé dans la fonction.\n",
    "C'est une instruction spécifique qui ne fonctionne qu'au sein d'une fonction.\n",
    "\n",
    "Pour finir, comme dernier exemple de fonction, voici la solution au problème\n",
    "posé à la fin du chapitre précédent en utilisant une fonction :\n",
    "\n",
    "```py\n",
    "def print_triangle(n):\n",
    "    \"\"\" Print a triangle with n lines \"\"\"\n",
    "    for line in range(1, n + 1):\n",
    "        print(line * \"*\")\n",
    "\n",
    "for i in range(2, 5):\n",
    "    print_triangle(i)\n",
    "```\n",
    "\n",
    "Ce qui donne à l'exécution :\n",
    "\n",
    "```\n",
    "*\n",
    "**\n",
    "*\n",
    "**\n",
    "***\n",
    "*\n",
    "**\n",
    "***\n",
    "****\n",
    "```\n",
    "\n",
    "## Un Arbre de Noël entier\n",
    "\n",
    "Le chapitre précédent était principalement de la théorie. Utilisons nos nouvelles\n",
    "connaissances pour terminer notre programme et afficher notre Arbre de Noël.\n",
    "\n",
    "Voici à quoi ressemble notre programme actuel:\n",
    "\n",
    "```py\n",
    "def print_triangle(n):\n",
    "    \"\"\" Print a triangle with n lines \"\"\"\n",
    "    for line in range(1, n + 1):\n",
    "        print(line * \"*\")\n",
    "\n",
    "for i in range(2, 5):\n",
    "    print_triangle(i)\n",
    "```\n",
    "\n",
    "Comment pouvons-nous améliorer la fonction `print_triangle()`, pour afficher un\n",
    "Arbre de Noël entier et non juste la moitié ?\n",
    "\n",
    "Tout d'abord, essayons de déterminer le résultat attendu en fonction de la valeur\n",
    "de l'argument n. Le problème peut être abordé de deux façons différentes suivant le\n",
    "sens que l'on donne à n :\n",
    "\n",
    "1. n est la largeur du triangle\n",
    "2. n est le nombre de lignes\n",
    "\n",
    "Ainsi pour n=5 (largeur) ou n=3 (nombre de ligne) on s'attend à obtenir :\n",
    "\n",
    "```\n",
    "  *\n",
    " ***\n",
    "*****\n",
    "```\n",
    "\n",
    "<div class=\"alert alert-success\">\n",
    "    <b>Exercice :</b> Il est intéressant de noter que chaque ligne possède deux étoiles de plus que\n",
    "    la ligne précédente. Utiliser le troisième argument de la fonction\n",
    "    <code>range()</code> pour obtenir le bon nombre d'étoile. On remarque également que pour n lignes\n",
    "    le nombre d'étoiles sur la dernière ligne est $2n+1$.\n",
    "</div>\n",
    "\n",
    "Vous devez obtenir :\n",
    "\n",
    "```\n",
    "*\n",
    "***\n",
    "*****\n",
    "```"
   ]
  },
  {
   "cell_type": "code",
   "execution_count": 20,
   "metadata": {},
   "outputs": [
    {
     "name": "stdout",
     "output_type": "stream",
     "text": [
      "*\n",
      "***\n",
      "*****\n"
     ]
    }
   ],
   "source": [
    "def print_triangle(n):\n",
    "    \"\"\" Print a triangle with n lines \"\"\"\n",
    "    for line in range(n):\n",
    "        size = 2 * line + 1\n",
    "        print(size * \"*\")\n",
    "\n",
    "print_triangle(3)"
   ]
  },
  {
   "cell_type": "markdown",
   "metadata": {},
   "source": [
    "Ce n'est pas exactement ce à quoi on s'attendait, il y a effectivement le bon\n",
    "nombre d'étoiles mais on souhaiterait qu'elles soient alignées au centre.\n",
    "\n",
    "La fonction [`unicode.center()`](https://docs.python.org/3/library/stdtypes.html#str.center)\n",
    "peut nous aider. Elle s'applique à une chaine de caractères. Voyons comment elle\n",
    "fonctionne :"
   ]
  },
  {
   "cell_type": "code",
   "execution_count": 41,
   "metadata": {},
   "outputs": [
    {
     "data": {
      "text/plain": [
       "' Bonjour  '"
      ]
     },
     "execution_count": 41,
     "metadata": {},
     "output_type": "execute_result"
    }
   ],
   "source": [
    "\"Bonjour\".center(10)"
   ]
  },
  {
   "cell_type": "code",
   "execution_count": 42,
   "metadata": {},
   "outputs": [
    {
     "data": {
      "text/plain": [
       "' ** '"
      ]
     },
     "execution_count": 42,
     "metadata": {},
     "output_type": "execute_result"
    }
   ],
   "source": [
    "\"**\".center(4)"
   ]
  },
  {
   "cell_type": "markdown",
   "metadata": {},
   "source": [
    "Cette fois la chaine de caractères est centrée ! "
   ]
  },
  {
   "cell_type": "markdown",
   "metadata": {},
   "source": [
    "<div class=\"alert alert-success\">\n",
    "    <b>Exercice :</b> Modifier votre fonction pour obtenir le résultat voulu.\n",
    "</div>"
   ]
  },
  {
   "cell_type": "code",
   "execution_count": 21,
   "metadata": {},
   "outputs": [
    {
     "name": "stdout",
     "output_type": "stream",
     "text": [
      "   *   \n",
      "  ***  \n",
      " ***** \n"
     ]
    }
   ],
   "source": [
    "def print_triangle(n):\n",
    "    \"\"\" Print a triangle with n lines \"\"\"\n",
    "    for line in range(n):\n",
    "        size = 2 * line + 1\n",
    "        draw = size * \"*\"\n",
    "        print(draw.center(2 * n + 1))\n",
    "\n",
    "print_triangle(3)"
   ]
  },
  {
   "cell_type": "markdown",
   "metadata": {},
   "source": [
    "Cependant, un nouveau problème apparait. Reprennez la fonction `print_triangle()` et faites afficher plusieurs triangles comme nous l'avions fait pour le demi-arbre de noël. Vous deviez obtenir le résultat suivant :\n",
    "\n",
    "```\n",
    " *\n",
    "***\n",
    "  *\n",
    " ***\n",
    "*****\n",
    "   *\n",
    "  ***\n",
    " *****\n",
    "*******\n",
    "```"
   ]
  },
  {
   "cell_type": "code",
   "execution_count": 22,
   "metadata": {},
   "outputs": [
    {
     "name": "stdout",
     "output_type": "stream",
     "text": [
      "  *  \n",
      " *** \n",
      "   *   \n",
      "  ***  \n",
      " ***** \n",
      "    *    \n",
      "   ***   \n",
      "  *****  \n",
      " ******* \n"
     ]
    }
   ],
   "source": [
    "for i in range(2, 5):\n",
    "    print_triangle(i)"
   ]
  },
  {
   "cell_type": "markdown",
   "metadata": {},
   "source": [
    "Si nous avions un moyen de connaitre à l'avance la taille du segment le plus\n",
    "grand, nous pourrions ajouter un argument supplémentaire à `print_triangle()`, pour\n",
    "faire le centrage sur cette largeur. "
   ]
  },
  {
   "cell_type": "markdown",
   "metadata": {},
   "source": [
    "<div class=\"alert alert-success\">\n",
    "    <p><b>Exercice :</b> Modifier votre fonction pour obtenir le résultat voulu.</p>\n",
    "    <p>Voici un exemple d'exécution attendu :</p>\n",
    "</div>\n",
    "\n",
    "    Choisissez la taille de votre Arbre de Noël :\n",
    "    7\n",
    "       *\n",
    "      ***\n",
    "       *\n",
    "      ***\n",
    "     *****\n",
    "       *\n",
    "      ***\n",
    "     *****\n",
    "    *******\n",
    "\n"
   ]
  },
  {
   "cell_type": "code",
   "execution_count": 23,
   "metadata": {},
   "outputs": [],
   "source": [
    "def print_triangle(n, width):\n",
    "    \"\"\" Print a triangle with n lines and a width width \"\"\"\n",
    "    for line in range(n):\n",
    "        size = 2 * line + 1\n",
    "        draw = size * \"*\"\n",
    "        print(draw.center(width))"
   ]
  },
  {
   "cell_type": "code",
   "execution_count": 24,
   "metadata": {},
   "outputs": [
    {
     "name": "stdout",
     "output_type": "stream",
     "text": [
      "Choose the size of your Christmas tree :7\n",
      "total width =  7\n",
      "   *   \n",
      "  ***  \n",
      "   *   \n",
      "  ***  \n",
      " ***** \n",
      "   *   \n",
      "  ***  \n",
      " ***** \n",
      "*******\n"
     ]
    }
   ],
   "source": [
    "total_width = int(input(\"Choose the size of your Christmas tree :\"))\n",
    "print(\"total width = \", total_width)\n",
    "for i in range(2, 5):\n",
    "    print_triangle(i, total_width)"
   ]
  },
  {
   "cell_type": "markdown",
   "metadata": {},
   "source": [
    "## La boucle `while`\n",
    "\n",
    "Nous avons vu la boucle `for` permettant de répéter une opération un certain\n",
    "nombre de fois en parcourant une liste. Il existe une autre façon de répéter\n",
    "une action en python, il s'agit de la boucle `while`. En français, on dirait :\n",
    "\n",
    "```\n",
    "Tant que ma condition est vrai:\n",
    "    opérations à effectuer\n",
    "```\n",
    "\n",
    "Ce qui se traduit en python par :\n",
    "\n",
    "```py\n",
    "while condition:\n",
    "    do_something()\n",
    "```\n",
    "\n",
    "Par exemple, nous allons demander 4 nombres entre 1 et 100 à l'utilisateur que\n",
    "nous enregistrerons dans une liste :\n",
    "\n",
    "```py\n",
    "# counter\n",
    "n = 0\n",
    "# list to record values\n",
    "values = list()\n",
    "\n",
    "print(\"Give me 4 numbers between 1 and 100:\")\n",
    "while n < 4:\n",
    "    value = int(input(\"number: \"))\n",
    "    values.append(value)\n",
    "    n += 1\n",
    "print(\"values: \", values)\n",
    "```\n",
    "\n",
    "Résultat :\n",
    "\n",
    "``` \n",
    "Give me 4 numbers between 1 and 100:\n",
    "number: 10\n",
    "number: 88\n",
    "number: 17\n",
    "number: 64\n",
    "values:  [10, 88, 17, 64]\n",
    "```\n",
    "\n",
    "Deux éléments manquent cruellement à ce petit programme :\n",
    "\n",
    "* On n'a pas vérifié si les nombres étaient compris entre 1 et 100\n",
    "* La taille de la liste (4) est imposée\n"
   ]
  },
  {
   "cell_type": "markdown",
   "metadata": {},
   "source": [
    "<div class=\"alert alert-success\">\n",
    "    <b>Exercice :</b> Compte tenu de vos connaissances actuelles, modifiez ce programme\n",
    "    pour qu'il refuse d'enregistrer un nombre s'il n'est pas compris entre 1 et 100.\n",
    "    Vous pourriez aussi laisser l'utilisateur chosir la taille de la liste (le nombre d'éléments)\n",
    "    et les bornes des nombres demandés.\n",
    "</div>"
   ]
  },
  {
   "cell_type": "code",
   "execution_count": 26,
   "metadata": {},
   "outputs": [
    {
     "name": "stdout",
     "output_type": "stream",
     "text": [
      "Give me 4 numbers between 1 and 100:\n",
      "number: 99\n",
      "number: 18\n",
      "number: 2020\n",
      "the number must be between 1 and 100\n",
      "you have entered  2020\n",
      "number: 48\n",
      "number: 53\n",
      "values :  [99, 18, 48, 53]\n"
     ]
    }
   ],
   "source": [
    "print(\"Give me 4 numbers between 1 and 100:\")\n",
    "\n",
    "# counter\n",
    "n = 0\n",
    "# list to record values\n",
    "values = list()\n",
    "\n",
    "while n < 4:\n",
    "    value = int(input(\"number: \"))\n",
    "    if 1 <= value <= 100:\n",
    "        values.append(value)\n",
    "        n += 1\n",
    "    else:\n",
    "        print(\"the number must be between 1 and 100\")\n",
    "        print(\"you have entered \", value)\n",
    "    \n",
    "print(\"values : \", values)"
   ]
  },
  {
   "cell_type": "markdown",
   "metadata": {},
   "source": [
    "## En résumé\n",
    "\n",
    "* Vous savez maintenant créer une liste.\n",
    "\n",
    "* Vous savez utiliser une boucle `for` pour parcourir cette liste.\n",
    "\n",
    "* Nous avons appris à utiliser la fonction `range()`, qui retourne un\n",
    "  *générateur* que l'on peut parcourir avec une boucle `for`. Nous avons vu\n",
    "  également la fonction `len()` qui donne le nombre d'éléments d'une liste.\n",
    "\n",
    "* Nous avons manipulé encore une fois les fonctions qui permettent d'organiser\n",
    "  le code et le rendre fonctionnel.\n",
    "\n",
    "* Nous avons vu les boucles `while`.\n",
    "\n",
    "Vous savez presque tout ce qu'il faut pour programmer en python. Il faut\n",
    "vous perfectionner et acquérir un peu d'aisance mais les bases sont là : \n",
    "les boucles et les conditions. Il nous reste\n",
    "une dernière chose à voir, la notion d'objets et de programmation orientée objet."
   ]
  }
 ],
 "metadata": {
  "anaconda-cloud": {},
  "kernelspec": {
   "display_name": "Python 3",
   "language": "python",
   "name": "python3"
  },
  "language_info": {
   "codemirror_mode": {
    "name": "ipython",
    "version": 3
   },
   "file_extension": ".py",
   "mimetype": "text/x-python",
   "name": "python",
   "nbconvert_exporter": "python",
   "pygments_lexer": "ipython3",
   "version": "3.6.4"
  }
 },
 "nbformat": 4,
 "nbformat_minor": 1
}
