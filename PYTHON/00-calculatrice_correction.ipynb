{
 "cells": [
  {
   "cell_type": "markdown",
   "metadata": {},
   "source": [
    "# La calculatrice python\n",
    "\n",
    "L'objectif de ce notebook est de prendre en main le jupyter notebook et les opérations de base de python :\n",
    "\n",
    "1. Les opérations de base\n",
    "2. Variables et affectation \n",
    "3. Vocabulaire\n",
    "4. Obtenir de l'aide !\n",
    "5. Savoir lire et écrire\n",
    "\n",
    "Rappel pour exécuter une cellule, faire `ctrl + Entrée` ou `Maj + Entrée`.\n",
    "\n",
    "## 1. Les opérateurs de base\n",
    "\n",
    "### Opérateurs mathématiques\n",
    "\n",
    "Il s'agit des opération de calculs de base : addition, soustraction, division et multiplication."
   ]
  },
  {
   "cell_type": "markdown",
   "metadata": {},
   "source": [
    "<div class=\"alert alert-success\">\n",
    "<h3>Exercices :</h3>\n",
    "    \n",
    "<p>Lisez les exemples et faites vos propres essais.</p>\n",
    "</div>"
   ]
  },
  {
   "cell_type": "markdown",
   "metadata": {},
   "source": [
    "#### Addition"
   ]
  },
  {
   "cell_type": "code",
   "execution_count": 1,
   "metadata": {},
   "outputs": [
    {
     "data": {
      "text/plain": [
       "5"
      ]
     },
     "execution_count": 1,
     "metadata": {},
     "output_type": "execute_result"
    }
   ],
   "source": [
    "3 + 2"
   ]
  },
  {
   "cell_type": "markdown",
   "metadata": {},
   "source": [
    "#### Soustraction"
   ]
  },
  {
   "cell_type": "code",
   "execution_count": 2,
   "metadata": {},
   "outputs": [
    {
     "data": {
      "text/plain": [
       "4"
      ]
     },
     "execution_count": 2,
     "metadata": {},
     "output_type": "execute_result"
    }
   ],
   "source": [
    "5 - 1"
   ]
  },
  {
   "cell_type": "markdown",
   "metadata": {},
   "source": [
    "#### Multiplication"
   ]
  },
  {
   "cell_type": "code",
   "execution_count": 3,
   "metadata": {},
   "outputs": [
    {
     "data": {
      "text/plain": [
       "6"
      ]
     },
     "execution_count": 3,
     "metadata": {},
     "output_type": "execute_result"
    }
   ],
   "source": [
    "3 * 2"
   ]
  },
  {
   "cell_type": "markdown",
   "metadata": {},
   "source": [
    "#### Division\n",
    "\n",
    "Attention il existe deux types de division.\n",
    "\n",
    "* La division standard `/`\n",
    "* La division entière `//`"
   ]
  },
  {
   "cell_type": "code",
   "execution_count": 4,
   "metadata": {},
   "outputs": [
    {
     "data": {
      "text/plain": [
       "1.5"
      ]
     },
     "execution_count": 4,
     "metadata": {},
     "output_type": "execute_result"
    }
   ],
   "source": [
    "3 / 2"
   ]
  },
  {
   "cell_type": "code",
   "execution_count": 5,
   "metadata": {},
   "outputs": [
    {
     "data": {
      "text/plain": [
       "1"
      ]
     },
     "execution_count": 5,
     "metadata": {},
     "output_type": "execute_result"
    }
   ],
   "source": [
    "3 // 2"
   ]
  },
  {
   "cell_type": "code",
   "execution_count": 6,
   "metadata": {},
   "outputs": [
    {
     "data": {
      "text/plain": [
       "0"
      ]
     },
     "execution_count": 6,
     "metadata": {},
     "output_type": "execute_result"
    }
   ],
   "source": [
    "1 // 2"
   ]
  },
  {
   "cell_type": "markdown",
   "metadata": {},
   "source": [
    "### Opérateurs de comparaison\n",
    "\n",
    "Le résultat de ces opérations est ce qu'on appelle un `booleen`, c'est à dire Vrai ou Faux.\n",
    "\n",
    "#### Égalité\n",
    "\n",
    "`==`"
   ]
  },
  {
   "cell_type": "code",
   "execution_count": 7,
   "metadata": {},
   "outputs": [
    {
     "data": {
      "text/plain": [
       "False"
      ]
     },
     "execution_count": 7,
     "metadata": {},
     "output_type": "execute_result"
    }
   ],
   "source": [
    "1 == 3"
   ]
  },
  {
   "cell_type": "code",
   "execution_count": 8,
   "metadata": {},
   "outputs": [
    {
     "data": {
      "text/plain": [
       "True"
      ]
     },
     "execution_count": 8,
     "metadata": {},
     "output_type": "execute_result"
    }
   ],
   "source": [
    "2 == 2"
   ]
  },
  {
   "cell_type": "markdown",
   "metadata": {},
   "source": [
    "#### Différent\n",
    "\n",
    "!="
   ]
  },
  {
   "cell_type": "code",
   "execution_count": 9,
   "metadata": {},
   "outputs": [
    {
     "data": {
      "text/plain": [
       "True"
      ]
     },
     "execution_count": 9,
     "metadata": {},
     "output_type": "execute_result"
    }
   ],
   "source": [
    "1 != 3"
   ]
  },
  {
   "cell_type": "code",
   "execution_count": 10,
   "metadata": {},
   "outputs": [
    {
     "data": {
      "text/plain": [
       "False"
      ]
     },
     "execution_count": 10,
     "metadata": {},
     "output_type": "execute_result"
    }
   ],
   "source": [
    "2 != 2"
   ]
  },
  {
   "cell_type": "markdown",
   "metadata": {},
   "source": [
    "#### Comparaison\n",
    "\n",
    "`>`, `>=`, `<`, `<=`\n"
   ]
  },
  {
   "cell_type": "code",
   "execution_count": 11,
   "metadata": {},
   "outputs": [
    {
     "data": {
      "text/plain": [
       "False"
      ]
     },
     "execution_count": 11,
     "metadata": {},
     "output_type": "execute_result"
    }
   ],
   "source": [
    "1 > 2"
   ]
  },
  {
   "cell_type": "code",
   "execution_count": 12,
   "metadata": {},
   "outputs": [
    {
     "data": {
      "text/plain": [
       "True"
      ]
     },
     "execution_count": 12,
     "metadata": {},
     "output_type": "execute_result"
    }
   ],
   "source": [
    "2 >= 2"
   ]
  },
  {
   "cell_type": "code",
   "execution_count": 13,
   "metadata": {},
   "outputs": [
    {
     "data": {
      "text/plain": [
       "True"
      ]
     },
     "execution_count": 13,
     "metadata": {},
     "output_type": "execute_result"
    }
   ],
   "source": [
    "4 < 10"
   ]
  },
  {
   "cell_type": "markdown",
   "metadata": {},
   "source": [
    "<div class=\"alert alert-success\">\n",
    "<h3>Exercice :</h3>\n",
    "\n",
    "<ul>\n",
    "<li> Au moment du départ, les divers cadrans d’une automobile marquent respectivement : </li>\n",
    "    <ul>\n",
    "    <li> 7h50</li>\n",
    "    <li> 14 739 km</li>\n",
    "    <li> 20 litres</li>\n",
    "    </ul>\n",
    "<li> En cours de route, l'automobiliste s'arrête pendant 30 minutes pour prendre 35 litres d’essence et se reposer.<li>\n",
    "<li> À l'arrivée, les compteurs indiquent :<li>\n",
    "    <ul>\n",
    "    <li> 13h20</li>\n",
    "    <li> 15 124 km</li>\n",
    "    <li> 10 litres</li>\n",
    "    </ul>\n",
    "</ul>\n",
    "\n",
    "<h4>Questions</h4>\n",
    "\n",
    "<ol>\n",
    "<li> Quelle distance l'auto a-t-elle parcourue ?</li>\n",
    "<li> Durant combien de temps a-t-elle roulé ?</li>\n",
    "<li> Quelle a été sa vitesse moyenne (sans compter l'arrêt) ?</li>\n",
    "<li> Quelle est la consomation pour ce trajet ?</li>\n",
    "</ol>\n",
    "\n",
    "</div>"
   ]
  },
  {
   "cell_type": "code",
   "execution_count": 14,
   "metadata": {},
   "outputs": [
    {
     "data": {
      "text/plain": [
       "385"
      ]
     },
     "execution_count": 14,
     "metadata": {},
     "output_type": "execute_result"
    }
   ],
   "source": [
    "15124 - 14739"
   ]
  },
  {
   "cell_type": "code",
   "execution_count": 1,
   "metadata": {},
   "outputs": [
    {
     "data": {
      "text/plain": [
       "5.000000000000001"
      ]
     },
     "execution_count": 1,
     "metadata": {},
     "output_type": "execute_result"
    }
   ],
   "source": [
    "13 + 20 / 60 - (7 + 50 / 60) - (30 / 60)"
   ]
  },
  {
   "cell_type": "code",
   "execution_count": 32,
   "metadata": {},
   "outputs": [
    {
     "data": {
      "text/plain": [
       "77.0"
      ]
     },
     "execution_count": 32,
     "metadata": {},
     "output_type": "execute_result"
    }
   ],
   "source": [
    "385 / 5"
   ]
  },
  {
   "cell_type": "code",
   "execution_count": 16,
   "metadata": {},
   "outputs": [
    {
     "data": {
      "text/plain": [
       "45"
      ]
     },
     "execution_count": 16,
     "metadata": {},
     "output_type": "execute_result"
    }
   ],
   "source": [
    "20 - 10 + 35"
   ]
  },
  {
   "cell_type": "markdown",
   "metadata": {},
   "source": [
    "## 2. Variables et affectations\n",
    "\n",
    "Une *variable* est un nom utilisé pour faire référence à une zone de la mémoire de l'ordinateur. On peut voir une variable comme un *conteneur* ou une *boite* avec une étiquette (un nom) dans lequel on sauvegarde des données, des informations...\n",
    "\n",
    "Pour *affecter* une valeur à une variable on utilise le signe `=`. Ainsi\n",
    "\n",
    "    a = 3\n",
    "    \n",
    "se lit `a` reçoit la valeur `3`."
   ]
  },
  {
   "cell_type": "code",
   "execution_count": 19,
   "metadata": {
    "collapsed": true
   },
   "outputs": [],
   "source": [
    "a = 3"
   ]
  },
  {
   "cell_type": "markdown",
   "metadata": {},
   "source": [
    "On vérifie que a contient la valeur 3"
   ]
  },
  {
   "cell_type": "code",
   "execution_count": 20,
   "metadata": {},
   "outputs": [
    {
     "data": {
      "text/plain": [
       "3"
      ]
     },
     "execution_count": 20,
     "metadata": {},
     "output_type": "execute_result"
    }
   ],
   "source": [
    "a"
   ]
  },
  {
   "cell_type": "markdown",
   "metadata": {},
   "source": [
    "On peut réaliser les mêmes opérations que précédemment avec des variables :"
   ]
  },
  {
   "cell_type": "code",
   "execution_count": 21,
   "metadata": {},
   "outputs": [
    {
     "data": {
      "text/plain": [
       "5"
      ]
     },
     "execution_count": 21,
     "metadata": {},
     "output_type": "execute_result"
    }
   ],
   "source": [
    "a = 3\n",
    "b = 2\n",
    "c = a + b\n",
    "c"
   ]
  },
  {
   "cell_type": "markdown",
   "metadata": {},
   "source": [
    "* a reçoit 3\n",
    "* b reçoit 2\n",
    "* c reçoit a + b\n",
    "* afficher c"
   ]
  },
  {
   "cell_type": "markdown",
   "metadata": {},
   "source": [
    "<div class=\"alert alert-success\">\n",
    "<h3>Exercices : </h3>\n",
    "\n",
    "<ul>\n",
    "    <li>Affecter des valeurs à des variables</li>\n",
    "    <li>Utiliser ces variables pour faire des opérations</li>\n",
    "</ul>\n",
    "</div>"
   ]
  },
  {
   "cell_type": "code",
   "execution_count": 22,
   "metadata": {},
   "outputs": [
    {
     "data": {
      "text/plain": [
       "5"
      ]
     },
     "execution_count": 22,
     "metadata": {},
     "output_type": "execute_result"
    }
   ],
   "source": [
    "a = 2\n",
    "b = 3\n",
    "a + b"
   ]
  },
  {
   "cell_type": "code",
   "execution_count": 23,
   "metadata": {},
   "outputs": [
    {
     "data": {
      "text/plain": [
       "2"
      ]
     },
     "execution_count": 23,
     "metadata": {},
     "output_type": "execute_result"
    }
   ],
   "source": [
    "b - 1"
   ]
  },
  {
   "cell_type": "code",
   "execution_count": 24,
   "metadata": {},
   "outputs": [
    {
     "data": {
      "text/plain": [
       "6"
      ]
     },
     "execution_count": 24,
     "metadata": {},
     "output_type": "execute_result"
    }
   ],
   "source": [
    "a * b"
   ]
  },
  {
   "cell_type": "markdown",
   "metadata": {},
   "source": [
    "<div class=\"alert alert-danger\">\n",
    "<b>Attention : </b> Certains noms sont réservés car il font partie du langage python.\n",
    "</div>"
   ]
  },
  {
   "cell_type": "code",
   "execution_count": null,
   "metadata": {
    "collapsed": true
   },
   "outputs": [],
   "source": [
    "return = 3"
   ]
  },
  {
   "cell_type": "markdown",
   "metadata": {},
   "source": [
    "### Choisir le bon nom !\n",
    "\n",
    "Il est très important de choisir des noms adéquats pour faciliter la lecture et la compréhension d'un programme.\n",
    "\n",
    "* Choisir des noms explicites\n",
    "* Attention à la casse (majuscule minuscule)\n",
    "* Le underscore en début peut avoir un sens.\n",
    "\n",
    "### Variété de contenu\n",
    "\n",
    "Les nombres ne sont pas les seuls objets en informatique. On parle du type de la variable. Voici les types de base :\n",
    "\n",
    "* Les entiers (*integer*) : `1`, `0`, `-97833`\n",
    "* Les flotants (*float*) : `1.`, `3.14`, `1.54e-10`\n",
    "* Les chaines de caractères (string) : `\"coucou\"`, `\"je m'endort !\"` **(Toujours avec des guillemets)**\n",
    "* Les varialbes logiques (bool) : `True`, `False` **(Attension à la majuscule)**\n",
    "\n",
    "Testons nos variables pour voir leur type, on utilise la fonction `type()` :"
   ]
  },
  {
   "cell_type": "code",
   "execution_count": 26,
   "metadata": {},
   "outputs": [
    {
     "data": {
      "text/plain": [
       "int"
      ]
     },
     "execution_count": 26,
     "metadata": {},
     "output_type": "execute_result"
    }
   ],
   "source": [
    "i = 1\n",
    "type(i)"
   ]
  },
  {
   "cell_type": "code",
   "execution_count": 27,
   "metadata": {},
   "outputs": [
    {
     "data": {
      "text/plain": [
       "float"
      ]
     },
     "execution_count": 27,
     "metadata": {},
     "output_type": "execute_result"
    }
   ],
   "source": [
    "x = 3.14\n",
    "type(x)"
   ]
  },
  {
   "cell_type": "code",
   "execution_count": 28,
   "metadata": {},
   "outputs": [
    {
     "data": {
      "text/plain": [
       "str"
      ]
     },
     "execution_count": 28,
     "metadata": {},
     "output_type": "execute_result"
    }
   ],
   "source": [
    "mot = \"bonjour !\"\n",
    "type(mot)"
   ]
  },
  {
   "cell_type": "code",
   "execution_count": 29,
   "metadata": {},
   "outputs": [
    {
     "data": {
      "text/plain": [
       "bool"
      ]
     },
     "execution_count": 29,
     "metadata": {},
     "output_type": "execute_result"
    }
   ],
   "source": [
    "test = True\n",
    "type(test)"
   ]
  },
  {
   "cell_type": "markdown",
   "metadata": {},
   "source": [
    "Il existe beaucoup d'autres types, on peut même créer les siens, mais c'est une autre histoire !\n",
    "\n",
    "#### Petit aparté \n",
    "\n",
    "* En python la déclaration des variables est *implicite*\n",
    "* Python est un langage à *typage dynamique fort*, le type de la variable s'adapte au contenu\n",
    "\n",
    "## 3. Vocabulaire\n",
    "\n",
    "Quelques rappels de ce qui a été dit pour fixer le vocabulaire :\n",
    "\n",
    "**Affectation :** Le signe `=` sert à affecter une valeur à une variable.\n",
    "\n",
    "**Comparaison :** La comparaison renvoie Vrai ou Faux (un booléen).\n",
    "\n",
    "**Expressions ou instructions :** Portion de code que python peut évaluer pour obtenir une valeur.\n",
    "\n",
    "**Identificateurs :** On distingue les identificateurs réservés à python qui définissent le langage et les variables qui sont des identificateurs associés à une valeur."
   ]
  },
  {
   "cell_type": "markdown",
   "metadata": {},
   "source": [
    "<div class=\"alert alert-success\">\n",
    "<h3>Exercice : </h3>\n",
    "\n",
    "<p>Reprendre l'exercice précédent en utilisant des variables.</p>\n",
    "\n",
    "<ul>\n",
    "<li> Au moment du départ, les divers cadrans d’une automobile marquent respectivement : </li>\n",
    "    <ul>\n",
    "    <li> 7h50</li>\n",
    "    <li> 14 739 km</li>\n",
    "    <li> 20 litres</li>\n",
    "    </ul>\n",
    "<li> En cours de route, l'automobiliste s'arrête pendant 30 minutes pour prendre 35 litres d’essence et se reposer.<li>\n",
    "<li> À l'arrivée, les compteurs indiquent :<li>\n",
    "    <ul>\n",
    "    <li> 13h20</li>\n",
    "    <li> 15 124 km</li>\n",
    "    <li> 10 litres</li>\n",
    "    </ul>\n",
    "</ul>\n",
    "\n",
    "<h4>Questions</h4>\n",
    "\n",
    "<ol>\n",
    "<li> Quelle distance l'auto a-t-elle parcourue ?</li>\n",
    "<li> Durant combien de temps a-t-elle roulé ?</li>\n",
    "<li> Quelle a été sa vitesse moyenne (sans compter l'arrêt) ?</li>\n",
    "<li> Quelle est la consomation pour ce trajet ?</li>\n",
    "</ol>\n",
    "\n",
    "</div>"
   ]
  },
  {
   "cell_type": "code",
   "execution_count": 30,
   "metadata": {
    "collapsed": true
   },
   "outputs": [],
   "source": [
    "# calcul des temps en heures\n",
    "heure_depart = 7.0 + 50.0 / 60.0\n",
    "heure_arrivee = 13.0 + 20.0 / 60.0\n",
    "pause_temps = 30.0 / 60.0\n",
    "\n",
    "# km au compteur\n",
    "km_depart = 14739\n",
    "km_arrivee = 15124\n",
    "\n",
    "# essence au compteur\n",
    "essence_depart = 20\n",
    "essence_arrivee = 10\n",
    "\n",
    "# plein d'essence\n",
    "plein = 35"
   ]
  },
  {
   "cell_type": "code",
   "execution_count": 31,
   "metadata": {},
   "outputs": [
    {
     "name": "stdout",
     "output_type": "stream",
     "text": [
      "distance =  385\n",
      "consomation =  45\n",
      "duree =  5.000000000000001  h\n",
      "vitesse moyenne = 76.99999999999999  km/h\n"
     ]
    }
   ],
   "source": [
    "# distance parcourue\n",
    "distance = km_arrivee - km_depart\n",
    "print(\"distance = \", distance)\n",
    "\n",
    "# essence consommée\n",
    "consomation = essence_depart + plein - essence_arrivee\n",
    "print(\"consomation = \", consomation)\n",
    "\n",
    "# duree du parcours sans la pause\n",
    "duree = heure_arrivee - heure_depart - pause_temps\n",
    "print(\"duree = \", duree, \" h\")\n",
    "\n",
    "# vitesse moyenne sans tenir compte de la pause\n",
    "vitesse = distance / duree\n",
    "print(f\"vitesse moyenne =\", vitesse, \" km/h\")"
   ]
  },
  {
   "cell_type": "markdown",
   "metadata": {},
   "source": [
    "Voyons comment écrire ces résultats en utilisant un format :"
   ]
  },
  {
   "cell_type": "code",
   "execution_count": 33,
   "metadata": {},
   "outputs": [
    {
     "name": "stdout",
     "output_type": "stream",
     "text": [
      "distance =   385\n",
      "consomation =  45.0000 \n",
      "duree =   5.00 h\n",
      "vitesse moyenne = 76.99999999999999 km/h\n",
      "vitesse moyenne =  7.7e+01 km/h\n"
     ]
    }
   ],
   "source": [
    "# Le % => toute version de python\n",
    "# distance parcourue\n",
    "distance = km_arrivee - km_depart\n",
    "print(\"distance = %5d\" % distance)\n",
    "\n",
    "# essence consommée\n",
    "consomation = essence_depart + plein - essence_arrivee\n",
    "print(\"consomation = %8.4f \" % consomation)\n",
    "\n",
    "# format() => à partir de python 2.6\n",
    "# duree du parcours sans la pause\n",
    "duree = heure_arrivee - heure_depart - pause_temps\n",
    "print(\"duree = {:6.2f} h\".format(duree))\n",
    "\n",
    "# f-strings => à partir de python 3.6\n",
    "# vitesse moyenne sans tenir compte de la pause\n",
    "vitesse = distance / duree\n",
    "print(f\"vitesse moyenne = {vitesse} km/h\")\n",
    "print(f\"vitesse moyenne = {vitesse:8.1e} km/h\")"
   ]
  },
  {
   "cell_type": "markdown",
   "metadata": {},
   "source": [
    "Voyons une version plus condensée avec les *f-strings* :"
   ]
  },
  {
   "cell_type": "code",
   "execution_count": 36,
   "metadata": {},
   "outputs": [
    {
     "name": "stdout",
     "output_type": "stream",
     "text": [
      "distance = 385\n",
      "consomation = 45\n",
      "duree = 5.0 h\n",
      "vitesse moyenne = 77.0 km/h\n"
     ]
    }
   ],
   "source": [
    "# python 3.6 ou superieur\n",
    "# on peut écrire directement le calcul dans la f-string\n",
    "print(f\"distance = {km_arrivee - km_depart}\")\n",
    "print(f\"consomation = {essence_depart + plein - essence_arrivee}\")\n",
    "print(f\"duree = {heure_arrivee - heure_depart - pause_temps:.1f} h\")\n",
    "print(f\"vitesse moyenne = {distance / duree:.1f} km/h\")"
   ]
  },
  {
   "cell_type": "markdown",
   "metadata": {},
   "source": [
    "## 4. Obtenir de l'aide !\n",
    "\n",
    "Un des avantages de python est que les documentations sont le plus souvent de bonne qualité. Il faut donc en profiter et il est important de savoir lire une documentation.\n",
    "\n",
    "Dans `jupyter`, on accède à la documentation avec `?` ou avec `help()`. Pour l'instant vous connaissez peu de chose. Vous pouvez essayer avec  `type` mais le résultat est assez technique."
   ]
  },
  {
   "cell_type": "code",
   "execution_count": 37,
   "metadata": {
    "collapsed": true
   },
   "outputs": [],
   "source": [
    "type?"
   ]
  },
  {
   "cell_type": "markdown",
   "metadata": {},
   "source": [
    "On remarque la petit fenêtre qui s'ouvre en bas de la page. La croix permet de la fermer alors que l'autre bouton permet de la conserver dans un onglet."
   ]
  },
  {
   "cell_type": "code",
   "execution_count": 38,
   "metadata": {
    "scrolled": true
   },
   "outputs": [
    {
     "name": "stdout",
     "output_type": "stream",
     "text": [
      "Help on class type in module builtins:\n",
      "\n",
      "class type(object)\n",
      " |  type(object_or_name, bases, dict)\n",
      " |  type(object) -> the object's type\n",
      " |  type(name, bases, dict) -> a new type\n",
      " |  \n",
      " |  Methods defined here:\n",
      " |  \n",
      " |  __call__(self, /, *args, **kwargs)\n",
      " |      Call self as a function.\n",
      " |  \n",
      " |  __delattr__(self, name, /)\n",
      " |      Implement delattr(self, name).\n",
      " |  \n",
      " |  __dir__(...)\n",
      " |      __dir__() -> list\n",
      " |      specialized __dir__ implementation for types\n",
      " |  \n",
      " |  __getattribute__(self, name, /)\n",
      " |      Return getattr(self, name).\n",
      " |  \n",
      " |  __init__(self, /, *args, **kwargs)\n",
      " |      Initialize self.  See help(type(self)) for accurate signature.\n",
      " |  \n",
      " |  __instancecheck__(...)\n",
      " |      __instancecheck__() -> bool\n",
      " |      check if an object is an instance\n",
      " |  \n",
      " |  __new__(*args, **kwargs)\n",
      " |      Create and return a new object.  See help(type) for accurate signature.\n",
      " |  \n",
      " |  __prepare__(...)\n",
      " |      __prepare__() -> dict\n",
      " |      used to create the namespace for the class statement\n",
      " |  \n",
      " |  __repr__(self, /)\n",
      " |      Return repr(self).\n",
      " |  \n",
      " |  __setattr__(self, name, value, /)\n",
      " |      Implement setattr(self, name, value).\n",
      " |  \n",
      " |  __sizeof__(...)\n",
      " |      __sizeof__() -> int\n",
      " |      return memory consumption of the type object\n",
      " |  \n",
      " |  __subclasscheck__(...)\n",
      " |      __subclasscheck__() -> bool\n",
      " |      check if a class is a subclass\n",
      " |  \n",
      " |  __subclasses__(...)\n",
      " |      __subclasses__() -> list of immediate subclasses\n",
      " |  \n",
      " |  mro(...)\n",
      " |      mro() -> list\n",
      " |      return a type's method resolution order\n",
      " |  \n",
      " |  ----------------------------------------------------------------------\n",
      " |  Data descriptors defined here:\n",
      " |  \n",
      " |  __abstractmethods__\n",
      " |  \n",
      " |  __dict__\n",
      " |  \n",
      " |  __text_signature__\n",
      " |  \n",
      " |  ----------------------------------------------------------------------\n",
      " |  Data and other attributes defined here:\n",
      " |  \n",
      " |  __base__ = <class 'object'>\n",
      " |      The most base type\n",
      " |  \n",
      " |  __bases__ = (<class 'object'>,)\n",
      " |  \n",
      " |  __basicsize__ = 864\n",
      " |  \n",
      " |  __dictoffset__ = 264\n",
      " |  \n",
      " |  __flags__ = 2148291584\n",
      " |  \n",
      " |  __itemsize__ = 40\n",
      " |  \n",
      " |  __mro__ = (<class 'type'>, <class 'object'>)\n",
      " |  \n",
      " |  __weakrefoffset__ = 368\n",
      "\n"
     ]
    }
   ],
   "source": [
    "help(type)"
   ]
  },
  {
   "cell_type": "code",
   "execution_count": 39,
   "metadata": {},
   "outputs": [
    {
     "name": "stdout",
     "output_type": "stream",
     "text": [
      "Help on int object:\n",
      "\n",
      "class int(object)\n",
      " |  int(x=0) -> integer\n",
      " |  int(x, base=10) -> integer\n",
      " |  \n",
      " |  Convert a number or string to an integer, or return 0 if no arguments\n",
      " |  are given.  If x is a number, return x.__int__().  For floating point\n",
      " |  numbers, this truncates towards zero.\n",
      " |  \n",
      " |  If x is not a number or if base is given, then x must be a string,\n",
      " |  bytes, or bytearray instance representing an integer literal in the\n",
      " |  given base.  The literal can be preceded by '+' or '-' and be surrounded\n",
      " |  by whitespace.  The base defaults to 10.  Valid bases are 0 and 2-36.\n",
      " |  Base 0 means to interpret the base from the string as an integer literal.\n",
      " |  >>> int('0b100', base=0)\n",
      " |  4\n",
      " |  \n",
      " |  Methods defined here:\n",
      " |  \n",
      " |  __abs__(self, /)\n",
      " |      abs(self)\n",
      " |  \n",
      " |  __add__(self, value, /)\n",
      " |      Return self+value.\n",
      " |  \n",
      " |  __and__(self, value, /)\n",
      " |      Return self&value.\n",
      " |  \n",
      " |  __bool__(self, /)\n",
      " |      self != 0\n",
      " |  \n",
      " |  __ceil__(...)\n",
      " |      Ceiling of an Integral returns itself.\n",
      " |  \n",
      " |  __divmod__(self, value, /)\n",
      " |      Return divmod(self, value).\n",
      " |  \n",
      " |  __eq__(self, value, /)\n",
      " |      Return self==value.\n",
      " |  \n",
      " |  __float__(self, /)\n",
      " |      float(self)\n",
      " |  \n",
      " |  __floor__(...)\n",
      " |      Flooring an Integral returns itself.\n",
      " |  \n",
      " |  __floordiv__(self, value, /)\n",
      " |      Return self//value.\n",
      " |  \n",
      " |  __format__(...)\n",
      " |      default object formatter\n",
      " |  \n",
      " |  __ge__(self, value, /)\n",
      " |      Return self>=value.\n",
      " |  \n",
      " |  __getattribute__(self, name, /)\n",
      " |      Return getattr(self, name).\n",
      " |  \n",
      " |  __getnewargs__(...)\n",
      " |  \n",
      " |  __gt__(self, value, /)\n",
      " |      Return self>value.\n",
      " |  \n",
      " |  __hash__(self, /)\n",
      " |      Return hash(self).\n",
      " |  \n",
      " |  __index__(self, /)\n",
      " |      Return self converted to an integer, if self is suitable for use as an index into a list.\n",
      " |  \n",
      " |  __int__(self, /)\n",
      " |      int(self)\n",
      " |  \n",
      " |  __invert__(self, /)\n",
      " |      ~self\n",
      " |  \n",
      " |  __le__(self, value, /)\n",
      " |      Return self<=value.\n",
      " |  \n",
      " |  __lshift__(self, value, /)\n",
      " |      Return self<<value.\n",
      " |  \n",
      " |  __lt__(self, value, /)\n",
      " |      Return self<value.\n",
      " |  \n",
      " |  __mod__(self, value, /)\n",
      " |      Return self%value.\n",
      " |  \n",
      " |  __mul__(self, value, /)\n",
      " |      Return self*value.\n",
      " |  \n",
      " |  __ne__(self, value, /)\n",
      " |      Return self!=value.\n",
      " |  \n",
      " |  __neg__(self, /)\n",
      " |      -self\n",
      " |  \n",
      " |  __new__(*args, **kwargs) from builtins.type\n",
      " |      Create and return a new object.  See help(type) for accurate signature.\n",
      " |  \n",
      " |  __or__(self, value, /)\n",
      " |      Return self|value.\n",
      " |  \n",
      " |  __pos__(self, /)\n",
      " |      +self\n",
      " |  \n",
      " |  __pow__(self, value, mod=None, /)\n",
      " |      Return pow(self, value, mod).\n",
      " |  \n",
      " |  __radd__(self, value, /)\n",
      " |      Return value+self.\n",
      " |  \n",
      " |  __rand__(self, value, /)\n",
      " |      Return value&self.\n",
      " |  \n",
      " |  __rdivmod__(self, value, /)\n",
      " |      Return divmod(value, self).\n",
      " |  \n",
      " |  __repr__(self, /)\n",
      " |      Return repr(self).\n",
      " |  \n",
      " |  __rfloordiv__(self, value, /)\n",
      " |      Return value//self.\n",
      " |  \n",
      " |  __rlshift__(self, value, /)\n",
      " |      Return value<<self.\n",
      " |  \n",
      " |  __rmod__(self, value, /)\n",
      " |      Return value%self.\n",
      " |  \n",
      " |  __rmul__(self, value, /)\n",
      " |      Return value*self.\n",
      " |  \n",
      " |  __ror__(self, value, /)\n",
      " |      Return value|self.\n",
      " |  \n",
      " |  __round__(...)\n",
      " |      Rounding an Integral returns itself.\n",
      " |      Rounding with an ndigits argument also returns an integer.\n",
      " |  \n",
      " |  __rpow__(self, value, mod=None, /)\n",
      " |      Return pow(value, self, mod).\n",
      " |  \n",
      " |  __rrshift__(self, value, /)\n",
      " |      Return value>>self.\n",
      " |  \n",
      " |  __rshift__(self, value, /)\n",
      " |      Return self>>value.\n",
      " |  \n",
      " |  __rsub__(self, value, /)\n",
      " |      Return value-self.\n",
      " |  \n",
      " |  __rtruediv__(self, value, /)\n",
      " |      Return value/self.\n",
      " |  \n",
      " |  __rxor__(self, value, /)\n",
      " |      Return value^self.\n",
      " |  \n",
      " |  __sizeof__(...)\n",
      " |      Returns size in memory, in bytes\n",
      " |  \n",
      " |  __str__(self, /)\n",
      " |      Return str(self).\n",
      " |  \n",
      " |  __sub__(self, value, /)\n",
      " |      Return self-value.\n",
      " |  \n",
      " |  __truediv__(self, value, /)\n",
      " |      Return self/value.\n",
      " |  \n",
      " |  __trunc__(...)\n",
      " |      Truncating an Integral returns itself.\n",
      " |  \n",
      " |  __xor__(self, value, /)\n",
      " |      Return self^value.\n",
      " |  \n",
      " |  bit_length(...)\n",
      " |      int.bit_length() -> int\n",
      " |      \n",
      " |      Number of bits necessary to represent self in binary.\n",
      " |      >>> bin(37)\n",
      " |      '0b100101'\n",
      " |      >>> (37).bit_length()\n",
      " |      6\n",
      " |  \n",
      " |  conjugate(...)\n",
      " |      Returns self, the complex conjugate of any int.\n",
      " |  \n",
      " |  from_bytes(...) from builtins.type\n",
      " |      int.from_bytes(bytes, byteorder, *, signed=False) -> int\n",
      " |      \n",
      " |      Return the integer represented by the given array of bytes.\n",
      " |      \n",
      " |      The bytes argument must be a bytes-like object (e.g. bytes or bytearray).\n",
      " |      \n",
      " |      The byteorder argument determines the byte order used to represent the\n",
      " |      integer.  If byteorder is 'big', the most significant byte is at the\n",
      " |      beginning of the byte array.  If byteorder is 'little', the most\n",
      " |      significant byte is at the end of the byte array.  To request the native\n",
      " |      byte order of the host system, use `sys.byteorder' as the byte order value.\n",
      " |      \n",
      " |      The signed keyword-only argument indicates whether two's complement is\n",
      " |      used to represent the integer.\n",
      " |  \n",
      " |  to_bytes(...)\n",
      " |      int.to_bytes(length, byteorder, *, signed=False) -> bytes\n",
      " |      \n",
      " |      Return an array of bytes representing an integer.\n",
      " |      \n",
      " |      The integer is represented using length bytes.  An OverflowError is\n",
      " |      raised if the integer is not representable with the given number of\n",
      " |      bytes.\n",
      " |      \n",
      " |      The byteorder argument determines the byte order used to represent the\n",
      " |      integer.  If byteorder is 'big', the most significant byte is at the\n",
      " |      beginning of the byte array.  If byteorder is 'little', the most\n",
      " |      significant byte is at the end of the byte array.  To request the native\n",
      " |      byte order of the host system, use `sys.byteorder' as the byte order value.\n",
      " |      \n",
      " |      The signed keyword-only argument determines whether two's complement is\n",
      " |      used to represent the integer.  If signed is False and a negative integer\n",
      " |      is given, an OverflowError is raised.\n",
      " |  \n",
      " |  ----------------------------------------------------------------------\n",
      " |  Data descriptors defined here:\n",
      " |  \n",
      " |  denominator\n",
      " |      the denominator of a rational number in lowest terms\n",
      " |  \n",
      " |  imag\n",
      " |      the imaginary part of a complex number\n",
      " |  \n",
      " |  numerator\n",
      " |      the numerator of a rational number in lowest terms\n",
      " |  \n",
      " |  real\n",
      " |      the real part of a complex number\n",
      "\n"
     ]
    }
   ],
   "source": [
    "help(4)"
   ]
  },
  {
   "cell_type": "markdown",
   "metadata": {},
   "source": [
    "jupyter et son moteur (le noyau), ipython, disposent également de commandes magiques qui commencent par un %. Pour obtenir la liste des commandes magiques utilisez `%quickref`. Parmi elles, on utilisera plus tard les commandes `%matplotlib`, `%pylab`, entre autres."
   ]
  },
  {
   "cell_type": "code",
   "execution_count": 40,
   "metadata": {
    "collapsed": true
   },
   "outputs": [],
   "source": [
    "%quickref"
   ]
  },
  {
   "cell_type": "markdown",
   "metadata": {},
   "source": [
    "La commande `%whos` donne la liste des variables que vous avez utilisées et la valeur qu'elles contiennent :"
   ]
  },
  {
   "cell_type": "code",
   "execution_count": 41,
   "metadata": {},
   "outputs": [
    {
     "name": "stdout",
     "output_type": "stream",
     "text": [
      "Variable          Type     Data/Info\n",
      "------------------------------------\n",
      "a                 int      2\n",
      "b                 int      3\n",
      "c                 int      5\n",
      "consomation       int      45\n",
      "distance          int      385\n",
      "duree             float    5.000000000000001\n",
      "essence_arrivee   int      10\n",
      "essence_depart    int      20\n",
      "heure_arrivee     float    13.333333333333334\n",
      "heure_depart      float    7.833333333333333\n",
      "i                 int      1\n",
      "km_arrivee        int      15124\n",
      "km_depart         int      14739\n",
      "mot               str      bonjour !\n",
      "pause_temps       float    0.5\n",
      "plein             int      35\n",
      "test              bool     True\n",
      "vitesse           float    76.99999999999999\n",
      "x                 float    3.14\n"
     ]
    }
   ],
   "source": [
    "%whos"
   ]
  },
  {
   "cell_type": "markdown",
   "metadata": {},
   "source": [
    "## 4. Savoir lire et écrire\n",
    "\n",
    "Ou plutôt : la gestion des entrées/sorties. Cet aspect est plus important lors de l'écriture de programmes dans un fichier. Dans le notebook, nous avons déjà vu qu'il suffit d'entrer le nom de la variable pour afficher son contenu.\n",
    "\n",
    "### Écrire\n",
    "\n",
    "Pour écrire, on utilise la fonction `print()`."
   ]
  },
  {
   "cell_type": "code",
   "execution_count": 42,
   "metadata": {},
   "outputs": [
    {
     "name": "stdout",
     "output_type": "stream",
     "text": [
      "somme a + b =  7\n"
     ]
    }
   ],
   "source": [
    "a = 2\n",
    "b = 5\n",
    "print(\"somme a + b = \", a + b)"
   ]
  },
  {
   "cell_type": "code",
   "execution_count": 43,
   "metadata": {},
   "outputs": [
    {
     "name": "stdout",
     "output_type": "stream",
     "text": [
      "2\n"
     ]
    }
   ],
   "source": [
    "a = 2\n",
    "print(a)"
   ]
  },
  {
   "cell_type": "markdown",
   "metadata": {},
   "source": [
    "<div class=\"alert alert-success\">\n",
    "<h4>Exercice : </h4> Afficher la documentation de la fonction print.\n",
    "</div>"
   ]
  },
  {
   "cell_type": "code",
   "execution_count": 44,
   "metadata": {},
   "outputs": [
    {
     "name": "stdout",
     "output_type": "stream",
     "text": [
      "Help on built-in function print in module builtins:\n",
      "\n",
      "print(...)\n",
      "    print(value, ..., sep=' ', end='\\n', file=sys.stdout, flush=False)\n",
      "    \n",
      "    Prints the values to a stream, or to sys.stdout by default.\n",
      "    Optional keyword arguments:\n",
      "    file:  a file-like object (stream); defaults to the current sys.stdout.\n",
      "    sep:   string inserted between values, default a space.\n",
      "    end:   string appended after the last value, default a newline.\n",
      "    flush: whether to forcibly flush the stream.\n",
      "\n"
     ]
    }
   ],
   "source": [
    "help(print)"
   ]
  },
  {
   "cell_type": "markdown",
   "metadata": {},
   "source": [
    "<div class=\"alert alert-success\">\n",
    "<h4>Exercice : </h4> \n",
    "\n",
    "<ul>\n",
    "<li>Enregistrer deux mots dans deux variables</li>\n",
    "<li>Avec print, afficher les mots séparés par un tiret</li>\n",
    "</ul>\n",
    "</div>"
   ]
  },
  {
   "cell_type": "code",
   "execution_count": 46,
   "metadata": {},
   "outputs": [
    {
     "name": "stdout",
     "output_type": "stream",
     "text": [
      "Bonjour - Bonne journée !\n",
      "Bonjour-Bonne journée !\n"
     ]
    }
   ],
   "source": [
    "debut = \"Bonjour\"\n",
    "message = \"Bonne journée !\"\n",
    "print(debut, \"-\", message)\n",
    "# ou d'après la documentation\n",
    "print(debut, message, sep=\"-\")"
   ]
  },
  {
   "cell_type": "markdown",
   "metadata": {},
   "source": [
    "### Lire\n",
    "\n",
    "* Pour lire, on utilise la fonction `input`\n",
    "* **ATTENTION** on lit toujours une chaîne de caractères"
   ]
  },
  {
   "cell_type": "code",
   "execution_count": 47,
   "metadata": {},
   "outputs": [
    {
     "name": "stdout",
     "output_type": "stream",
     "text": [
      "Entrer une valeur : 4\n"
     ]
    },
    {
     "data": {
      "text/plain": [
       "'4'"
      ]
     },
     "execution_count": 47,
     "metadata": {},
     "output_type": "execute_result"
    }
   ],
   "source": [
    "resultat = input(\"Entrer une valeur : \")\n",
    "resultat"
   ]
  },
  {
   "cell_type": "markdown",
   "metadata": {},
   "source": [
    "<div class=\"alert alert-success\">\n",
    "<h4>Exercice : </h4> \n",
    "\n",
    "<ul>\n",
    "<li>Lire une valeur que l'on demande à l'utilisateur.</li>\n",
    "<li>Afficher la valeur</li>\n",
    "<li>Vérifier le type de la valeur (avec type)</li>\n",
    "</ul>\n",
    "</div>"
   ]
  },
  {
   "cell_type": "code",
   "execution_count": 48,
   "metadata": {},
   "outputs": [
    {
     "name": "stdout",
     "output_type": "stream",
     "text": [
      "Veuillez entrer une valeur : 8\n",
      "Vous avez entrer 8\n",
      "La valeur est de type <class 'str'>\n"
     ]
    }
   ],
   "source": [
    "valeur = input(\"Veuillez entrer une valeur : \")\n",
    "print(f\"Vous avez entrer {valeur}\")\n",
    "print(f\"La valeur est de type {type(valeur)}\")"
   ]
  }
 ],
 "metadata": {
  "kernelspec": {
   "display_name": "Python 3",
   "language": "python",
   "name": "python3"
  },
  "language_info": {
   "codemirror_mode": {
    "name": "ipython",
    "version": 3
   },
   "file_extension": ".py",
   "mimetype": "text/x-python",
   "name": "python",
   "nbconvert_exporter": "python",
   "pygments_lexer": "ipython3",
   "version": "3.6.4"
  }
 },
 "nbformat": 4,
 "nbformat_minor": 1
}
