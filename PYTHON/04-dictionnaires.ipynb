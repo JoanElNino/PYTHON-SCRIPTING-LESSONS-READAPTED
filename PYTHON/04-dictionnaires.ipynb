{
 "cells": [
  {
   "cell_type": "markdown",
   "metadata": {},
   "source": [
    "# Les dictionnaires\n",
    "\n",
    "Les dictionnaires font partis des types de base de Python. Au premier abord on peut les voir comme une liste d'éléments, sauf que les éléments de la liste ne sont pas repérés par un indice mais par une *clef*.\n",
    "\n",
    "Par exemple, voici une liste :"
   ]
  },
  {
   "cell_type": "code",
   "execution_count": null,
   "metadata": {
    "collapsed": true
   },
   "outputs": [],
   "source": [
    "liste = [\"a\", 4, \"plop\", 3.12]"
   ]
  },
  {
   "cell_type": "markdown",
   "metadata": {},
   "source": [
    "On accède à un élément par son indice :"
   ]
  },
  {
   "cell_type": "code",
   "execution_count": null,
   "metadata": {},
   "outputs": [],
   "source": [
    "liste[2]"
   ]
  },
  {
   "cell_type": "markdown",
   "metadata": {},
   "source": [
    "Voici maintenant un dictionnaire avec ses couples `(clef, valeur)`."
   ]
  },
  {
   "cell_type": "code",
   "execution_count": null,
   "metadata": {
    "collapsed": true
   },
   "outputs": [],
   "source": [
    "voiture = {\"couleur\": \"rouge\", \"prix\": 20000, \"année\": 2015}"
   ]
  },
  {
   "cell_type": "markdown",
   "metadata": {},
   "source": [
    "On accède à un élément par sa clef :"
   ]
  },
  {
   "cell_type": "code",
   "execution_count": null,
   "metadata": {},
   "outputs": [],
   "source": [
    "voiture[\"prix\"]"
   ]
  },
  {
   "cell_type": "markdown",
   "metadata": {},
   "source": [
    "## Créer le dictionnaire\n",
    "\n",
    "Les listes sont délimitées par des crochets, les dictionnaires sont délimités par des acolades. Le dictionnaire peut aussi être créé par la fonction `dict()`. "
   ]
  },
  {
   "cell_type": "code",
   "execution_count": null,
   "metadata": {},
   "outputs": [],
   "source": [
    "dico = {}\n",
    "type(dico)"
   ]
  },
  {
   "cell_type": "code",
   "execution_count": null,
   "metadata": {},
   "outputs": [],
   "source": [
    "dico = dict()\n",
    "type(dico)"
   ]
  },
  {
   "cell_type": "markdown",
   "metadata": {},
   "source": [
    "On peut ensuite ajouter des éléments dans le dictionnaire un par un :"
   ]
  },
  {
   "cell_type": "code",
   "execution_count": null,
   "metadata": {},
   "outputs": [],
   "source": [
    "dico[\"serie\"] = \"S\"\n",
    "dico"
   ]
  },
  {
   "cell_type": "markdown",
   "metadata": {},
   "source": [
    "Ou en utilisant la méthode `update()`"
   ]
  },
  {
   "cell_type": "code",
   "execution_count": null,
   "metadata": {},
   "outputs": [],
   "source": [
    "autre_dico = {\"date\": 2016, \"couleur\": \"rouge\"}\n",
    "dico.update(autre_dico)\n",
    "dico"
   ]
  },
  {
   "cell_type": "markdown",
   "metadata": {},
   "source": [
    "**Remarque importante : ** L'ordre des clefs ne correspond pas à celui dans lequel vous les avez entrées.\n",
    "\n",
    "On peut aussi utiliser une boucle `for` pour créer un dictionnaire."
   ]
  },
  {
   "cell_type": "code",
   "execution_count": null,
   "metadata": {},
   "outputs": [],
   "source": [
    "dico = {key: value for key, value in zip(\"abc\", range(3))}\n",
    "dico"
   ]
  },
  {
   "cell_type": "markdown",
   "metadata": {},
   "source": [
    "Décomposons un peu :\n",
    "\n",
    "* La fonction `zip()` permet d'aligner deux listes côte à côte\n",
    "* La boucle for parcourt les deux listes en parallèle et place la valeur de la première liste dans la variable `key` et celle de la deuxième dans `value`.\n",
    "\n",
    "## Méthodes de parcours\n",
    "\n",
    "Plusieurs méthodes permettent de parcourir les clefs, les valeurs du dictionnaire ou les deux simultanément. Les noms sont assez explicitent :\n",
    "\n",
    "* `keys()` retourne les clefs\n",
    "* `values()` retourne les valeurs\n",
    "* `items()` retourne les clefs et les valeurs"
   ]
  },
  {
   "cell_type": "code",
   "execution_count": null,
   "metadata": {},
   "outputs": [],
   "source": [
    "dico = {key: value for key, value in zip(\"abcde\", range(1, 6))}\n",
    "dico"
   ]
  },
  {
   "cell_type": "markdown",
   "metadata": {},
   "source": [
    "Parcours des clefs"
   ]
  },
  {
   "cell_type": "code",
   "execution_count": null,
   "metadata": {},
   "outputs": [],
   "source": [
    "for key in dico.keys():\n",
    "    print(key)"
   ]
  },
  {
   "cell_type": "markdown",
   "metadata": {},
   "source": [
    "Parcours des valeurs"
   ]
  },
  {
   "cell_type": "code",
   "execution_count": null,
   "metadata": {},
   "outputs": [],
   "source": [
    "for value in dico.values():\n",
    "    print(value)"
   ]
  },
  {
   "cell_type": "markdown",
   "metadata": {},
   "source": [
    "Les clefs et les valeurs "
   ]
  },
  {
   "cell_type": "code",
   "execution_count": null,
   "metadata": {},
   "outputs": [],
   "source": [
    "for key, value in dico.items():\n",
    "    print(key, value)"
   ]
  },
  {
   "cell_type": "markdown",
   "metadata": {},
   "source": [
    "Les items sont des couples `(clef, valeur)`, on appelle cela un *tuple*."
   ]
  },
  {
   "cell_type": "code",
   "execution_count": null,
   "metadata": {},
   "outputs": [],
   "source": [
    "dico.items()"
   ]
  },
  {
   "cell_type": "markdown",
   "metadata": {},
   "source": [
    "## Savoir si une clef existe\n",
    "\n",
    "On peut écrire une condition pour savoir si un clef existe dans le dictionnaire :"
   ]
  },
  {
   "cell_type": "code",
   "execution_count": null,
   "metadata": {},
   "outputs": [],
   "source": [
    "dico"
   ]
  },
  {
   "cell_type": "code",
   "execution_count": null,
   "metadata": {},
   "outputs": [],
   "source": [
    "\"a\" in dico"
   ]
  },
  {
   "cell_type": "code",
   "execution_count": null,
   "metadata": {},
   "outputs": [],
   "source": [
    "\"z\" in dico"
   ]
  },
  {
   "cell_type": "markdown",
   "metadata": {},
   "source": [
    "Lorsqu'on essaye d'accéder à une clef qui n'existe pas, on obtient une `KeyError`."
   ]
  },
  {
   "cell_type": "code",
   "execution_count": null,
   "metadata": {},
   "outputs": [],
   "source": [
    "dico[\"z\"]"
   ]
  },
  {
   "cell_type": "markdown",
   "metadata": {},
   "source": [
    "## Exercice de base\n",
    "\n",
    "<div class=\"alert alert-success\" style=\"margin-top:20px\">\n",
    "<b>Exercice : </b> Écrire un dictionnaire avec les mois de l'année et le nombre de jour qu'ils contiennent pour une année bissextile et une année standard.\n",
    "\n",
    "<ul>\n",
    "    <li>Faire afficher les mois et le nombre de jours associé à chaque mois</li>\n",
    "    <li>Écrire un test qui indique s'il s'agit d'une année bissextile ou non</li>\n",
    "</ul>\n",
    "</div>"
   ]
  },
  {
   "cell_type": "code",
   "execution_count": null,
   "metadata": {
    "collapsed": true
   },
   "outputs": [],
   "source": []
  },
  {
   "cell_type": "code",
   "execution_count": null,
   "metadata": {
    "collapsed": true
   },
   "outputs": [],
   "source": []
  },
  {
   "cell_type": "code",
   "execution_count": null,
   "metadata": {
    "collapsed": true
   },
   "outputs": [],
   "source": []
  },
  {
   "cell_type": "markdown",
   "metadata": {},
   "source": [
    "## Retour sur le Morse\n",
    "\n",
    "Vous vous rappelez ? Vous avez commencé la formation en écrivant des fonctions permettant \n",
    "d'envoyer des SOS au cas où vous seriez perdu ! Essayons maintenant d'aller plus loin et\n",
    "d'écrire une fonction qui permet de coder et décoder un texte, en morse !\n",
    "\n",
    "Voici le code international \n",
    "\n",
    "![Code morse](https://upload.wikimedia.org/wikipedia/commons/thumb/8/8e/International_Morse_Code-fr.svg/450px-International_Morse_Code-fr.svg.png)\n",
    "\n",
    "\n",
    "<div class=\"alert alert-success\" style=\"margin-top:20px\">\n",
    "<b>Exercice : </b> Écrire deux fonctions <code>latin_to_morse()</code> et <code>morse_to_latin()</code> qui \n",
    "    permettent respectivement de convertir un message écrit avec l'alphabet latin en morse et\n",
    "    de décripter un message en morse.\n",
    "\n",
    "Vous aurez besoin de la correspondance entre l'alphabet latin et le morse qui est donnée ci-dessous\n",
    "sous la forme d'un dictionnaire.\n",
    "\n",
    "Voici quelques guides :\n",
    "<ul>\n",
    "    <li>Dans un premier temps ne considérez que les 26 lettres de l'alphabet (pas de lettres accentuées ou caractères spéciaux).</li>\n",
    "    <li>Pour décripter le morse il faut un nouveau dictionnaire dans lequel les clefs et valeurs sont inversées.</li>\n",
    "    <li>Deux lettres sont séparés par un espace</li>\n",
    "    <li>Deux mots sont séparés par un oblique <code>\" / \"</code></li>\n",
    "</ul>\n",
    "</div>"
   ]
  },
  {
   "cell_type": "code",
   "execution_count": null,
   "metadata": {},
   "outputs": [],
   "source": [
    "CODE = {'A': '.-',     'B': '-...',   'C': '-.-.', \n",
    "        'D': '-..',    'E': '.',      'F': '..-.',\n",
    "        'G': '--.',    'H': '....',   'I': '..',\n",
    "        'J': '.---',   'K': '-.-',    'L': '.-..',\n",
    "        'M': '--',     'N': '-.',     'O': '---',\n",
    "        'P': '.--.',   'Q': '--.-',   'R': '.-.',\n",
    "        'S': '...',    'T': '-',      'U': '..-',\n",
    "        'V': '...-',   'W': '.--',    'X': '-..-',\n",
    "        'Y': '-.--',   'Z': '--..',\n",
    "        \n",
    "        '0': '-----',  '1': '.----',  '2': '..---',\n",
    "        '3': '...--',  '4': '....-',  '5': '.....',\n",
    "        '6': '-....',  '7': '--...',  '8': '---..',\n",
    "        '9': '----.' \n",
    "        }"
   ]
  },
  {
   "cell_type": "code",
   "execution_count": null,
   "metadata": {},
   "outputs": [],
   "source": []
  },
  {
   "cell_type": "code",
   "execution_count": null,
   "metadata": {},
   "outputs": [],
   "source": []
  },
  {
   "cell_type": "code",
   "execution_count": null,
   "metadata": {},
   "outputs": [],
   "source": []
  },
  {
   "cell_type": "markdown",
   "metadata": {},
   "source": [
    "## Analyse d'un texte\n",
    "\n",
    "Vous allez analyser le texte suivant. Il s'agit du discours de Robespierre sur le jugement de Louis XVI (1ère intervention) prononcé à la tribune de la Convention le 3 décembre 1792.\n",
    "\n",
    "<div class=\"alert alert-success\" style=\"margin-top:20px\">\n",
    "<b>Exercice : </b> Construire un dictionnaire qui indique la fréquence de chaque lettre dans le texte.\n",
    "    \n",
    "<ul>\n",
    "<li>Affichez les résultats</li>\n",
    "<li>Affichez les résultats par ordre décroissant de fréquence</li>\n",
    "<li>Vous pouvez comparer vos résultats aux \n",
    "    <a href=\"https://fr.wikipedia.org/wiki/Fr%C3%A9quence_d%27apparition_des_lettres_en_fran%C3%A7ais\">données sur la langue française</a></li>\n",
    "</ul>\n",
    "</div>\n",
    "\n",
    "**Quelques indications :**\n",
    "\n",
    "* Il est nécessaire de remplacer tous les caractères accentués (regarder la méthode `replace()` des chaines de caractères)\n",
    "* Il faut passer tout le texte en minuscule\n",
    "* regardez la documentation de la fonction `sort()` pour trier."
   ]
  },
  {
   "cell_type": "code",
   "execution_count": null,
   "metadata": {},
   "outputs": [],
   "source": []
  },
  {
   "cell_type": "code",
   "execution_count": null,
   "metadata": {
    "collapsed": true
   },
   "outputs": [],
   "source": [
    "discours = \"\"\"L’assemblée a été entraînée, à son insu, loin de la véritable question. Il n’y a\n",
    "point ici de procès à faire. Louis n’est point un accusé. Vous n’êtes point des\n",
    "juges. Vous n’êtes, vous ne pouvez être que des hommes d’État, et les représentants\n",
    "de la nation. Vous n’avez point une sentence à rendre pour ou contre un homme,\n",
    "mais une mesure de salut public à prendre, un acte de providence nationale à\n",
    "exercer.\n",
    "\n",
    "Un roi détrôné, dans la république, n’est bon qu’à deux usages : ou à troubler\n",
    "la tranquillité de l’État et à ébranler la liberté, ou à affermir l’une et\n",
    "l’autre à la fois. Or, je soutiens que le caractère qu’a pris jusqu’ici votre\n",
    "délibération va directement contre ce but. En effet, quel est le parti que la\n",
    "saine politique prescrit pour cimenter la république naissante ? C’est de graver\n",
    "profondément dans les coeurs le mépris de la royauté, et de frapper de stupeur\n",
    "tous les partisans du roi.\n",
    "\n",
    "[...]\n",
    "\n",
    "Je vous propose de statuer dès ce moment sur le sort de Louis. Quant à sa femme,\n",
    "vous la renverrez aux tribunaux, ainsi que toutes les personnes prévenues des\n",
    "mêmes attentats. Son fils sera gardé au Temple, jusqu’à ce que la paix et la\n",
    "liberté publique soient affermies. Quant à Louis, je demande que la Convention\n",
    "nationale le déclare dès ce moment traître à la nation française, criminel envers\n",
    "l’humanité ; je demande qu’à ce titre il donne un grand exemple au monde, dans le\n",
    "lieu même où sont morts, le 10 août, les généreux martyrs de la liberté, et que\n",
    "cet événement mémorable soit consacré par un monument destiné à nourrir dans le\n",
    "coeur des peuples le sentiment de leurs droits & l’horreur des tyrans ; &, dans\n",
    "l’âme des tyrans, la terreur salutaire de la justice du peuple.\"\"\""
   ]
  }
 ],
 "metadata": {
  "anaconda-cloud": {},
  "kernelspec": {
   "display_name": "Python 3",
   "language": "python",
   "name": "python3"
  },
  "language_info": {
   "codemirror_mode": {
    "name": "ipython",
    "version": 3
   },
   "file_extension": ".py",
   "mimetype": "text/x-python",
   "name": "python",
   "nbconvert_exporter": "python",
   "pygments_lexer": "ipython3",
   "version": "3.6.4"
  }
 },
 "nbformat": 4,
 "nbformat_minor": 1
}
