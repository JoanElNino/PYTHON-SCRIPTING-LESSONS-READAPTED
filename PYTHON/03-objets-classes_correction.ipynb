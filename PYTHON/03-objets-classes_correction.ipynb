{
 "cells": [
  {
   "cell_type": "markdown",
   "metadata": {},
   "source": [
    "# Objets et classes\n",
    "\n",
    "Dans les faits, ce chapitre pourrait faire l'objet d'un cours complet. Nous\n",
    "allons simplement nous concentrer sur les fonctionnalités les plus simples dont\n",
    "vous aurez besoin pour pouvoir travailler avec python. En effet, on peut\n",
    "distinguer deux approches de l'objet en python :\n",
    "\n",
    "* Le côté *utilisateur*, il faut savoir utiliser les objets\n",
    "* Le côté *développeur*, pour la création de nouveaux objets\n",
    "\n",
    "Nous allons nous focaliser sur le premier point. Le second sera abordé afin de \n",
    "comprendre ce qu'il se passe en tant qu'utilisateur.\n",
    "\n",
    "## Toute valeur est un objet\n",
    "\n",
    "Toutes les choses que nous avons appelées valeur jusqu'à présent peuvent être\n",
    "appelé *\"un objet\"* dans l'univers de Python. On dit souvent qu'en Python\n",
    "*\"tout est objet\"*.\n",
    "\n",
    "Par exemple les entiers, pour lesquels la fonction `help()` nous retournait des\n",
    "dizaines de lignes d'information à propos de `int()` sont aussi des objets.\n",
    "\n",
    "## Tout objet a une classe\n",
    "\n",
    "Une classe est le type d'un objet (un type d'objet ?). Par analogie, on peut dire\n",
    "que c'est le moule qui permet de créer l'objet.\n",
    "\n",
    "On peut tout simplement utiliser la fonction \n",
    "[`type()`](https://docs.python.org/3/library/stdtypes.html#bltin-type-objects)\n",
    "qu'on a déjà vu précédemment,\n",
    "pour connaitre le type d'un objet :\n",
    "\n",
    "```py\n",
    ">>> type(2)\n",
    "<class 'int'>\n",
    ">>> type(2.0)\n",
    "<class 'float'>\n",
    ">>> type(\"spam eggs\")\n",
    "<class 'str'>\n",
    ">>> x = 1, 2\n",
    ">>> type(x)\n",
    "<class 'tuple'>\n",
    ">>> type([])\n",
    "<class 'list'>\n",
    "```\n",
    "\n",
    "Nous avons déjà parlé des classes que vous pouvez voir ici : `int`, `float`,\n",
    "`str`, `tuple`.\n",
    "\n",
    "Quand nous utilisons des nombres dans notre programme, nous attendons qu'ils se\n",
    "comportent comme des nombres, et nous savons intuitivement ce qu'est un nombre.\n",
    "Par contre, Python doit savoir exactement ce que signifie \"être un nombre\".\n",
    "\n",
    "Par exemple que se passe-t-il lorsqu'on additionne deux nombres ? Ou lorsqu'on les\n",
    "divise ? La classe `int` définit tout cela et bien plus. Rappelez vous,\n",
    "un ordinateur ne sait faire que ce qu'on lui dit et il faut lui expliquer\n",
    "lentement et surtout en détail !\n",
    "\n",
    "En utilisant la fonction `help()`, vérifiez ce que nous donne la classe `str`.\n",
    "Voici quelques fonctionnalités intéressantes :"
   ]
  },
  {
   "cell_type": "code",
   "execution_count": 1,
   "metadata": {},
   "outputs": [
    {
     "name": "stdout",
     "output_type": "stream",
     "text": [
      "Help on class str in module builtins:\n",
      "\n",
      "class str(object)\n",
      " |  str(object='') -> str\n",
      " |  str(bytes_or_buffer[, encoding[, errors]]) -> str\n",
      " |  \n",
      " |  Create a new string object from the given object. If encoding or\n",
      " |  errors is specified, then the object must expose a data buffer\n",
      " |  that will be decoded using the given encoding and error handler.\n",
      " |  Otherwise, returns the result of object.__str__() (if defined)\n",
      " |  or repr(object).\n",
      " |  encoding defaults to sys.getdefaultencoding().\n",
      " |  errors defaults to 'strict'.\n",
      " |  \n",
      " |  Methods defined here:\n",
      " |  \n",
      " |  __add__(self, value, /)\n",
      " |      Return self+value.\n",
      " |  \n",
      " |  __contains__(self, key, /)\n",
      " |      Return key in self.\n",
      " |  \n",
      " |  __eq__(self, value, /)\n",
      " |      Return self==value.\n",
      " |  \n",
      " |  __format__(...)\n",
      " |      S.__format__(format_spec) -> str\n",
      " |      \n",
      " |      Return a formatted version of S as described by format_spec.\n",
      " |  \n",
      " |  __ge__(self, value, /)\n",
      " |      Return self>=value.\n",
      " |  \n",
      " |  __getattribute__(self, name, /)\n",
      " |      Return getattr(self, name).\n",
      " |  \n",
      " |  __getitem__(self, key, /)\n",
      " |      Return self[key].\n",
      " |  \n",
      " |  __getnewargs__(...)\n",
      " |  \n",
      " |  __gt__(self, value, /)\n",
      " |      Return self>value.\n",
      " |  \n",
      " |  __hash__(self, /)\n",
      " |      Return hash(self).\n",
      " |  \n",
      " |  __iter__(self, /)\n",
      " |      Implement iter(self).\n",
      " |  \n",
      " |  __le__(self, value, /)\n",
      " |      Return self<=value.\n",
      " |  \n",
      " |  __len__(self, /)\n",
      " |      Return len(self).\n",
      " |  \n",
      " |  __lt__(self, value, /)\n",
      " |      Return self<value.\n",
      " |  \n",
      " |  __mod__(self, value, /)\n",
      " |      Return self%value.\n",
      " |  \n",
      " |  __mul__(self, value, /)\n",
      " |      Return self*value.n\n",
      " |  \n",
      " |  __ne__(self, value, /)\n",
      " |      Return self!=value.\n",
      " |  \n",
      " |  __new__(*args, **kwargs) from builtins.type\n",
      " |      Create and return a new object.  See help(type) for accurate signature.\n",
      " |  \n",
      " |  __repr__(self, /)\n",
      " |      Return repr(self).\n",
      " |  \n",
      " |  __rmod__(self, value, /)\n",
      " |      Return value%self.\n",
      " |  \n",
      " |  __rmul__(self, value, /)\n",
      " |      Return self*value.\n",
      " |  \n",
      " |  __sizeof__(...)\n",
      " |      S.__sizeof__() -> size of S in memory, in bytes\n",
      " |  \n",
      " |  __str__(self, /)\n",
      " |      Return str(self).\n",
      " |  \n",
      " |  capitalize(...)\n",
      " |      S.capitalize() -> str\n",
      " |      \n",
      " |      Return a capitalized version of S, i.e. make the first character\n",
      " |      have upper case and the rest lower case.\n",
      " |  \n",
      " |  casefold(...)\n",
      " |      S.casefold() -> str\n",
      " |      \n",
      " |      Return a version of S suitable for caseless comparisons.\n",
      " |  \n",
      " |  center(...)\n",
      " |      S.center(width[, fillchar]) -> str\n",
      " |      \n",
      " |      Return S centered in a string of length width. Padding is\n",
      " |      done using the specified fill character (default is a space)\n",
      " |  \n",
      " |  count(...)\n",
      " |      S.count(sub[, start[, end]]) -> int\n",
      " |      \n",
      " |      Return the number of non-overlapping occurrences of substring sub in\n",
      " |      string S[start:end].  Optional arguments start and end are\n",
      " |      interpreted as in slice notation.\n",
      " |  \n",
      " |  encode(...)\n",
      " |      S.encode(encoding='utf-8', errors='strict') -> bytes\n",
      " |      \n",
      " |      Encode S using the codec registered for encoding. Default encoding\n",
      " |      is 'utf-8'. errors may be given to set a different error\n",
      " |      handling scheme. Default is 'strict' meaning that encoding errors raise\n",
      " |      a UnicodeEncodeError. Other possible values are 'ignore', 'replace' and\n",
      " |      'xmlcharrefreplace' as well as any other name registered with\n",
      " |      codecs.register_error that can handle UnicodeEncodeErrors.\n",
      " |  \n",
      " |  endswith(...)\n",
      " |      S.endswith(suffix[, start[, end]]) -> bool\n",
      " |      \n",
      " |      Return True if S ends with the specified suffix, False otherwise.\n",
      " |      With optional start, test S beginning at that position.\n",
      " |      With optional end, stop comparing S at that position.\n",
      " |      suffix can also be a tuple of strings to try.\n",
      " |  \n",
      " |  expandtabs(...)\n",
      " |      S.expandtabs(tabsize=8) -> str\n",
      " |      \n",
      " |      Return a copy of S where all tab characters are expanded using spaces.\n",
      " |      If tabsize is not given, a tab size of 8 characters is assumed.\n",
      " |  \n",
      " |  find(...)\n",
      " |      S.find(sub[, start[, end]]) -> int\n",
      " |      \n",
      " |      Return the lowest index in S where substring sub is found,\n",
      " |      such that sub is contained within S[start:end].  Optional\n",
      " |      arguments start and end are interpreted as in slice notation.\n",
      " |      \n",
      " |      Return -1 on failure.\n",
      " |  \n",
      " |  format(...)\n",
      " |      S.format(*args, **kwargs) -> str\n",
      " |      \n",
      " |      Return a formatted version of S, using substitutions from args and kwargs.\n",
      " |      The substitutions are identified by braces ('{' and '}').\n",
      " |  \n",
      " |  format_map(...)\n",
      " |      S.format_map(mapping) -> str\n",
      " |      \n",
      " |      Return a formatted version of S, using substitutions from mapping.\n",
      " |      The substitutions are identified by braces ('{' and '}').\n",
      " |  \n",
      " |  index(...)\n",
      " |      S.index(sub[, start[, end]]) -> int\n",
      " |      \n",
      " |      Like S.find() but raise ValueError when the substring is not found.\n",
      " |  \n",
      " |  isalnum(...)\n",
      " |      S.isalnum() -> bool\n",
      " |      \n",
      " |      Return True if all characters in S are alphanumeric\n",
      " |      and there is at least one character in S, False otherwise.\n",
      " |  \n",
      " |  isalpha(...)\n",
      " |      S.isalpha() -> bool\n",
      " |      \n",
      " |      Return True if all characters in S are alphabetic\n",
      " |      and there is at least one character in S, False otherwise.\n",
      " |  \n",
      " |  isdecimal(...)\n",
      " |      S.isdecimal() -> bool\n",
      " |      \n",
      " |      Return True if there are only decimal characters in S,\n",
      " |      False otherwise.\n",
      " |  \n",
      " |  isdigit(...)\n",
      " |      S.isdigit() -> bool\n",
      " |      \n",
      " |      Return True if all characters in S are digits\n",
      " |      and there is at least one character in S, False otherwise.\n",
      " |  \n",
      " |  isidentifier(...)\n",
      " |      S.isidentifier() -> bool\n",
      " |      \n",
      " |      Return True if S is a valid identifier according\n",
      " |      to the language definition.\n",
      " |      \n",
      " |      Use keyword.iskeyword() to test for reserved identifiers\n",
      " |      such as \"def\" and \"class\".\n",
      " |  \n",
      " |  islower(...)\n",
      " |      S.islower() -> bool\n",
      " |      \n",
      " |      Return True if all cased characters in S are lowercase and there is\n",
      " |      at least one cased character in S, False otherwise.\n",
      " |  \n",
      " |  isnumeric(...)\n",
      " |      S.isnumeric() -> bool\n",
      " |      \n",
      " |      Return True if there are only numeric characters in S,\n",
      " |      False otherwise.\n",
      " |  \n",
      " |  isprintable(...)\n",
      " |      S.isprintable() -> bool\n",
      " |      \n",
      " |      Return True if all characters in S are considered\n",
      " |      printable in repr() or S is empty, False otherwise.\n",
      " |  \n",
      " |  isspace(...)\n",
      " |      S.isspace() -> bool\n",
      " |      \n",
      " |      Return True if all characters in S are whitespace\n",
      " |      and there is at least one character in S, False otherwise.\n",
      " |  \n",
      " |  istitle(...)\n",
      " |      S.istitle() -> bool\n",
      " |      \n",
      " |      Return True if S is a titlecased string and there is at least one\n",
      " |      character in S, i.e. upper- and titlecase characters may only\n",
      " |      follow uncased characters and lowercase characters only cased ones.\n",
      " |      Return False otherwise.\n",
      " |  \n",
      " |  isupper(...)\n",
      " |      S.isupper() -> bool\n",
      " |      \n",
      " |      Return True if all cased characters in S are uppercase and there is\n",
      " |      at least one cased character in S, False otherwise.\n",
      " |  \n",
      " |  join(...)\n",
      " |      S.join(iterable) -> str\n",
      " |      \n",
      " |      Return a string which is the concatenation of the strings in the\n",
      " |      iterable.  The separator between elements is S.\n",
      " |  \n",
      " |  ljust(...)\n",
      " |      S.ljust(width[, fillchar]) -> str\n",
      " |      \n",
      " |      Return S left-justified in a Unicode string of length width. Padding is\n",
      " |      done using the specified fill character (default is a space).\n",
      " |  \n",
      " |  lower(...)\n",
      " |      S.lower() -> str\n",
      " |      \n",
      " |      Return a copy of the string S converted to lowercase.\n",
      " |  \n",
      " |  lstrip(...)\n",
      " |      S.lstrip([chars]) -> str\n",
      " |      \n",
      " |      Return a copy of the string S with leading whitespace removed.\n",
      " |      If chars is given and not None, remove characters in chars instead.\n",
      " |  \n",
      " |  partition(...)\n",
      " |      S.partition(sep) -> (head, sep, tail)\n",
      " |      \n",
      " |      Search for the separator sep in S, and return the part before it,\n",
      " |      the separator itself, and the part after it.  If the separator is not\n",
      " |      found, return S and two empty strings.\n",
      " |  \n",
      " |  replace(...)\n",
      " |      S.replace(old, new[, count]) -> str\n",
      " |      \n",
      " |      Return a copy of S with all occurrences of substring\n",
      " |      old replaced by new.  If the optional argument count is\n",
      " |      given, only the first count occurrences are replaced.\n",
      " |  \n",
      " |  rfind(...)\n",
      " |      S.rfind(sub[, start[, end]]) -> int\n",
      " |      \n",
      " |      Return the highest index in S where substring sub is found,\n",
      " |      such that sub is contained within S[start:end].  Optional\n",
      " |      arguments start and end are interpreted as in slice notation.\n",
      " |      \n",
      " |      Return -1 on failure.\n",
      " |  \n",
      " |  rindex(...)\n",
      " |      S.rindex(sub[, start[, end]]) -> int\n",
      " |      \n",
      " |      Like S.rfind() but raise ValueError when the substring is not found.\n",
      " |  \n",
      " |  rjust(...)\n",
      " |      S.rjust(width[, fillchar]) -> str\n",
      " |      \n",
      " |      Return S right-justified in a string of length width. Padding is\n",
      " |      done using the specified fill character (default is a space).\n",
      " |  \n",
      " |  rpartition(...)\n",
      " |      S.rpartition(sep) -> (head, sep, tail)\n",
      " |      \n",
      " |      Search for the separator sep in S, starting at the end of S, and return\n",
      " |      the part before it, the separator itself, and the part after it.  If the\n",
      " |      separator is not found, return two empty strings and S.\n",
      " |  \n",
      " |  rsplit(...)\n",
      " |      S.rsplit(sep=None, maxsplit=-1) -> list of strings\n",
      " |      \n",
      " |      Return a list of the words in S, using sep as the\n",
      " |      delimiter string, starting at the end of the string and\n",
      " |      working to the front.  If maxsplit is given, at most maxsplit\n",
      " |      splits are done. If sep is not specified, any whitespace string\n",
      " |      is a separator.\n",
      " |  \n",
      " |  rstrip(...)\n",
      " |      S.rstrip([chars]) -> str\n",
      " |      \n",
      " |      Return a copy of the string S with trailing whitespace removed.\n",
      " |      If chars is given and not None, remove characters in chars instead.\n",
      " |  \n",
      " |  split(...)\n",
      " |      S.split(sep=None, maxsplit=-1) -> list of strings\n",
      " |      \n",
      " |      Return a list of the words in S, using sep as the\n",
      " |      delimiter string.  If maxsplit is given, at most maxsplit\n",
      " |      splits are done. If sep is not specified or is None, any\n",
      " |      whitespace string is a separator and empty strings are\n",
      " |      removed from the result.\n",
      " |  \n",
      " |  splitlines(...)\n",
      " |      S.splitlines([keepends]) -> list of strings\n",
      " |      \n",
      " |      Return a list of the lines in S, breaking at line boundaries.\n",
      " |      Line breaks are not included in the resulting list unless keepends\n",
      " |      is given and true.\n",
      " |  \n",
      " |  startswith(...)\n",
      " |      S.startswith(prefix[, start[, end]]) -> bool\n",
      " |      \n",
      " |      Return True if S starts with the specified prefix, False otherwise.\n",
      " |      With optional start, test S beginning at that position.\n",
      " |      With optional end, stop comparing S at that position.\n",
      " |      prefix can also be a tuple of strings to try.\n",
      " |  \n",
      " |  strip(...)\n",
      " |      S.strip([chars]) -> str\n",
      " |      \n",
      " |      Return a copy of the string S with leading and trailing\n",
      " |      whitespace removed.\n",
      " |      If chars is given and not None, remove characters in chars instead.\n",
      " |  \n",
      " |  swapcase(...)\n",
      " |      S.swapcase() -> str\n",
      " |      \n",
      " |      Return a copy of S with uppercase characters converted to lowercase\n",
      " |      and vice versa.\n",
      " |  \n",
      " |  title(...)\n",
      " |      S.title() -> str\n",
      " |      \n",
      " |      Return a titlecased version of S, i.e. words start with title case\n",
      " |      characters, all remaining cased characters have lower case.\n",
      " |  \n",
      " |  translate(...)\n",
      " |      S.translate(table) -> str\n",
      " |      \n",
      " |      Return a copy of the string S in which each character has been mapped\n",
      " |      through the given translation table. The table must implement\n",
      " |      lookup/indexing via __getitem__, for instance a dictionary or list,\n",
      " |      mapping Unicode ordinals to Unicode ordinals, strings, or None. If\n",
      " |      this operation raises LookupError, the character is left untouched.\n",
      " |      Characters mapped to None are deleted.\n",
      " |  \n",
      " |  upper(...)\n",
      " |      S.upper() -> str\n",
      " |      \n",
      " |      Return a copy of S converted to uppercase.\n",
      " |  \n",
      " |  zfill(...)\n",
      " |      S.zfill(width) -> str\n",
      " |      \n",
      " |      Pad a numeric string S with zeros on the left, to fill a field\n",
      " |      of the specified width. The string S is never truncated.\n",
      " |  \n",
      " |  ----------------------------------------------------------------------\n",
      " |  Static methods defined here:\n",
      " |  \n",
      " |  maketrans(x, y=None, z=None, /)\n",
      " |      Return a translation table usable for str.translate().\n",
      " |      \n",
      " |      If there is only one argument, it must be a dictionary mapping Unicode\n",
      " |      ordinals (integers) or characters to Unicode ordinals, strings or None.\n",
      " |      Character keys will be then converted to ordinals.\n",
      " |      If there are two arguments, they must be strings of equal length, and\n",
      " |      in the resulting dictionary, each character in x will be mapped to the\n",
      " |      character at the same position in y. If there is a third argument, it\n",
      " |      must be a string, whose characters will be mapped to None in the result.\n",
      "\n"
     ]
    }
   ],
   "source": [
    "help(str)"
   ]
  },
  {
   "cell_type": "markdown",
   "metadata": {},
   "source": [
    "Toutes ces opérations (ou méthodes) sont applicable à n'importe quelle chaîne\n",
    "de caractères. Pour y accéder, on ajoute un point suivi de l'appel de la\n",
    "fonction (ou méthode) à appliquer :\n",
    "\n",
    "    objet.methode()"
   ]
  },
  {
   "cell_type": "code",
   "execution_count": 2,
   "metadata": {},
   "outputs": [
    {
     "data": {
      "text/plain": [
       "'ALA'"
      ]
     },
     "execution_count": 2,
     "metadata": {},
     "output_type": "execute_result"
    }
   ],
   "source": [
    "x = \"Ala\"\n",
    "x.upper()"
   ]
  },
  {
   "cell_type": "code",
   "execution_count": 3,
   "metadata": {},
   "outputs": [
    {
     "data": {
      "text/plain": [
       "'ala'"
      ]
     },
     "execution_count": 3,
     "metadata": {},
     "output_type": "execute_result"
    }
   ],
   "source": [
    "x.lower()"
   ]
  },
  {
   "cell_type": "code",
   "execution_count": 4,
   "metadata": {},
   "outputs": [
    {
     "data": {
      "text/plain": [
       "'   Ala   '"
      ]
     },
     "execution_count": 4,
     "metadata": {},
     "output_type": "execute_result"
    }
   ],
   "source": [
    "x.center(9)"
   ]
  },
  {
   "cell_type": "markdown",
   "metadata": {},
   "source": [
    "Une fonction appliquée à un objet est appelée une méthode de l'objet. Il est\n",
    "important de comprendre le rôle du point. Dans ces situations, on lit de droite\n",
    "à gauche :\n",
    "\n",
    "* méthode `upper` appliquée à l'objet x\n",
    "* méthode `lower` appliquée à l'objet x\n",
    "* méthode `center` appliquée à l'objet x\n",
    "\n",
    "Le point sépare en quelque sorte un contenant et un contenu. On applique la\n",
    "méthode `upper` contenue dans la classe `str`.\n",
    "\n",
    "Encore une dernière chose importante, pour créer un nouvel objet, on appelle la\n",
    "classe de l'objet (dans le jargon technique on dit qu'on instancie un objet).\n",
    "L'objet ainsi créé est appelé une instance de la classe. Voyons par exemple ce\n",
    "que renvoient quelques classes de base :"
   ]
  },
  {
   "cell_type": "code",
   "execution_count": 5,
   "metadata": {},
   "outputs": [
    {
     "name": "stdout",
     "output_type": "stream",
     "text": [
      "<class 'int'>\n",
      "0\n"
     ]
    }
   ],
   "source": [
    "a = int()\n",
    "print(type(a))\n",
    "print(a)"
   ]
  },
  {
   "cell_type": "code",
   "execution_count": 6,
   "metadata": {},
   "outputs": [
    {
     "data": {
      "text/plain": [
       "''"
      ]
     },
     "execution_count": 6,
     "metadata": {},
     "output_type": "execute_result"
    }
   ],
   "source": [
    "str()"
   ]
  },
  {
   "cell_type": "code",
   "execution_count": 7,
   "metadata": {},
   "outputs": [
    {
     "data": {
      "text/plain": [
       "[]"
      ]
     },
     "execution_count": 7,
     "metadata": {},
     "output_type": "execute_result"
    }
   ],
   "source": [
    "list()"
   ]
  },
  {
   "cell_type": "code",
   "execution_count": 8,
   "metadata": {},
   "outputs": [
    {
     "data": {
      "text/plain": [
       "()"
      ]
     },
     "execution_count": 8,
     "metadata": {},
     "output_type": "execute_result"
    }
   ],
   "source": [
    "tuple()"
   ]
  },
  {
   "cell_type": "markdown",
   "metadata": {},
   "source": [
    "Une instance est donc une nouvelle valeur du type décrit par la classe.\n",
    "\n",
    "Pour résumer, nous avons vu les classes `int()`, `str()`, `tuple()` et `list()`.\n",
    "Nous avons vu que pour connaitre la classe décrivant une valeur (un objet),\n",
    "nous pouvions regarder son type avec la fonction `type()`. Pour créer une\n",
    "instance de la classe (un nouvel objet), on appelle la classe de la même manière\n",
    "que nous appelons une fonction, en ajoutant des parenthèses (). Par exemple :\n",
    "`int()`.\n",
    "\n",
    "La documentation de python détaille [les types de bases (ou build-in Types)](https://docs.python.org/3/library/stdtypes.html).\n",
    "\n",
    "## Définir une classe\n",
    "\n",
    "Les classes telles que `int` ou `str` font partie du langage Python et sont\n",
    "déjà définies, mais nous pouvons créer nos propres classes pour définir leur\n",
    "comportement. Cela s'appelle définir une classe.\n",
    "\n",
    "Il est aussi facile de définir une classe que de définir une fonction. En fait\n",
    "une classe n'est rien de plus qu'un ensemble de fonctions, appelées méthodes.\n",
    "Prenons par exemple une classe `Dog` qui contient une méthode `bark` (aboyer) :"
   ]
  },
  {
   "cell_type": "code",
   "execution_count": 9,
   "metadata": {
    "collapsed": true
   },
   "outputs": [],
   "source": [
    "class Dog:\n",
    "\n",
    "    def bark(self):\n",
    "        print(\"Woof! Woof!\")"
   ]
  },
  {
   "cell_type": "markdown",
   "metadata": {},
   "source": [
    "En voyant l'indentation, on comprend aisément que la fonction `bark()` est *contenue* dans \n",
    "la classe `Dog`.\n",
    "\n",
    "Les classes commencent par le mot clé `class`, suivi du nom de la classe.\n",
    "Par défaut, le nouveau type `Dog` est un nouveau type de l'ensemble\n",
    "des classes de type `object`. Ainsi, les instances de notre classe, c'est à dire\n",
    "les objets créés, seront de type `Dog` mais également du type plus général \n",
    "`object`. Pour les habitués de la programmation orientée objet, cela signifie\n",
    "que la classe `Dog` *hérite* de la classe `object`, mais laissons cela de côté\n",
    "pour l'instant.\n",
    "\n",
    "En fait c'est exactement pour cela qu'on dit que \"tout est objet en Python\". Car\n",
    "chaque classe est une spécialisation de la classe object de Python. C'est pourquoi\n",
    "quasiment chaque valeur est de type général object.\n",
    "\n",
    "Il est important de noter que chaque fonction (méthode) d'une classe doit prendre pour\n",
    "premier argument la valeur de l'objet duquel elle a été appelée. Nous l'appelons \n",
    "systématiquement `self` par convention. Dans notre exemple, nous avons une\n",
    "fonction appelée `bark()` (\"aboyer\" en anglais), qui comme vous le voyez n'a qu'un\n",
    "seul argument, `self`. \n",
    "\n",
    "Regardons comment elle fonctionne :"
   ]
  },
  {
   "cell_type": "code",
   "execution_count": 10,
   "metadata": {},
   "outputs": [
    {
     "name": "stdout",
     "output_type": "stream",
     "text": [
      "Woof! Woof!\n"
     ]
    }
   ],
   "source": [
    "my_new_pet = Dog()\n",
    "my_new_pet.bark()"
   ]
  },
  {
   "cell_type": "markdown",
   "metadata": {},
   "source": [
    "### Attributs des objets\n",
    "\n",
    "Outre les méthodes (les fonctions définies dans une classe), les objets peuvent\n",
    "également avoir des attributs. Par exemple :"
   ]
  },
  {
   "cell_type": "code",
   "execution_count": 11,
   "metadata": {},
   "outputs": [
    {
     "name": "stdout",
     "output_type": "stream",
     "text": [
      "Snoopy\n"
     ]
    }
   ],
   "source": [
    "my_new_pet = Dog()\n",
    "my_new_pet.name = \"Snoopy\"\n",
    "print(my_new_pet.name)"
   ]
  },
  {
   "cell_type": "markdown",
   "metadata": {},
   "source": [
    "Parfois nous souhaitons que tous les objets d'une classe aient un attribut. Par\n",
    "exemple tous les chiens doivent avoir un nom. Lors de la création de notre objet\n",
    "nous devons donc lui ajouter cet attribut et lui donner une valeur. Nous pouvons faire cela en\n",
    "créant une fonction, au nom spécial, appelée `__init__()` (le constructeur). Par\n",
    "exemple, voici comment attribuer un nom à notre chien :"
   ]
  },
  {
   "cell_type": "code",
   "execution_count": 12,
   "metadata": {
    "collapsed": true
   },
   "outputs": [],
   "source": [
    "class Dog:\n",
    "\n",
    "    def __init__(self, name):\n",
    "        self.name = name\n",
    "\n",
    "    def bark(self):\n",
    "        print(\"Woof! Woof!\")"
   ]
  },
  {
   "cell_type": "markdown",
   "metadata": {},
   "source": [
    "Dans la fonction `__init__()`, nous avons assigné une valeur à un nouvel\n",
    "attribut `name` de l'objet `self`. Comme expliqué précédemment, `self` est\n",
    "l'objet courant de la classe `Dog` que nous sommes en train de manipuler.\n",
    "\n",
    "**Remarque :** On retrouve le point qui comme pour les méthodes indique que\n",
    "l'attribut `name` est un attribut de `self` (le nom est contenu dans la classe).\n",
    "\n",
    "Nous pouvons maintenant utiliser cet attribut dans les autres méthodes :"
   ]
  },
  {
   "cell_type": "code",
   "execution_count": 13,
   "metadata": {
    "collapsed": true
   },
   "outputs": [],
   "source": [
    "class Dog:\n",
    "\n",
    "    def __init__(self, name):\n",
    "        self.name = name\n",
    "\n",
    "    def bark(self):\n",
    "        print(self.name, \" Woof! Woof!\")"
   ]
  },
  {
   "cell_type": "code",
   "execution_count": 14,
   "metadata": {},
   "outputs": [
    {
     "name": "stdout",
     "output_type": "stream",
     "text": [
      "Snoopy  Woof! Woof!\n",
      "Pluto  Woof! Woof!\n"
     ]
    }
   ],
   "source": [
    "snoopy = Dog(\"Snoopy\")\n",
    "pluto = Dog(\"Pluto\")\n",
    "snoopy.bark()\n",
    "pluto.bark()"
   ]
  },
  {
   "cell_type": "markdown",
   "metadata": {},
   "source": [
    "La fonction `__init__()` est appelée durant la création de l'objet. On l'appelle\n",
    "*constructeur*, car elle aide à la création de l'objet et lui donne un état de\n",
    "départ.\n",
    "\n",
    "Dans cet exemple, la fonction `__init__()` accepte deux arguments: `self` et\n",
    "`name`, mais quand on créé une instance de la classe `Dog`, nous ne spécifions\n",
    "que l'argument `name`, `self` est automatiquement spécifié par Python. Désormais,\n",
    "lorsque que nous instancions un nouvel objet `Dog`, celui-ci a un attribut :\n",
    "son nom."
   ]
  },
  {
   "cell_type": "markdown",
   "metadata": {},
   "source": [
    "<div class=\"alert alert-success\">\n",
    "    <b>Exercice :</b> Créer un objet <code>boat</code> qui a un nom et un pavillon. Écrire une méthode <code>ring</code> qui affiche le nom du bateau, son pavillon et le son du bateau.\n",
    "</div>"
   ]
  },
  {
   "cell_type": "code",
   "execution_count": 15,
   "metadata": {
    "collapsed": true
   },
   "outputs": [],
   "source": [
    "class Boat:\n",
    "    \"\"\" This class describes a Boat \"\"\"\n",
    "\n",
    "    def __init__(self, name, flag=\"france\"):\n",
    "        \"\"\" Name is mandatory, flag is optional (default is france)\"\"\"\n",
    "        self.name = name\n",
    "        self.flag = flag\n",
    "\n",
    "    def ring(self):\n",
    "        print(self.name + \" with '\" + self.flag + \"' flag rings TUUUT TUUUT!\")"
   ]
  },
  {
   "cell_type": "code",
   "execution_count": 16,
   "metadata": {},
   "outputs": [
    {
     "name": "stdout",
     "output_type": "stream",
     "text": [
      "Titanic with 'White Star Line' flag rings TUUUT TUUUT!\n"
     ]
    }
   ],
   "source": [
    "titanic = Boat(name=\"Titanic\", flag=\"White Star Line\")\n",
    "titanic.ring()"
   ]
  },
  {
   "cell_type": "markdown",
   "metadata": {},
   "source": [
    "## Héritage\n",
    "\n",
    "Dans le chapitre précédent, nous avons créé une classe Dog comme sous-ensemble\n",
    "du type `object`, mais ce n'est pas la seule possibilité. Nous pouvons également\n",
    "dire que Dog est aussi un Animal :"
   ]
  },
  {
   "cell_type": "code",
   "execution_count": 17,
   "metadata": {
    "collapsed": true
   },
   "outputs": [],
   "source": [
    "class Animal:\n",
    "    pass\n",
    "\n",
    "class Dog(Animal):\n",
    "\n",
    "    def __init__(self, name):\n",
    "        self.name = name\n",
    "\n",
    "    def bark(self):\n",
    "        print(self.name, \" Woof! Woof!\")"
   ]
  },
  {
   "cell_type": "markdown",
   "metadata": {},
   "source": [
    "Nous avons donc une nouvelle classe `Animal`, qui hérite du type `object`.\n",
    "`Dog` hérite du type `Animal`. En d'autres termes :\n",
    "\n",
    "* Tout `Animal` est un `object`\n",
    "* Tout `Dog` est un `Animal`, tout `Dog` est un `object`\n",
    "\n",
    "Ainsi nous pouvons décrire des comportements communs à tous les Animaux dans\n",
    "notre classe `Animal`, par exemple le fait de courir, et laisser dans la classe\n",
    "`Dog` des comportements plus spécifiques, comme aboyer:"
   ]
  },
  {
   "cell_type": "code",
   "execution_count": 18,
   "metadata": {
    "collapsed": true
   },
   "outputs": [],
   "source": [
    "class Animal:\n",
    "    \n",
    "    def run(self, distance):\n",
    "        print(\"Run \", distance, \" meters.\")\n",
    "\n",
    "class Dog(Animal):\n",
    "\n",
    "    def __init__(self, name):\n",
    "        self.name = name\n",
    "\n",
    "    def bark(self):\n",
    "        print(self.name, \" Woof! Woof!\")"
   ]
  },
  {
   "cell_type": "markdown",
   "metadata": {},
   "source": [
    "La méthode `run` sera disponible pour tous les sous-types de `Animal` (comme\n",
    "les objets de type `Dog` par exemple) :"
   ]
  },
  {
   "cell_type": "code",
   "execution_count": 19,
   "metadata": {},
   "outputs": [
    {
     "name": "stdout",
     "output_type": "stream",
     "text": [
      "Run  10  meters.\n"
     ]
    }
   ],
   "source": [
    "scooby = Dog(\"Scooby\")\n",
    "scooby.run(10)"
   ]
  },
  {
   "cell_type": "markdown",
   "metadata": {},
   "source": [
    "<div class=\"alert alert-success\">\n",
    "<b>Exercice :</b> Créer un objet <code>Snake</code> qui a un nom et une couleur. Créer ensuite deux classes filles:\n",
    "\n",
    "<ul>\n",
    "    <li>Classe RobinSnake</li>\n",
    "    <ul>\n",
    "        <li>Le serpent peut siffler (hiss)</li>\n",
    "        <li>Le serpent peut conseiller le roi</li>\n",
    "    </ul>\n",
    "    <li>Classe JungleSnake</li>\n",
    "    <ul>\n",
    "        <li>Le serpent peut hypnotiser</li>\n",
    "        <li>Le serpent peut piéger quelqu'un</li>\n",
    "    </ul>\n",
    "</ul>\n",
    "\n",
    "<p>Vous êtes libre de ce que chaque méthode affiche ou retourne comme information.</p>\n",
    "</div>"
   ]
  },
  {
   "cell_type": "code",
   "execution_count": 20,
   "metadata": {
    "collapsed": true
   },
   "outputs": [],
   "source": [
    "class Snake:\n",
    "    \"\"\" This class describes a snake \"\"\"\n",
    "    \n",
    "    def __init__(self, name, color=\"green\"):\n",
    "        \"\"\" constructor, name is mandatory, color is optional (default is green) \"\"\"\n",
    "        self.name = name\n",
    "        self.color = color\n",
    "        \n",
    "class RobinSnake(Snake):\n",
    "    \"\"\" This class describes a robin snake \"\"\"\n",
    "    \n",
    "    def hiss(self):\n",
    "        print(self.name, \"tssss tssss !\")\n",
    "\n",
    "    def advise(self, somebody, message):\n",
    "        print(self.name, \"advise\", somebody, \":\")\n",
    "        print(\"\\tYou should\", message)\n",
    "        \n",
    "class JungleSnake(Snake):\n",
    "    \"\"\" This class describes a jungle snake \"\"\"\n",
    "    \n",
    "    def hypnotize(self, somebody):\n",
    "        print(self.name, \"hypnotize\", somebody)\n",
    "\n",
    "    def trap(self, somebody):\n",
    "        print(self.name, \"trap\", somebody)\n"
   ]
  },
  {
   "cell_type": "code",
   "execution_count": 21,
   "metadata": {},
   "outputs": [
    {
     "name": "stdout",
     "output_type": "stream",
     "text": [
      "Sir Hiss tssss tssss !\n",
      "Sir Hiss advise Prince John :\n",
      "\tYou should take care about these fortune tellers\n",
      "Sir Hiss tssss tssss !\n"
     ]
    }
   ],
   "source": [
    "sirHiss = RobinSnake(\"Sir Hiss\")\n",
    "sirHiss.hiss()\n",
    "sirHiss.advise(\"Prince John\", \"take care about these fortune tellers\")\n",
    "sirHiss.hiss()"
   ]
  },
  {
   "cell_type": "code",
   "execution_count": 22,
   "metadata": {},
   "outputs": [
    {
     "name": "stdout",
     "output_type": "stream",
     "text": [
      "Kaa trap Mowgli\n",
      "Kaa hypnotize Mowgli\n"
     ]
    }
   ],
   "source": [
    "kaa = JungleSnake(\"Kaa\")\n",
    "kaa.trap(\"Mowgli\")\n",
    "kaa.hypnotize(\"Mowgli\")"
   ]
  },
  {
   "cell_type": "markdown",
   "metadata": {},
   "source": [
    "## Arbre de noël\n",
    "\n",
    "<div class=\"alert alert-success\" style=\"margin-top:20px;\">\n",
    "Revenons à l'arbre de noël que nous avons vu au chapitre précédent.\n",
    "Écrire une classe XMASTree qui pour une taille donnée et lors de l'appel de\n",
    "la méthode `draw()` va afficher les résultats suivants (pour les tailles 1, 2\n",
    "et 3) :\n",
    "</div>\n",
    "\n",
    "```\n",
    "  *\n",
    " /|\\\n",
    "/_|_\\\n",
    "  |\n",
    "```\n",
    "\n",
    "```\n",
    "   *\n",
    "  /|\\\n",
    " /_|_\\\n",
    "  /|\\\n",
    " / | \\\n",
    "/__|__\\\n",
    "   |\n",
    "```\n",
    "\n",
    "```\n",
    "    *\n",
    "   /|\\\n",
    "  /_|_\\\n",
    "   /|\\\n",
    "  / | \\\n",
    " /__|__\\\n",
    "   /|\\\n",
    "  / | \\\n",
    " /  |  \\\n",
    "/___|___\\\n",
    "    |\n",
    "```"
   ]
  },
  {
   "cell_type": "code",
   "execution_count": 23,
   "metadata": {},
   "outputs": [],
   "source": [
    "class XMASTree:\n",
    "    \"\"\" This class describes a XMas tree \"\"\"\n",
    "    \n",
    "    def __init__(self, size):\n",
    "        self.size = size\n",
    "        self.total_width = 2 * (self.size + 1) + 1\n",
    "\n",
    "    def to_str(self):\n",
    "        \"\"\" make a string representing the tree \"\"\"\n",
    "        \n",
    "        # star at the top\n",
    "        lines = \"*\".center(self.total_width) + \"\\n\"\n",
    "\n",
    "        # print all segments\n",
    "        for segment in range(1, self.size + 1):\n",
    "\n",
    "            # step number of each segment\n",
    "            nstep = segment + 1\n",
    "            # remark: the half width of a segment is equal to the step number\n",
    "            # we use this to adjust the width\n",
    "            for step in range(1, nstep + 1):\n",
    "                if step == nstep:\n",
    "                    # the last step\n",
    "                    line = \"/\" + segment * \"_\" + \"|\" + segment * \"_\" + \"\\\\\"\n",
    "                else:\n",
    "                    # other steps\n",
    "                    line = \"/\".ljust(step) + \"|\" + \"\\\\\".rjust(step)\n",
    "                lines += line.center(self.total_width) + \"\\n\"\n",
    "\n",
    "        # bottom of the tree\n",
    "        lines += \"|\".center(self.total_width) + \"\\n\"\n",
    "        \n",
    "        # return string\n",
    "        return lines\n",
    "    \n",
    "    def draw(self):\n",
    "        \"\"\" print the tree \"\"\"\n",
    "        print(self.to_str())"
   ]
  },
  {
   "cell_type": "code",
   "execution_count": 24,
   "metadata": {},
   "outputs": [
    {
     "name": "stdout",
     "output_type": "stream",
     "text": [
      "    *    \n",
      "   /|\\   \n",
      "  /_|_\\  \n",
      "   /|\\   \n",
      "  / | \\  \n",
      " /__|__\\ \n",
      "   /|\\   \n",
      "  / | \\  \n",
      " /  |  \\ \n",
      "/___|___\\\n",
      "    |    \n",
      "\n"
     ]
    }
   ],
   "source": [
    "tree = XMASTree(3)\n",
    "tree.draw()"
   ]
  }
 ],
 "metadata": {
  "kernelspec": {
   "display_name": "Python 3",
   "language": "python",
   "name": "python3"
  },
  "language_info": {
   "codemirror_mode": {
    "name": "ipython",
    "version": 3
   },
   "file_extension": ".py",
   "mimetype": "text/x-python",
   "name": "python",
   "nbconvert_exporter": "python",
   "pygments_lexer": "ipython3",
   "version": "3.6.4"
  }
 },
 "nbformat": 4,
 "nbformat_minor": 1
}
