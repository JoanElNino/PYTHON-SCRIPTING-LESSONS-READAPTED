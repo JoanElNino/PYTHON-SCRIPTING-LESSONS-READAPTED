{
 "cells": [
  {
   "cell_type": "markdown",
   "metadata": {},
   "source": [
    "# La calculatrice python\n",
    "\n",
    "L'objectif de ce notebook est de prendre en main le jupyter notebook et les opérations de base de python :\n",
    "\n",
    "1. Les opérations de base\n",
    "2. Variables et affectation \n",
    "3. Vocabulaire\n",
    "4. Obtenir de l'aide !\n",
    "5. Savoir lire et écrire\n",
    "\n",
    "Rappel pour exécuter une cellule, faire `ctrl + Entrée` ou `Maj + Entrée`.\n",
    "\n",
    "## 1. Les opérateurs de base\n",
    "\n",
    "### Opérateurs mathématiques\n",
    "\n",
    "Il s'agit des opération de calculs de base : addition, soustraction, division et multiplication."
   ]
  },
  {
   "cell_type": "markdown",
   "metadata": {},
   "source": [
    "<div class=\"alert alert-success\">\n",
    "<h3>Exercices :</h3>\n",
    "    \n",
    "<p>Lisez les exemples et faites vos propres essais.</p>\n",
    "</div>"
   ]
  },
  {
   "cell_type": "markdown",
   "metadata": {},
   "source": [
    "#### Addition"
   ]
  },
  {
   "cell_type": "code",
   "execution_count": null,
   "metadata": {},
   "outputs": [],
   "source": [
    "3 + 2"
   ]
  },
  {
   "cell_type": "code",
   "execution_count": null,
   "metadata": {},
   "outputs": [],
   "source": []
  },
  {
   "cell_type": "markdown",
   "metadata": {},
   "source": [
    "#### Soustraction"
   ]
  },
  {
   "cell_type": "code",
   "execution_count": null,
   "metadata": {},
   "outputs": [],
   "source": [
    "5 - 1"
   ]
  },
  {
   "cell_type": "code",
   "execution_count": null,
   "metadata": {},
   "outputs": [],
   "source": []
  },
  {
   "cell_type": "markdown",
   "metadata": {},
   "source": [
    "#### Multiplication"
   ]
  },
  {
   "cell_type": "code",
   "execution_count": null,
   "metadata": {},
   "outputs": [],
   "source": [
    "3 * 2"
   ]
  },
  {
   "cell_type": "code",
   "execution_count": null,
   "metadata": {},
   "outputs": [],
   "source": []
  },
  {
   "cell_type": "markdown",
   "metadata": {},
   "source": [
    "#### Division\n",
    "\n",
    "Attention il existe deux types de division.\n",
    "\n",
    "* La division standard `/`\n",
    "* La division entière `//`"
   ]
  },
  {
   "cell_type": "code",
   "execution_count": null,
   "metadata": {},
   "outputs": [],
   "source": [
    "3 / 2"
   ]
  },
  {
   "cell_type": "code",
   "execution_count": null,
   "metadata": {},
   "outputs": [],
   "source": []
  },
  {
   "cell_type": "code",
   "execution_count": null,
   "metadata": {},
   "outputs": [],
   "source": [
    "3 // 2"
   ]
  },
  {
   "cell_type": "code",
   "execution_count": null,
   "metadata": {},
   "outputs": [],
   "source": []
  },
  {
   "cell_type": "code",
   "execution_count": null,
   "metadata": {},
   "outputs": [],
   "source": [
    "1 // 2"
   ]
  },
  {
   "cell_type": "code",
   "execution_count": null,
   "metadata": {},
   "outputs": [],
   "source": []
  },
  {
   "cell_type": "markdown",
   "metadata": {},
   "source": [
    "### Opérateurs de comparaison\n",
    "\n",
    "Le résultat de ces opérations est ce qu'on appelle un `booleen`, c'est à dire Vrai ou Faux.\n",
    "\n",
    "#### Égalité\n",
    "\n",
    "`==`"
   ]
  },
  {
   "cell_type": "code",
   "execution_count": null,
   "metadata": {},
   "outputs": [],
   "source": [
    "1 == 3"
   ]
  },
  {
   "cell_type": "code",
   "execution_count": null,
   "metadata": {},
   "outputs": [],
   "source": [
    "2 == 2"
   ]
  },
  {
   "cell_type": "code",
   "execution_count": null,
   "metadata": {},
   "outputs": [],
   "source": []
  },
  {
   "cell_type": "code",
   "execution_count": null,
   "metadata": {},
   "outputs": [],
   "source": []
  },
  {
   "cell_type": "markdown",
   "metadata": {},
   "source": [
    "#### Différent\n",
    "\n",
    "!="
   ]
  },
  {
   "cell_type": "code",
   "execution_count": null,
   "metadata": {},
   "outputs": [],
   "source": [
    "1 != 3"
   ]
  },
  {
   "cell_type": "code",
   "execution_count": null,
   "metadata": {},
   "outputs": [],
   "source": [
    "2 != 2"
   ]
  },
  {
   "cell_type": "code",
   "execution_count": null,
   "metadata": {},
   "outputs": [],
   "source": []
  },
  {
   "cell_type": "code",
   "execution_count": null,
   "metadata": {},
   "outputs": [],
   "source": []
  },
  {
   "cell_type": "markdown",
   "metadata": {},
   "source": [
    "#### Comparaison\n",
    "\n",
    "`>`, `>=`, `<`, `<=`\n"
   ]
  },
  {
   "cell_type": "code",
   "execution_count": null,
   "metadata": {},
   "outputs": [],
   "source": [
    "1 > 2"
   ]
  },
  {
   "cell_type": "code",
   "execution_count": null,
   "metadata": {},
   "outputs": [],
   "source": [
    "2 >= 2"
   ]
  },
  {
   "cell_type": "code",
   "execution_count": null,
   "metadata": {},
   "outputs": [],
   "source": [
    "4 < 10"
   ]
  },
  {
   "cell_type": "code",
   "execution_count": null,
   "metadata": {},
   "outputs": [],
   "source": []
  },
  {
   "cell_type": "code",
   "execution_count": null,
   "metadata": {},
   "outputs": [],
   "source": []
  },
  {
   "cell_type": "code",
   "execution_count": null,
   "metadata": {},
   "outputs": [],
   "source": []
  },
  {
   "cell_type": "markdown",
   "metadata": {},
   "source": [
    "<div class=\"alert alert-success\">\n",
    "<h3>Exercice :</h3>\n",
    "\n",
    "<ul>\n",
    "<li> Au moment du départ, les divers cadrans d’une automobile marquent respectivement : </li>\n",
    "    <ul>\n",
    "    <li> 7h50</li>\n",
    "    <li> 14 739 km</li>\n",
    "    <li> 20 litres</li>\n",
    "    </ul>\n",
    "<li> En cours de route, l'automobiliste s'arrête pendant 30 minutes pour prendre 35 litres d’essence et se reposer.<li>\n",
    "<li> À l'arrivée, les compteurs indiquent :<li>\n",
    "    <ul>\n",
    "    <li> 13h20</li>\n",
    "    <li> 15 124 km</li>\n",
    "    <li> 10 litres</li>\n",
    "    </ul>\n",
    "</ul>\n",
    "\n",
    "<h4>Questions</h4>\n",
    "\n",
    "<ol>\n",
    "<li> Quelle distance l'auto a-t-elle parcourue ?</li>\n",
    "<li> Durant combien de temps a-t-elle roulé ?</li>\n",
    "<li> Quelle a été sa vitesse moyenne (sans compter l'arrêt) ?</li>\n",
    "<li> Quelle est la consomation pour ce trajet ?</li>\n",
    "</ol>\n",
    "\n",
    "</div>"
   ]
  },
  {
   "cell_type": "code",
   "execution_count": null,
   "metadata": {},
   "outputs": [],
   "source": []
  },
  {
   "cell_type": "code",
   "execution_count": null,
   "metadata": {},
   "outputs": [],
   "source": []
  },
  {
   "cell_type": "code",
   "execution_count": null,
   "metadata": {},
   "outputs": [],
   "source": []
  },
  {
   "cell_type": "code",
   "execution_count": null,
   "metadata": {},
   "outputs": [],
   "source": []
  },
  {
   "cell_type": "markdown",
   "metadata": {},
   "source": [
    "## 2. Variables et affectations\n",
    "\n",
    "Une *variable* est un nom utilisé pour faire référence à une zone de la mémoire de l'ordinateur. On peut voir une variable comme un *conteneur* ou une *boite* avec une étiquette (un nom) dans lequel on sauvegarde des données, des informations...\n",
    "\n",
    "Pour *affecter* une valeur à une variable on utilise le signe `=`. Ainsi\n",
    "\n",
    "    a = 3\n",
    "    \n",
    "se lit `a` reçoit la valeur `3`."
   ]
  },
  {
   "cell_type": "code",
   "execution_count": null,
   "metadata": {},
   "outputs": [],
   "source": [
    "a = 3"
   ]
  },
  {
   "cell_type": "markdown",
   "metadata": {},
   "source": [
    "On vérifie que a contient la valeur 3"
   ]
  },
  {
   "cell_type": "code",
   "execution_count": null,
   "metadata": {},
   "outputs": [],
   "source": [
    "a"
   ]
  },
  {
   "cell_type": "markdown",
   "metadata": {},
   "source": [
    "On peut réaliser les mêmes opérations que précédemment avec des variables :"
   ]
  },
  {
   "cell_type": "code",
   "execution_count": null,
   "metadata": {},
   "outputs": [],
   "source": [
    "a = 3\n",
    "b = 2\n",
    "c = a + b\n",
    "c"
   ]
  },
  {
   "cell_type": "markdown",
   "metadata": {},
   "source": [
    "* a reçoit 3\n",
    "* b reçoit 2\n",
    "* c reçoit a + b\n",
    "* afficher c"
   ]
  },
  {
   "cell_type": "markdown",
   "metadata": {},
   "source": [
    "<div class=\"alert alert-success\">\n",
    "<h3>Exercices : </h3>\n",
    "\n",
    "<ul>\n",
    "    <li>Affecter des valeurs à des variables</li>\n",
    "    <li>Utiliser ces variables pour faire des opérations</li>\n",
    "</ul>\n",
    "</div>"
   ]
  },
  {
   "cell_type": "code",
   "execution_count": null,
   "metadata": {},
   "outputs": [],
   "source": []
  },
  {
   "cell_type": "code",
   "execution_count": null,
   "metadata": {},
   "outputs": [],
   "source": []
  },
  {
   "cell_type": "code",
   "execution_count": null,
   "metadata": {},
   "outputs": [],
   "source": []
  },
  {
   "cell_type": "markdown",
   "metadata": {},
   "source": [
    "<div class=\"alert alert-danger\">\n",
    "<b>Attention : </b> Certains noms sont réservés car il font partie du langage python.\n",
    "</div>"
   ]
  },
  {
   "cell_type": "code",
   "execution_count": null,
   "metadata": {},
   "outputs": [],
   "source": [
    "return = 3"
   ]
  },
  {
   "cell_type": "markdown",
   "metadata": {},
   "source": [
    "### Choisir le bon nom !\n",
    "\n",
    "Il est très important de choisir des noms adéquats pour faciliter la lecture et la compréhension d'un programme.\n",
    "\n",
    "* Choisir des noms explicites\n",
    "* Attention à la casse (majuscule minuscule)\n",
    "* Le underscore en début peut avoir un sens.\n",
    "\n",
    "### Variété de contenu\n",
    "\n",
    "Les nombres ne sont pas les seuls objets en informatique. On parle du type de la variable. Voici les types de base :\n",
    "\n",
    "* Les entiers (*integer*) : `1`, `0`, `-97833`\n",
    "* Les flotants (*float*) : `1.`, `3.14`, `1.54e-10`\n",
    "* Les chaines de caractères (string) : `\"coucou\"`, `\"je m'endort !\"` **(Toujours avec des guillemets)**\n",
    "* Les varialbes logiques (bool) : `True`, `False` **(Attension à la majuscule)**\n",
    "\n",
    "Testons nos variables pour voir leur type, on utilise la fonction `type()` :"
   ]
  },
  {
   "cell_type": "code",
   "execution_count": null,
   "metadata": {},
   "outputs": [],
   "source": [
    "i = 1\n",
    "type(i)"
   ]
  },
  {
   "cell_type": "code",
   "execution_count": null,
   "metadata": {},
   "outputs": [],
   "source": [
    "x = 3.14\n",
    "type(x)"
   ]
  },
  {
   "cell_type": "code",
   "execution_count": null,
   "metadata": {},
   "outputs": [],
   "source": [
    "mot = \"bonjour !\"\n",
    "type(mot)"
   ]
  },
  {
   "cell_type": "code",
   "execution_count": null,
   "metadata": {},
   "outputs": [],
   "source": [
    "test = True\n",
    "type(test)"
   ]
  },
  {
   "cell_type": "markdown",
   "metadata": {},
   "source": [
    "Il existe beaucoup d'autres types, on peut même créer les siens, mais c'est une autre histoire !\n",
    "\n",
    "#### Petit aparté \n",
    "\n",
    "* En python la déclaration des variables est *implicite*\n",
    "* Python est un langage à *typage dynamique fort*, le type de la variable s'adapte au contenu\n",
    "\n",
    "## 3. Vocabulaire\n",
    "\n",
    "Quelques rappels de ce qui a été dit pour fixer le vocabulaire :\n",
    "\n",
    "**Affectation :** Le signe `=` sert à affecter une valeur à une variable.\n",
    "\n",
    "**Comparaison :** La comparaison renvoie Vrai ou Faux (un booléen).\n",
    "\n",
    "**Expressions ou instructions :** Portion de code que python peut évaluer pour obtenir une valeur.\n",
    "\n",
    "**Identificateurs :** On distingue les identificateurs réservés à python qui définissent le langage et les variables qui sont des identificateurs associés à une valeur."
   ]
  },
  {
   "cell_type": "markdown",
   "metadata": {},
   "source": [
    "<div class=\"alert alert-success\">\n",
    "<h3>Exercice : </h3>\n",
    "\n",
    "<p>Reprendre l'exercice précédent en utilisant des variables.</p>\n",
    "\n",
    "<ul>\n",
    "<li> Au moment du départ, les divers cadrans d’une automobile marquent respectivement : </li>\n",
    "    <ul>\n",
    "    <li> 7h50</li>\n",
    "    <li> 14 739 km</li>\n",
    "    <li> 20 litres</li>\n",
    "    </ul>\n",
    "<li> En cours de route, l'automobiliste s'arrête pendant 30 minutes pour prendre 35 litres d’essence et se reposer.<li>\n",
    "<li> À l'arrivée, les compteurs indiquent :<li>\n",
    "    <ul>\n",
    "    <li> 13h20</li>\n",
    "    <li> 15 124 km</li>\n",
    "    <li> 10 litres</li>\n",
    "    </ul>\n",
    "</ul>\n",
    "\n",
    "<h4>Questions</h4>\n",
    "\n",
    "<ol>\n",
    "<li> Quelle distance l'auto a-t-elle parcourue ?</li>\n",
    "<li> Durant combien de temps a-t-elle roulé ?</li>\n",
    "<li> Quelle a été sa vitesse moyenne (sans compter l'arrêt) ?</li>\n",
    "<li> Quelle est la consomation pour ce trajet ?</li>\n",
    "</ol>\n",
    "\n",
    "</div>"
   ]
  },
  {
   "cell_type": "code",
   "execution_count": null,
   "metadata": {},
   "outputs": [],
   "source": []
  },
  {
   "cell_type": "code",
   "execution_count": null,
   "metadata": {},
   "outputs": [],
   "source": []
  },
  {
   "cell_type": "code",
   "execution_count": null,
   "metadata": {},
   "outputs": [],
   "source": []
  },
  {
   "cell_type": "markdown",
   "metadata": {},
   "source": [
    "## 4. Obtenir de l'aide !\n",
    "\n",
    "Un des avantages de python est que les documentations sont le plus souvent de bonne qualité. Il faut donc en profiter et il est important de savoir lire une documentation.\n",
    "\n",
    "Dans `jupyter`, on accède à la documentation avec `?` ou avec `help()`. Pour l'instant vous connaissez peu de chose. Vous pouvez essayer avec  `type` mais le résultat est assez technique."
   ]
  },
  {
   "cell_type": "code",
   "execution_count": null,
   "metadata": {},
   "outputs": [],
   "source": [
    "type?"
   ]
  },
  {
   "cell_type": "markdown",
   "metadata": {},
   "source": [
    "On remarque la petit fenêtre qui s'ouvre en bas de la page. La croix permet de la fermer alors que l'autre bouton permet de la conserver dans un onglet."
   ]
  },
  {
   "cell_type": "code",
   "execution_count": null,
   "metadata": {
    "scrolled": true
   },
   "outputs": [],
   "source": [
    "help(type)"
   ]
  },
  {
   "cell_type": "code",
   "execution_count": null,
   "metadata": {},
   "outputs": [],
   "source": [
    "help(4)"
   ]
  },
  {
   "cell_type": "markdown",
   "metadata": {},
   "source": [
    "jupyter et son moteur (le noyau), ipython, disposent également de commandes magiques qui commencent par un %. Pour obtenir la liste des commandes magiques utilisez `%quickref`. Parmi elles, on utilisera plus tard les commandes `%matplotlib`, `%pylab`, entre autres."
   ]
  },
  {
   "cell_type": "code",
   "execution_count": null,
   "metadata": {},
   "outputs": [],
   "source": [
    "%quickref"
   ]
  },
  {
   "cell_type": "markdown",
   "metadata": {},
   "source": [
    "La commande `%whos` donne la liste des variables que vous avez utilisées et la valeur qu'elles contiennent :"
   ]
  },
  {
   "cell_type": "code",
   "execution_count": null,
   "metadata": {},
   "outputs": [],
   "source": [
    "%whos"
   ]
  },
  {
   "cell_type": "markdown",
   "metadata": {},
   "source": [
    "## 4. Savoir lire et écrire\n",
    "\n",
    "Ou plutôt : la gestion des entrées/sorties. Cet aspect est plus important lors de l'écriture de programmes dans un fichier. Dans le notebook, nous avons déjà vu qu'il suffit d'entrer le nom de la variable pour afficher son contenu.\n",
    "\n",
    "### Écrire\n",
    "\n",
    "Pour écrire, on utilise la fonction `print()`."
   ]
  },
  {
   "cell_type": "code",
   "execution_count": null,
   "metadata": {},
   "outputs": [],
   "source": [
    "a = 2\n",
    "b = 5\n",
    "print(\"somme a + b = \", a + b)"
   ]
  },
  {
   "cell_type": "code",
   "execution_count": null,
   "metadata": {},
   "outputs": [],
   "source": [
    "a = 2\n",
    "print(a)"
   ]
  },
  {
   "cell_type": "markdown",
   "metadata": {},
   "source": [
    "<div class=\"alert alert-success\">\n",
    "<h4>Exercice : </h4> Afficher la documentation de la fonction print.\n",
    "</div>"
   ]
  },
  {
   "cell_type": "code",
   "execution_count": null,
   "metadata": {},
   "outputs": [],
   "source": []
  },
  {
   "cell_type": "markdown",
   "metadata": {},
   "source": [
    "<div class=\"alert alert-success\">\n",
    "<h4>Exercice : </h4> \n",
    "\n",
    "<ul>\n",
    "<li>Enregistrer deux mots dans deux variables</li>\n",
    "<li>Avec print, afficher les mots séparés par un tiret</li>\n",
    "</ul>\n",
    "</div>"
   ]
  },
  {
   "cell_type": "code",
   "execution_count": null,
   "metadata": {},
   "outputs": [],
   "source": []
  },
  {
   "cell_type": "markdown",
   "metadata": {},
   "source": [
    "### Lire\n",
    "\n",
    "* Pour lire, on utilise la fonction `input`\n",
    "* **ATTENTION** on lit toujours une chaîne de caractères"
   ]
  },
  {
   "cell_type": "code",
   "execution_count": null,
   "metadata": {},
   "outputs": [],
   "source": [
    "resultat = input(\"Entrer une valeur : \")\n",
    "resultat"
   ]
  },
  {
   "cell_type": "markdown",
   "metadata": {},
   "source": [
    "<div class=\"alert alert-success\">\n",
    "<h4>Exercice : </h4> \n",
    "\n",
    "<ul>\n",
    "<li>Lire une valeur que l'on demande à l'utilisateur.</li>\n",
    "<li>Afficher la valeur</li>\n",
    "<li>Vérifier le type de la valeur (avec type)</li>\n",
    "</ul>\n",
    "</div>"
   ]
  },
  {
   "cell_type": "code",
   "execution_count": null,
   "metadata": {},
   "outputs": [],
   "source": []
  },
  {
   "cell_type": "code",
   "execution_count": null,
   "metadata": {},
   "outputs": [],
   "source": []
  }
 ],
 "metadata": {
  "kernelspec": {
   "display_name": "Python 3",
   "language": "python",
   "name": "python3"
  },
  "language_info": {
   "codemirror_mode": {
    "name": "ipython",
    "version": 3
   },
   "file_extension": ".py",
   "mimetype": "text/x-python",
   "name": "python",
   "nbconvert_exporter": "python",
   "pygments_lexer": "ipython3",
   "version": "3.10.12"
  }
 },
 "nbformat": 4,
 "nbformat_minor": 1
}
